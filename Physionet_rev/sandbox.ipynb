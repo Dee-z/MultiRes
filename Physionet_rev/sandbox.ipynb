{
 "cells": [
  {
   "cell_type": "code",
   "execution_count": 136,
   "metadata": {},
   "outputs": [
    {
     "name": "stdout",
     "output_type": "stream",
     "text": [
      "/Users/nsimsiri/Documents/code/ml/MultiRes/student_life\n",
      "/Users/nsimsiri/Documents/code/ml/MultiRes/Physionet_rev\n",
      "False\n",
      "None\n",
      "1.0.1.post2\n",
      "<module 'evaluate_plot' from '/Users/nsimsiri/Documents/code/ml/MultiRes/Physionet_rev/evaluate_plot.py'>\n",
      "sys.version_info(major=3, minor=6, micro=0, releaselevel='final', serial=0)\n"
     ]
    }
   ],
   "source": [
    "import os, sys\n",
    "cwd = os.getcwd()\n",
    "module_path = os.path.abspath(os.path.join('..'))\n",
    "student_life_path = module_path + \"/student_life\"\n",
    "physnet_path = module_path + \"/Physionet_rev\"\n",
    "print(student_life_path)\n",
    "print(physnet_path)\n",
    "\n",
    "sys.path.append(physnet_path)\n",
    "sys.path.append(student_life_path)\n",
    "\n",
    "import pandas as pd\n",
    "import numpy as np\n",
    "import pickle\n",
    "from random import shuffle\n",
    "from tqdm import tqdm\n",
    "import matplotlib.pyplot as plt\n",
    "import random\n",
    "\n",
    "import torch\n",
    "import torch.nn as nn\n",
    "import torch.nn.functional as F\n",
    "import torch.optim as optim\n",
    "import torch.autograd as autograd\n",
    "print(torch.cuda.is_available())\n",
    "print(torch.version.cuda)\n",
    "\n",
    "import tbm as tbm\n",
    "from net_dbm import RNN_osaka\n",
    "\n",
    "\n",
    "import evaluate_plot as eval_plot\n",
    "import batchify as batchify\n",
    "from sklearn.metrics import precision_recall_fscore_support\n",
    "import importlib\n",
    "import src.utils.student_utils as student_utils\n",
    "import src.definitions as definitions\n",
    "from IPython.display import display\n",
    "importlib.reload(student_utils)\n",
    "\n",
    "# 1 starts the process on GPU-0\n",
    "os.environ['CUDA_VISIBLE_DEVICES'] = '0'\n",
    "print(torch.__version__)\n",
    "%matplotlib inline\n",
    "print(eval_plot)\n",
    "print(sys.version_info)"
   ]
  },
  {
   "cell_type": "code",
   "execution_count": null,
   "metadata": {},
   "outputs": [],
   "source": [
    "import subprocess\n",
    "\n",
    "p = subprocess.Popen([\"nvcc\", \"--version\"], stdout=subprocess.PIPE)\n",
    "\n",
    "print(p.communicate())\n"
   ]
  },
  {
   "cell_type": "code",
   "execution_count": 35,
   "metadata": {},
   "outputs": [
    {
     "name": "stdout",
     "output_type": "stream",
     "text": [
      "tensor([2, 2, 3, 2])\n"
     ]
    }
   ],
   "source": [
    "w = torch.Tensor([0, 4, 8, 2]) # Create a tensor of weights\n",
    "r = torch.multinomial(w, 4, replacement=True) # Size 4: 3, 2, 1, 2\n",
    "print(r)"
   ]
  },
  {
   "cell_type": "code",
   "execution_count": 156,
   "metadata": {},
   "outputs": [
    {
     "name": "stdout",
     "output_type": "stream",
     "text": [
      "3\n",
      "2\n",
      "1\n",
      "1\n",
      "2\n",
      "3\n",
      "2\n",
      "3\n",
      "1\n",
      "2\n",
      "3\n",
      "1\n",
      "2\n",
      "3\n",
      "1\n",
      "3\n",
      "2\n",
      "1\n",
      "1\n",
      "3\n",
      "2\n",
      "3\n",
      "2\n",
      "1\n",
      "3\n",
      "1\n",
      "2\n",
      "1\n",
      "3\n",
      "2\n"
     ]
    }
   ],
   "source": [
    "x = [1,2,3]\n",
    "for i in range(10):\n",
    "    k = np.random.choice(x, size=3, replace=False).tolist()\n",
    "    print(k.pop(),)\n",
    "    print(k.pop(),)\n",
    "    print(k.pop())\n"
   ]
  },
  {
   "cell_type": "code",
   "execution_count": 187,
   "metadata": {},
   "outputs": [
    {
     "name": "stdout",
     "output_type": "stream",
     "text": [
      "0.3333333333333333 0.4534 0.008038224496308439\n"
     ]
    },
    {
     "ename": "ValueError",
     "evalue": "The truth value of an array with more than one element is ambiguous. Use a.any() or a.all()",
     "output_type": "error",
     "traceback": [
      "\u001b[0;31m---------------------------------------------------------------------------\u001b[0m",
      "\u001b[0;31mValueError\u001b[0m                                Traceback (most recent call last)",
      "\u001b[0;32m<ipython-input-187-a50105444468>\u001b[0m in \u001b[0;36m<module>\u001b[0;34m\u001b[0m\n\u001b[1;32m     37\u001b[0m     \u001b[0;32mreturn\u001b[0m \u001b[0mconf\u001b[0m\u001b[0;34m,\u001b[0m \u001b[0mgrams\u001b[0m\u001b[0;34m\u001b[0m\u001b[0m\n\u001b[1;32m     38\u001b[0m \u001b[0;34m\u001b[0m\u001b[0m\n\u001b[0;32m---> 39\u001b[0;31m \u001b[0mprint\u001b[0m\u001b[0;34m(\u001b[0m\u001b[0mbootstrap\u001b[0m\u001b[0;34m(\u001b[0m\u001b[0ma\u001b[0m\u001b[0;34m,\u001b[0m \u001b[0mb\u001b[0m\u001b[0;34m)\u001b[0m\u001b[0;34m)\u001b[0m\u001b[0;34m\u001b[0m\u001b[0m\n\u001b[0m\u001b[1;32m     40\u001b[0m \u001b[0;31m# ac, ag = bootstrap1(a)\u001b[0m\u001b[0;34m\u001b[0m\u001b[0;34m\u001b[0m\u001b[0m\n\u001b[1;32m     41\u001b[0m \u001b[0;31m# bc, bg = bootstrap1(b)\u001b[0m\u001b[0;34m\u001b[0m\u001b[0;34m\u001b[0m\u001b[0m\n",
      "\u001b[0;32m<ipython-input-187-a50105444468>\u001b[0m in \u001b[0;36mbootstrap\u001b[0;34m(A, B)\u001b[0m\n\u001b[1;32m     21\u001b[0m     \u001b[0mlo\u001b[0m\u001b[0;34m,\u001b[0m \u001b[0mhi\u001b[0m \u001b[0;34m=\u001b[0m \u001b[0mconf\u001b[0m\u001b[0;34m\u001b[0m\u001b[0m\n\u001b[1;32m     22\u001b[0m     \u001b[0mg\u001b[0m \u001b[0;34m=\u001b[0m \u001b[0mnp\u001b[0m\u001b[0;34m.\u001b[0m\u001b[0marray\u001b[0m\u001b[0;34m(\u001b[0m\u001b[0mgrams\u001b[0m\u001b[0;34m)\u001b[0m\u001b[0;34m\u001b[0m\u001b[0m\n\u001b[0;32m---> 23\u001b[0;31m     \u001b[0mprint\u001b[0m\u001b[0;34m(\u001b[0m\u001b[0mg\u001b[0m\u001b[0;34m[\u001b[0m\u001b[0mg\u001b[0m\u001b[0;34m>\u001b[0m\u001b[0mlo\u001b[0m \u001b[0;32mand\u001b[0m \u001b[0mg\u001b[0m \u001b[0;34m<\u001b[0m \u001b[0mhi\u001b[0m\u001b[0;34m]\u001b[0m\u001b[0;34m)\u001b[0m\u001b[0;34m\u001b[0m\u001b[0m\n\u001b[0m\u001b[1;32m     24\u001b[0m     \u001b[0;32mreturn\u001b[0m \u001b[0mconf\u001b[0m\u001b[0;34m\u001b[0m\u001b[0m\n\u001b[1;32m     25\u001b[0m \u001b[0;34m\u001b[0m\u001b[0m\n",
      "\u001b[0;31mValueError\u001b[0m: The truth value of an array with more than one element is ambiguous. Use a.any() or a.all()"
     ]
    }
   ],
   "source": [
    "import scipy\n",
    "import numpy as np\n",
    "import scipy.stats as stats\n",
    "N = 5\n",
    "T = 1000\n",
    "a = [0,1,0,0,0,0,0,1,1,0,0,1,1,0,1,0,0,0,0,0,1,1,1,1,0,0,0,0,0,0]\n",
    "b = [1,1,1,1,0,1,1,1,1,0,1,1,1,1,1,1,0,1,0,0,1,1,1,1,0,1,1,1,1,0]\n",
    "def bootstrap(A, B):\n",
    "    grams = []\n",
    "    for t in range(T):\n",
    "        sample = np.random.choice(A, N)\n",
    "        sample2 = np.random.choice(B, N)\n",
    "        gram = np.mean(sample)\n",
    "        gram2 = np.mean(sample2)\n",
    "        grams.append(np.abs(gram-gram2))\n",
    "    grams.sort()\n",
    "    std = stats.sem(grams)\n",
    "    mu = np.mean(grams)\n",
    "    print(np.mean(A), mu, std)\n",
    "    conf = stats.t.interval(0.95, len(grams)-1, loc=mu, scale=std)\n",
    "    lo, hi = conf\n",
    "    g = np.array(grams)\n",
    "    print(g[g>lo and g < hi])\n",
    "    return conf\n",
    "    \n",
    "def bootstrap1(A):\n",
    "    grams = []\n",
    "    for t in range(T):\n",
    "        sample = np.random.choice(A, N)\n",
    "        gram = np.mean(sample)\n",
    "        grams.append(gram)\n",
    "    grams.sort()\n",
    "    std = stats.sem(grams)\n",
    "    mu = np.mean(grams)\n",
    "    print(np.mean(A), mu, std)\n",
    "    conf = stats.t.interval(0.95, len(grams)-1, loc=mu, scale=std)\n",
    "    return conf, grams\n",
    "\n",
    "print(bootstrap(a, b))\n",
    "# ac, ag = bootstrap1(a)\n",
    "# bc, bg = bootstrap1(b)\n",
    "# print()\n",
    "# print(ac)\n",
    "# print(bc)\n",
    "# print()\n",
    "\n",
    "out = scipy.stats.ttest_ind(ag, bg)\n",
    "print(out)\n"
   ]
  },
  {
   "cell_type": "code",
   "execution_count": 94,
   "metadata": {},
   "outputs": [
    {
     "name": "stdout",
     "output_type": "stream",
     "text": [
      "(0.3333333333333333, 0.1542987942083919, 0.5123678724582748)\n"
     ]
    }
   ],
   "source": [
    "a1 = mean_confidence_interval(a)\n",
    "print(a1)\n"
   ]
  },
  {
   "cell_type": "code",
   "execution_count": 84,
   "metadata": {},
   "outputs": [
    {
     "name": "stdout",
     "output_type": "stream",
     "text": [
      "0.3333333333333333 0.33205714285714283\n"
     ]
    }
   ],
   "source": [
    "a2 = bootstrap(a)\n",
    "# print(a2)"
   ]
  },
  {
   "cell_type": "code",
   "execution_count": null,
   "metadata": {},
   "outputs": [],
   "source": [
    "def mean_confidence_interval(data, confidence=0.95):\n",
    "    a = 1.0 * np.array(data)\n",
    "    n = len(a)\n",
    "    m, se = np.mean(a), scipy.stats.sem(a)\n",
    "    h = se * scipy.stats.t.ppf((1 + confidence) / 2., n-1)\n",
    "    return m, m-h, m+h\n"
   ]
  }
 ],
 "metadata": {
  "kernelspec": {
   "display_name": "python3_6",
   "language": "python",
   "name": "python3_6"
  },
  "language_info": {
   "codemirror_mode": {
    "name": "ipython",
    "version": 3
   },
   "file_extension": ".py",
   "mimetype": "text/x-python",
   "name": "python",
   "nbconvert_exporter": "python",
   "pygments_lexer": "ipython3",
   "version": "3.6.0"
  }
 },
 "nbformat": 4,
 "nbformat_minor": 2
}
