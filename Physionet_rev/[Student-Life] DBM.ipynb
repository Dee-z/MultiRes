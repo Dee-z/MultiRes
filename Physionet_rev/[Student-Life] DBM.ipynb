{
 "cells": [
  {
   "cell_type": "code",
   "execution_count": 1,
   "metadata": {},
   "outputs": [
    {
     "name": "stdout",
     "output_type": "stream",
     "text": [
      "/Users/nsimsiri/Documents/code/ml/MultiRes/student_life\n",
      "/Users/nsimsiri/Documents/code/ml/MultiRes/Physionet_rev\n",
      "<module 'evaluate_plot' from '/Users/nsimsiri/Documents/code/ml/MultiRes/Physionet_rev/evaluate_plot.py'>\n",
      "<module 'net_dbm' from '/Users/nsimsiri/Documents/code/ml/MultiRes/Physionet_rev/net_dbm.py'>\n",
      "sys.version_info(major=3, minor=6, micro=0, releaselevel='final', serial=0)\n"
     ]
    }
   ],
   "source": [
    "import os, sys\n",
    "cwd = os.getcwd()\n",
    "module_path = os.path.abspath(os.path.join('..'))\n",
    "student_life_path = module_path + \"/student_life\"\n",
    "physnet_path = module_path + \"/Physionet_rev\"\n",
    "print(student_life_path)\n",
    "print(physnet_path)\n",
    "\n",
    "sys.path.append(physnet_path)\n",
    "sys.path.append(student_life_path)\n",
    "\n",
    "import pandas as pd\n",
    "import numpy as np\n",
    "import pickle\n",
    "from random import shuffle\n",
    "from tqdm import tqdm\n",
    "import matplotlib.pyplot as plt\n",
    "import random\n",
    "\n",
    "import torch\n",
    "import torch.nn as nn\n",
    "import torch.nn.functional as F\n",
    "import torch.optim as optim\n",
    "import torch.autograd as autograd\n",
    "\n",
    "import evaluate_plot as eval_plot\n",
    "import batchify as batchify\n",
    "import net_dbm as dbm\n",
    "from net_dbm import RNN_osaka\n",
    "from sklearn.metrics import precision_recall_fscore_support\n",
    "import importlib\n",
    "import src.utils.student_utils as student_utils\n",
    "import src.definitions as definitions\n",
    "from IPython.display import display\n",
    "from src.data_getter import student_life_var_binned_data_getter\n",
    "importlib.reload(student_life_var_binned_data_getter)\n",
    "importlib.reload(student_utils)\n",
    "\n",
    "# 1 starts the process on GPU-0\n",
    "os.environ['CUDA_VISIBLE_DEVICES'] = '0'\n",
    "torch.__version__\n",
    "%matplotlib inline\n",
    "print(eval_plot)\n",
    "print(dbm)\n",
    "print(sys.version_info)"
   ]
  },
  {
   "cell_type": "code",
   "execution_count": 2,
   "metadata": {},
   "outputs": [
    {
     "name": "stdout",
     "output_type": "stream",
     "text": [
      "pickle_path /Users/nsimsiri/Documents/code/ml/MultiRes/student_life/data/training_data/student_life_pickle.pkl\n",
      "model_config_path /Users/nsimsiri/Documents/code/ml/MultiRes/student_life/models\n"
     ]
    }
   ],
   "source": [
    "data = None\n",
    "pickle_path = student_life_path + '/data/training_data/student_life_pickle.pkl'\n",
    "model_path = student_life_path + '/models'\n",
    "print('pickle_path', pickle_path)\n",
    "print('model_config_path', model_path)"
   ]
  },
  {
   "cell_type": "code",
   "execution_count": 3,
   "metadata": {},
   "outputs": [
    {
     "name": "stdout",
     "output_type": "stream",
     "text": [
      "dict_keys(['train_ids', 'val_ids', 'test_ids', 'data'])\n"
     ]
    }
   ],
   "source": [
    "with open(pickle_path, 'rb') as pickle_file:\n",
    "    data = pickle.load(pickle_file)\n",
    "print(data.keys())"
   ]
  },
  {
   "cell_type": "code",
   "execution_count": 4,
   "metadata": {},
   "outputs": [
    {
     "name": "stdout",
     "output_type": "stream",
     "text": [
      "/Users/nsimsiri/Documents/code/ml/MultiRes/student_life/models/DBM-SL.pt\n"
     ]
    }
   ],
   "source": [
    "params = {'bilstm_flag':True,\n",
    "        'hidden_dim' : 32,\n",
    "        'dropout' : 0.9,\n",
    "        'layers' : 1,\n",
    "        'tagset_size' : 5,\n",
    "        'bilstm_flag' : True,\n",
    "        'attn_category' : 'dot',\n",
    "        'num_features' : 10,\n",
    "        'imputation_layer_dim_op':2,\n",
    "        'selected_feats' : 0,\n",
    "        'batch_size':1,\n",
    "        'same_device':True,\n",
    "        'same_feat_other_device':False,\n",
    "        'model_name':'DBM-SL'}\n",
    "\n",
    "model_config_path = model_path + \"/\" + params['model_name']+'.pt'\n",
    "print(model_config_path)\n",
    "with open(model_config_path, 'wb') as config_file:\n",
    "    pickle.dump(params, config_file)\n"
   ]
  },
  {
   "cell_type": "code",
   "execution_count": 5,
   "metadata": {},
   "outputs": [
    {
     "name": "stdout",
     "output_type": "stream",
     "text": [
      "Dot Attention is being used!\n"
     ]
    },
    {
     "name": "stderr",
     "output_type": "stream",
     "text": [
      "/Users/nsimsiri/anaconda2/envs/python3/lib/python3.6/site-packages/torch/nn/modules/rnn.py:46: UserWarning: dropout option adds dropout after all but last recurrent layer, so non-zero dropout expects num_layers greater than 1, but got dropout=0.9 and num_layers=1\n",
      "  \"num_layers={}\".format(dropout, num_layers))\n"
     ]
    }
   ],
   "source": [
    "model_RNN = dbm.RNN_osaka(params)\n",
    "loss_function = nn.NLLLoss()\n",
    "optimizer = optim.SGD(model_RNN.parameters(), lr=0.0001, weight_decay=0.000000002)\n"
   ]
  },
  {
   "cell_type": "code",
   "execution_count": 6,
   "metadata": {},
   "outputs": [
    {
     "name": "stdout",
     "output_type": "stream",
     "text": [
      "NORMAL mode with Flags\n"
     ]
    }
   ],
   "source": [
    "mode = 'normal'\n",
    "if(mode=='normal'):\n",
    "    feature_ind = 0\n",
    "    label_ind = -1\n",
    "    print(\"NORMAL mode with Flags\")"
   ]
  },
  {
   "cell_type": "code",
   "execution_count": 7,
   "metadata": {},
   "outputs": [
    {
     "name": "stdout",
     "output_type": "stream",
     "text": [
      "==x====x====x====x====x====x====x====x====x====x====x====x====x====x====x====x====x====x====x====x==\n",
      "Data Statistics\n",
      "Train Data: 17\n",
      "Val Data: 5\n",
      "Test Data: 7\n",
      "==x====x====x====x====x====x====x====x====x====x====x====x====x====x====x====x====x====x====x====x==\n"
     ]
    }
   ],
   "source": [
    "batch_size = 1\n",
    "epochs = 45\n",
    "save_flag = True\n",
    "dict_df_prf_mod = {}\n",
    "print(\"==x==\"*20)\n",
    "print(\"Data Statistics\")\n",
    "print(\"Train Data: \"+str(len(data['train_ids'])))\n",
    "print(\"Val Data: \"+str(len(data['val_ids'])))\n",
    "print(\"Test Data: \"+str(len(data['test_ids'])))\n",
    "print(\"==x==\"*20)"
   ]
  },
  {
   "cell_type": "code",
   "execution_count": 8,
   "metadata": {},
   "outputs": [
    {
     "name": "stdout",
     "output_type": "stream",
     "text": [
      "dict_keys(['35_3_29', '35_3_30', '35_3_31', '35_4_2', '35_4_3', '35_4_4', '35_4_5', '35_4_6', '35_4_9', '35_4_10', '35_4_11', '35_4_12', '35_4_13', '35_4_14', '35_4_15', '35_4_16', '35_4_18', '35_4_20', '35_4_21', '35_4_23', '35_4_29', '35_4_30', '35_5_2', '35_5_7', '35_5_8', '35_5_12', '35_5_19', '35_5_21', '35_5_22'])\n"
     ]
    }
   ],
   "source": [
    "print(data['data'].keys())\n"
   ]
  },
  {
   "cell_type": "code",
   "execution_count": 9,
   "metadata": {},
   "outputs": [
    {
     "name": "stderr",
     "output_type": "stream",
     "text": [
      "\r",
      "  0%|          | 0/17 [00:00<?, ?it/s]"
     ]
    },
    {
     "name": "stdout",
     "output_type": "stream",
     "text": [
      "=#==#==#==#==#=0=#==#==#==#==#=\n"
     ]
    },
    {
     "name": "stderr",
     "output_type": "stream",
     "text": [
      "100%|██████████| 17/17 [00:22<00:00,  1.48s/it]\n",
      "/Users/nsimsiri/anaconda2/envs/python3/lib/python3.6/site-packages/sklearn/metrics/classification.py:1143: UndefinedMetricWarning: Precision and F-score are ill-defined and being set to 0.0 in labels with no predicted samples.\n",
      "  'precision', 'predicted', average, warn_for)\n",
      "/Users/nsimsiri/anaconda2/envs/python3/lib/python3.6/site-packages/sklearn/metrics/classification.py:1145: UndefinedMetricWarning: Recall and F-score are ill-defined and being set to 0.0 in labels with no true samples.\n",
      "  'recall', 'true', average, warn_for)\n"
     ]
    },
    {
     "name": "stdout",
     "output_type": "stream",
     "text": [
      "==========Epoch No:0==========\n",
      "Training Loss: 27.119651436805725\n",
      "========\n",
      "Train: (0.1695501730103806, 0.4117647058823529, 0.24019607843137258, None)\n",
      "             0    1\n",
      "Precision  0.0  0.0\n",
      "Recall     0.0  0.0\n",
      "F-score    0.0  0.0\n",
      "Count      3.0  6.0\n",
      "--------\n",
      "Val: (0.16, 0.4, 0.2285714285714286, None)\n",
      "             0    1\n",
      "Precision  0.0  0.0\n",
      "Recall     0.0  0.0\n",
      "F-score    0.0  0.0\n",
      "Count      0.0  1.0\n",
      "--------\n",
      "Test: (0.47619047619047616, 0.5714285714285714, 0.5194805194805194, None)\n",
      "             0    1\n",
      "Precision  0.0  0.0\n",
      "Recall     0.0  0.0\n",
      "F-score    0.0  0.0\n",
      "Count      1.0  0.0\n",
      "================================================================================\n",
      "\n",
      "\n"
     ]
    },
    {
     "data": {
      "image/png": "[encoded data removed]",
      "text/plain": [
       "<Figure size 828x468 with 1 Axes>"
      ]
     },
     "metadata": {
      "needs_background": "light"
     },
     "output_type": "display_data"
    },
    {
     "name": "stderr",
     "output_type": "stream",
     "text": [
      "\r",
      "  0%|          | 0/17 [00:00<?, ?it/s]"
     ]
    },
    {
     "name": "stdout",
     "output_type": "stream",
     "text": [
      "=#==#==#==#==#=1=#==#==#==#==#=\n"
     ]
    },
    {
     "name": "stderr",
     "output_type": "stream",
     "text": [
      "100%|██████████| 17/17 [00:22<00:00,  1.35s/it]\n"
     ]
    },
    {
     "name": "stdout",
     "output_type": "stream",
     "text": [
      "==========Epoch No:1==========\n",
      "Training Loss: 27.04112422466278\n",
      "========\n",
      "Train: (0.1695501730103806, 0.4117647058823529, 0.24019607843137258, None)\n",
      "             0    1\n",
      "Precision  0.0  0.0\n",
      "Recall     0.0  0.0\n",
      "F-score    0.0  0.0\n",
      "Count      3.0  6.0\n",
      "--------\n",
      "Val: (0.16, 0.4, 0.2285714285714286, None)\n",
      "             0    1\n",
      "Precision  0.0  0.0\n",
      "Recall     0.0  0.0\n",
      "F-score    0.0  0.0\n",
      "Count      0.0  1.0\n",
      "--------\n",
      "Test: (0.47619047619047616, 0.5714285714285714, 0.5194805194805194, None)\n",
      "             0    1\n",
      "Precision  0.0  0.0\n",
      "Recall     0.0  0.0\n",
      "F-score    0.0  0.0\n",
      "Count      1.0  0.0\n",
      "================================================================================\n",
      "\n",
      "\n"
     ]
    },
    {
     "data": {
      "image/png": "[encoded data removed]",
      "text/plain": [
       "<Figure size 828x468 with 1 Axes>"
      ]
     },
     "metadata": {
      "needs_background": "light"
     },
     "output_type": "display_data"
    },
    {
     "name": "stderr",
     "output_type": "stream",
     "text": [
      "\r",
      "  0%|          | 0/17 [00:00<?, ?it/s]"
     ]
    },
    {
     "name": "stdout",
     "output_type": "stream",
     "text": [
      "=#==#==#==#==#=2=#==#==#==#==#=\n"
     ]
    },
    {
     "name": "stderr",
     "output_type": "stream",
     "text": [
      "100%|██████████| 17/17 [00:27<00:00,  2.27s/it]\n"
     ]
    },
    {
     "name": "stdout",
     "output_type": "stream",
     "text": [
      "==========Epoch No:2==========\n",
      "Training Loss: 26.96210515499115\n",
      "========\n",
      "Train: (0.1695501730103806, 0.4117647058823529, 0.24019607843137258, None)\n",
      "             0    1\n",
      "Precision  0.0  0.0\n",
      "Recall     0.0  0.0\n",
      "F-score    0.0  0.0\n",
      "Count      3.0  6.0\n",
      "--------\n",
      "Val: (0.16, 0.4, 0.2285714285714286, None)\n",
      "             0    1\n",
      "Precision  0.0  0.0\n",
      "Recall     0.0  0.0\n",
      "F-score    0.0  0.0\n",
      "Count      0.0  1.0\n",
      "--------\n",
      "Test: (0.47619047619047616, 0.5714285714285714, 0.5194805194805194, None)\n",
      "             0    1\n",
      "Precision  0.0  0.0\n",
      "Recall     0.0  0.0\n",
      "F-score    0.0  0.0\n",
      "Count      1.0  0.0\n",
      "================================================================================\n",
      "\n",
      "\n"
     ]
    },
    {
     "data": {
      "image/png": "[encoded data removed]",
      "text/plain": [
       "<Figure size 828x468 with 1 Axes>"
      ]
     },
     "metadata": {
      "needs_background": "light"
     },
     "output_type": "display_data"
    },
    {
     "name": "stderr",
     "output_type": "stream",
     "text": [
      "\r",
      "  0%|          | 0/17 [00:00<?, ?it/s]"
     ]
    },
    {
     "name": "stdout",
     "output_type": "stream",
     "text": [
      "=#==#==#==#==#=3=#==#==#==#==#=\n"
     ]
    },
    {
     "name": "stderr",
     "output_type": "stream",
     "text": [
      "100%|██████████| 17/17 [00:28<00:00,  1.69s/it]\n"
     ]
    },
    {
     "name": "stdout",
     "output_type": "stream",
     "text": [
      "==========Epoch No:3==========\n",
      "Training Loss: 26.887093544006348\n",
      "========\n",
      "Train: (0.1695501730103806, 0.4117647058823529, 0.24019607843137258, None)\n",
      "             0    1\n",
      "Precision  0.0  0.0\n",
      "Recall     0.0  0.0\n",
      "F-score    0.0  0.0\n",
      "Count      3.0  6.0\n",
      "--------\n",
      "Val: (0.16, 0.4, 0.2285714285714286, None)\n",
      "             0    1\n",
      "Precision  0.0  0.0\n",
      "Recall     0.0  0.0\n",
      "F-score    0.0  0.0\n",
      "Count      0.0  1.0\n",
      "--------\n",
      "Test: (0.47619047619047616, 0.5714285714285714, 0.5194805194805194, None)\n",
      "             0    1\n",
      "Precision  0.0  0.0\n",
      "Recall     0.0  0.0\n",
      "F-score    0.0  0.0\n",
      "Count      1.0  0.0\n",
      "================================================================================\n",
      "\n",
      "\n"
     ]
    },
    {
     "data": {
      "image/png": "[encoded data removed]",
      "text/plain": [
       "<Figure size 828x468 with 1 Axes>"
      ]
     },
     "metadata": {
      "needs_background": "light"
     },
     "output_type": "display_data"
    },
    {
     "name": "stderr",
     "output_type": "stream",
     "text": [
      "\r",
      "  0%|          | 0/17 [00:00<?, ?it/s]"
     ]
    },
    {
     "name": "stdout",
     "output_type": "stream",
     "text": [
      "=#==#==#==#==#=4=#==#==#==#==#=\n"
     ]
    },
    {
     "name": "stderr",
     "output_type": "stream",
     "text": [
      "100%|██████████| 17/17 [00:24<00:00,  1.68s/it]\n"
     ]
    },
    {
     "name": "stdout",
     "output_type": "stream",
     "text": [
      "==========Epoch No:4==========\n",
      "Training Loss: 26.811988413333893\n",
      "========\n",
      "Train: (0.1695501730103806, 0.4117647058823529, 0.24019607843137258, None)\n",
      "             0    1\n",
      "Precision  0.0  0.0\n",
      "Recall     0.0  0.0\n",
      "F-score    0.0  0.0\n",
      "Count      3.0  6.0\n",
      "--------\n",
      "Val: (0.16, 0.4, 0.2285714285714286, None)\n",
      "             0    1\n",
      "Precision  0.0  0.0\n",
      "Recall     0.0  0.0\n",
      "F-score    0.0  0.0\n",
      "Count      0.0  1.0\n",
      "--------\n",
      "Test: (0.47619047619047616, 0.5714285714285714, 0.5194805194805194, None)\n",
      "             0    1\n",
      "Precision  0.0  0.0\n",
      "Recall     0.0  0.0\n",
      "F-score    0.0  0.0\n",
      "Count      1.0  0.0\n",
      "================================================================================\n",
      "\n",
      "\n"
     ]
    },
    {
     "data": {
      "image/png": "[encoded data removed]",
      "text/plain": [
       "<Figure size 828x468 with 1 Axes>"
      ]
     },
     "metadata": {
      "needs_background": "light"
     },
     "output_type": "display_data"
    },
    {
     "name": "stderr",
     "output_type": "stream",
     "text": [
      "\r",
      "  0%|          | 0/17 [00:00<?, ?it/s]"
     ]
    },
    {
     "name": "stdout",
     "output_type": "stream",
     "text": [
      "=#==#==#==#==#=5=#==#==#==#==#=\n"
     ]
    },
    {
     "name": "stderr",
     "output_type": "stream",
     "text": [
      "100%|██████████| 17/17 [00:24<00:00,  1.34s/it]\n"
     ]
    },
    {
     "name": "stdout",
     "output_type": "stream",
     "text": [
      "==========Epoch No:5==========\n",
      "Training Loss: 26.742028892040253\n",
      "========\n",
      "Train: (0.1695501730103806, 0.4117647058823529, 0.24019607843137258, None)\n",
      "             0    1\n",
      "Precision  0.0  0.0\n",
      "Recall     0.0  0.0\n",
      "F-score    0.0  0.0\n",
      "Count      3.0  6.0\n",
      "--------\n",
      "Val: (0.16, 0.4, 0.2285714285714286, None)\n",
      "             0    1\n",
      "Precision  0.0  0.0\n",
      "Recall     0.0  0.0\n",
      "F-score    0.0  0.0\n",
      "Count      0.0  1.0\n",
      "--------\n",
      "Test: (0.47619047619047616, 0.5714285714285714, 0.5194805194805194, None)\n",
      "             0    1\n",
      "Precision  0.0  0.0\n",
      "Recall     0.0  0.0\n",
      "F-score    0.0  0.0\n",
      "Count      1.0  0.0\n",
      "================================================================================\n",
      "\n",
      "\n"
     ]
    },
    {
     "data": {
      "image/png": "[encoded data removed]",
      "text/plain": [
       "<Figure size 828x468 with 1 Axes>"
      ]
     },
     "metadata": {
      "needs_background": "light"
     },
     "output_type": "display_data"
    },
    {
     "name": "stderr",
     "output_type": "stream",
     "text": [
      "\r",
      "  0%|          | 0/17 [00:00<?, ?it/s]"
     ]
    },
    {
     "name": "stdout",
     "output_type": "stream",
     "text": [
      "=#==#==#==#==#=6=#==#==#==#==#=\n"
     ]
    },
    {
     "name": "stderr",
     "output_type": "stream",
     "text": [
      "100%|██████████| 17/17 [00:23<00:00,  1.38s/it]\n"
     ]
    },
    {
     "name": "stdout",
     "output_type": "stream",
     "text": [
      "==========Epoch No:6==========\n",
      "Training Loss: 26.673420071601868\n",
      "========\n",
      "Train: (0.1695501730103806, 0.4117647058823529, 0.24019607843137258, None)\n",
      "             0    1\n",
      "Precision  0.0  0.0\n",
      "Recall     0.0  0.0\n",
      "F-score    0.0  0.0\n",
      "Count      3.0  6.0\n",
      "--------\n",
      "Val: (0.16, 0.4, 0.2285714285714286, None)\n",
      "             0    1\n",
      "Precision  0.0  0.0\n",
      "Recall     0.0  0.0\n",
      "F-score    0.0  0.0\n",
      "Count      0.0  1.0\n",
      "--------\n",
      "Test: (0.47619047619047616, 0.5714285714285714, 0.5194805194805194, None)\n",
      "             0    1\n",
      "Precision  0.0  0.0\n",
      "Recall     0.0  0.0\n",
      "F-score    0.0  0.0\n",
      "Count      1.0  0.0\n",
      "================================================================================\n",
      "\n",
      "\n"
     ]
    },
    {
     "data": {
      "image/png": "[encoded data removed]",
      "text/plain": [
       "<Figure size 828x468 with 1 Axes>"
      ]
     },
     "metadata": {
      "needs_background": "light"
     },
     "output_type": "display_data"
    },
    {
     "name": "stderr",
     "output_type": "stream",
     "text": [
      "\r",
      "  0%|          | 0/17 [00:00<?, ?it/s]"
     ]
    },
    {
     "name": "stdout",
     "output_type": "stream",
     "text": [
      "=#==#==#==#==#=7=#==#==#==#==#=\n"
     ]
    },
    {
     "name": "stderr",
     "output_type": "stream",
     "text": [
      "100%|██████████| 17/17 [00:41<00:00,  2.39s/it]\n"
     ]
    },
    {
     "name": "stdout",
     "output_type": "stream",
     "text": [
      "==========Epoch No:7==========\n",
      "Training Loss: 26.61064624786377\n",
      "========\n",
      "Train: (0.1695501730103806, 0.4117647058823529, 0.24019607843137258, None)\n",
      "             0    1\n",
      "Precision  0.0  0.0\n",
      "Recall     0.0  0.0\n",
      "F-score    0.0  0.0\n",
      "Count      3.0  6.0\n",
      "--------\n",
      "Val: (0.16, 0.4, 0.2285714285714286, None)\n",
      "             0    1\n",
      "Precision  0.0  0.0\n",
      "Recall     0.0  0.0\n",
      "F-score    0.0  0.0\n",
      "Count      0.0  1.0\n",
      "--------\n",
      "Test: (0.47619047619047616, 0.5714285714285714, 0.5194805194805194, None)\n",
      "             0    1\n",
      "Precision  0.0  0.0\n",
      "Recall     0.0  0.0\n",
      "F-score    0.0  0.0\n",
      "Count      1.0  0.0\n",
      "================================================================================\n",
      "\n",
      "\n"
     ]
    },
    {
     "data": {
      "image/png": "[encoded data removed]",
      "text/plain": [
       "<Figure size 828x468 with 1 Axes>"
      ]
     },
     "metadata": {
      "needs_background": "light"
     },
     "output_type": "display_data"
    },
    {
     "name": "stderr",
     "output_type": "stream",
     "text": [
      "\r",
      "  0%|          | 0/17 [00:00<?, ?it/s]"
     ]
    },
    {
     "name": "stdout",
     "output_type": "stream",
     "text": [
      "=#==#==#==#==#=8=#==#==#==#==#=\n"
     ]
    },
    {
     "name": "stderr",
     "output_type": "stream",
     "text": [
      "100%|██████████| 17/17 [00:26<00:00,  1.50s/it]\n"
     ]
    },
    {
     "name": "stdout",
     "output_type": "stream",
     "text": [
      "==========Epoch No:8==========\n",
      "Training Loss: 26.552151143550873\n",
      "========\n",
      "Train: (0.1695501730103806, 0.4117647058823529, 0.24019607843137258, None)\n",
      "             0    1\n",
      "Precision  0.0  0.0\n",
      "Recall     0.0  0.0\n",
      "F-score    0.0  0.0\n",
      "Count      3.0  6.0\n",
      "--------\n",
      "Val: (0.16, 0.4, 0.2285714285714286, None)\n",
      "             0    1\n",
      "Precision  0.0  0.0\n",
      "Recall     0.0  0.0\n",
      "F-score    0.0  0.0\n",
      "Count      0.0  1.0\n",
      "--------\n",
      "Test: (0.47619047619047616, 0.5714285714285714, 0.5194805194805194, None)\n",
      "             0    1\n",
      "Precision  0.0  0.0\n",
      "Recall     0.0  0.0\n",
      "F-score    0.0  0.0\n",
      "Count      1.0  0.0\n",
      "================================================================================\n",
      "\n",
      "\n"
     ]
    },
    {
     "data": {
      "image/png": "[encoded data removed]",
      "text/plain": [
       "<Figure size 828x468 with 1 Axes>"
      ]
     },
     "metadata": {
      "needs_background": "light"
     },
     "output_type": "display_data"
    },
    {
     "name": "stderr",
     "output_type": "stream",
     "text": [
      "\r",
      "  0%|          | 0/17 [00:00<?, ?it/s]"
     ]
    },
    {
     "name": "stdout",
     "output_type": "stream",
     "text": [
      "=#==#==#==#==#=9=#==#==#==#==#=\n"
     ]
    },
    {
     "name": "stderr",
     "output_type": "stream",
     "text": [
      "100%|██████████| 17/17 [00:48<00:00,  2.28s/it]\n"
     ]
    },
    {
     "name": "stdout",
     "output_type": "stream",
     "text": [
      "==========Epoch No:9==========\n",
      "Training Loss: 26.493978202342987\n",
      "========\n",
      "Train: (0.1695501730103806, 0.4117647058823529, 0.24019607843137258, None)\n",
      "             0    1\n",
      "Precision  0.0  0.0\n",
      "Recall     0.0  0.0\n",
      "F-score    0.0  0.0\n",
      "Count      3.0  6.0\n",
      "--------\n",
      "Val: (0.16, 0.4, 0.2285714285714286, None)\n",
      "             0    1\n",
      "Precision  0.0  0.0\n",
      "Recall     0.0  0.0\n",
      "F-score    0.0  0.0\n",
      "Count      0.0  1.0\n",
      "--------\n",
      "Test: (0.47619047619047616, 0.5714285714285714, 0.5194805194805194, None)\n",
      "             0    1\n",
      "Precision  0.0  0.0\n",
      "Recall     0.0  0.0\n",
      "F-score    0.0  0.0\n",
      "Count      1.0  0.0\n",
      "================================================================================\n",
      "\n",
      "\n"
     ]
    },
    {
     "data": {
      "image/png": "[encoded data removed]",
      "text/plain": [
       "<Figure size 828x468 with 1 Axes>"
      ]
     },
     "metadata": {
      "needs_background": "light"
     },
     "output_type": "display_data"
    },
    {
     "name": "stderr",
     "output_type": "stream",
     "text": [
      "\r",
      "  0%|          | 0/17 [00:00<?, ?it/s]"
     ]
    },
    {
     "name": "stdout",
     "output_type": "stream",
     "text": [
      "=#==#==#==#==#=10=#==#==#==#==#=\n"
     ]
    },
    {
     "name": "stderr",
     "output_type": "stream",
     "text": [
      "100%|██████████| 17/17 [00:33<00:00,  2.43s/it]\n"
     ]
    },
    {
     "name": "stdout",
     "output_type": "stream",
     "text": [
      "==========Epoch No:10==========\n",
      "Training Loss: 26.433612048625946\n",
      "========\n",
      "Train: (0.1695501730103806, 0.4117647058823529, 0.24019607843137258, None)\n",
      "             0    1\n",
      "Precision  0.0  0.0\n",
      "Recall     0.0  0.0\n",
      "F-score    0.0  0.0\n",
      "Count      3.0  6.0\n",
      "--------\n",
      "Val: (0.16, 0.4, 0.2285714285714286, None)\n",
      "             0    1\n",
      "Precision  0.0  0.0\n",
      "Recall     0.0  0.0\n",
      "F-score    0.0  0.0\n",
      "Count      0.0  1.0\n",
      "--------\n",
      "Test: (0.47619047619047616, 0.5714285714285714, 0.5194805194805194, None)\n",
      "             0    1\n",
      "Precision  0.0  0.0\n",
      "Recall     0.0  0.0\n",
      "F-score    0.0  0.0\n",
      "Count      1.0  0.0\n",
      "================================================================================\n",
      "\n",
      "\n"
     ]
    },
    {
     "data": {
      "image/png": "[encoded data removed]",
      "text/plain": [
       "<Figure size 828x468 with 1 Axes>"
      ]
     },
     "metadata": {
      "needs_background": "light"
     },
     "output_type": "display_data"
    },
    {
     "name": "stderr",
     "output_type": "stream",
     "text": [
      "\r",
      "  0%|          | 0/17 [00:00<?, ?it/s]"
     ]
    },
    {
     "name": "stdout",
     "output_type": "stream",
     "text": [
      "=#==#==#==#==#=11=#==#==#==#==#=\n"
     ]
    },
    {
     "name": "stderr",
     "output_type": "stream",
     "text": [
      "100%|██████████| 17/17 [00:26<00:00,  1.47s/it]\n"
     ]
    },
    {
     "name": "stdout",
     "output_type": "stream",
     "text": [
      "==========Epoch No:11==========\n",
      "Training Loss: 26.365146100521088\n",
      "========\n",
      "Train: (0.1695501730103806, 0.4117647058823529, 0.24019607843137258, None)\n",
      "             0    1\n",
      "Precision  0.0  0.0\n",
      "Recall     0.0  0.0\n",
      "F-score    0.0  0.0\n",
      "Count      3.0  6.0\n",
      "--------\n",
      "Val: (0.16, 0.4, 0.2285714285714286, None)\n",
      "             0    1\n",
      "Precision  0.0  0.0\n",
      "Recall     0.0  0.0\n",
      "F-score    0.0  0.0\n",
      "Count      0.0  1.0\n",
      "--------\n",
      "Test: (0.47619047619047616, 0.5714285714285714, 0.5194805194805194, None)\n",
      "             0    1\n",
      "Precision  0.0  0.0\n",
      "Recall     0.0  0.0\n",
      "F-score    0.0  0.0\n",
      "Count      1.0  0.0\n",
      "================================================================================\n",
      "\n",
      "\n"
     ]
    },
    {
     "data": {
      "image/png": "[encoded data removed]",
      "text/plain": [
       "<Figure size 828x468 with 1 Axes>"
      ]
     },
     "metadata": {
      "needs_background": "light"
     },
     "output_type": "display_data"
    },
    {
     "name": "stderr",
     "output_type": "stream",
     "text": [
      "\r",
      "  0%|          | 0/17 [00:00<?, ?it/s]"
     ]
    },
    {
     "name": "stdout",
     "output_type": "stream",
     "text": [
      "=#==#==#==#==#=12=#==#==#==#==#=\n"
     ]
    },
    {
     "name": "stderr",
     "output_type": "stream",
     "text": [
      "100%|██████████| 17/17 [00:29<00:00,  1.69s/it]\n"
     ]
    },
    {
     "name": "stdout",
     "output_type": "stream",
     "text": [
      "==========Epoch No:12==========\n",
      "Training Loss: 26.29211175441742\n",
      "========\n",
      "Train: (0.1695501730103806, 0.4117647058823529, 0.24019607843137258, None)\n",
      "             0    1\n",
      "Precision  0.0  0.0\n",
      "Recall     0.0  0.0\n",
      "F-score    0.0  0.0\n",
      "Count      3.0  6.0\n",
      "--------\n",
      "Val: (0.16, 0.4, 0.2285714285714286, None)\n",
      "             0    1\n",
      "Precision  0.0  0.0\n",
      "Recall     0.0  0.0\n",
      "F-score    0.0  0.0\n",
      "Count      0.0  1.0\n",
      "--------\n",
      "Test: (0.47619047619047616, 0.5714285714285714, 0.5194805194805194, None)\n",
      "             0    1\n",
      "Precision  0.0  0.0\n",
      "Recall     0.0  0.0\n",
      "F-score    0.0  0.0\n",
      "Count      1.0  0.0\n",
      "================================================================================\n",
      "\n",
      "\n"
     ]
    },
    {
     "data": {
      "image/png": "[encoded data removed]",
      "text/plain": [
       "<Figure size 828x468 with 1 Axes>"
      ]
     },
     "metadata": {
      "needs_background": "light"
     },
     "output_type": "display_data"
    },
    {
     "name": "stderr",
     "output_type": "stream",
     "text": [
      "\r",
      "  0%|          | 0/17 [00:00<?, ?it/s]"
     ]
    },
    {
     "name": "stdout",
     "output_type": "stream",
     "text": [
      "=#==#==#==#==#=13=#==#==#==#==#=\n"
     ]
    },
    {
     "name": "stderr",
     "output_type": "stream",
     "text": [
      "100%|██████████| 17/17 [00:36<00:00,  2.32s/it]\n"
     ]
    },
    {
     "name": "stdout",
     "output_type": "stream",
     "text": [
      "==========Epoch No:13==========\n",
      "Training Loss: 26.226535856723785\n",
      "========\n",
      "Train: (0.1695501730103806, 0.4117647058823529, 0.24019607843137258, None)\n",
      "             0    1\n",
      "Precision  0.0  0.0\n",
      "Recall     0.0  0.0\n",
      "F-score    0.0  0.0\n",
      "Count      3.0  6.0\n",
      "--------\n",
      "Val: (0.16, 0.4, 0.2285714285714286, None)\n",
      "             0    1\n",
      "Precision  0.0  0.0\n",
      "Recall     0.0  0.0\n",
      "F-score    0.0  0.0\n",
      "Count      0.0  1.0\n",
      "--------\n",
      "Test: (0.47619047619047616, 0.5714285714285714, 0.5194805194805194, None)\n",
      "             0    1\n",
      "Precision  0.0  0.0\n",
      "Recall     0.0  0.0\n",
      "F-score    0.0  0.0\n",
      "Count      1.0  0.0\n",
      "================================================================================\n",
      "\n",
      "\n"
     ]
    },
    {
     "data": {
      "image/png": "[encoded data removed]",
      "text/plain": [
       "<Figure size 828x468 with 1 Axes>"
      ]
     },
     "metadata": {
      "needs_background": "light"
     },
     "output_type": "display_data"
    },
    {
     "name": "stderr",
     "output_type": "stream",
     "text": [
      "\r",
      "  0%|          | 0/17 [00:00<?, ?it/s]"
     ]
    },
    {
     "name": "stdout",
     "output_type": "stream",
     "text": [
      "=#==#==#==#==#=14=#==#==#==#==#=\n"
     ]
    },
    {
     "name": "stderr",
     "output_type": "stream",
     "text": [
      "100%|██████████| 17/17 [00:30<00:00,  1.94s/it]\n"
     ]
    },
    {
     "name": "stdout",
     "output_type": "stream",
     "text": [
      "==========Epoch No:14==========\n",
      "Training Loss: 26.163459956645966\n",
      "========\n",
      "Train: (0.1695501730103806, 0.4117647058823529, 0.24019607843137258, None)\n",
      "             0    1\n",
      "Precision  0.0  0.0\n",
      "Recall     0.0  0.0\n",
      "F-score    0.0  0.0\n",
      "Count      3.0  6.0\n",
      "--------\n",
      "Val: (0.16, 0.4, 0.2285714285714286, None)\n",
      "             0    1\n",
      "Precision  0.0  0.0\n",
      "Recall     0.0  0.0\n",
      "F-score    0.0  0.0\n",
      "Count      0.0  1.0\n",
      "--------\n",
      "Test: (0.42857142857142855, 0.42857142857142855, 0.42857142857142855, None)\n",
      "             0    1\n",
      "Precision  0.0  0.0\n",
      "Recall     0.0  0.0\n",
      "F-score    0.0  0.0\n",
      "Count      1.0  0.0\n",
      "================================================================================\n",
      "\n",
      "\n"
     ]
    },
    {
     "data": {
      "image/png": "[encoded data removed]",
      "text/plain": [
       "<Figure size 828x468 with 1 Axes>"
      ]
     },
     "metadata": {
      "needs_background": "light"
     },
     "output_type": "display_data"
    },
    {
     "name": "stderr",
     "output_type": "stream",
     "text": [
      "\r",
      "  0%|          | 0/17 [00:00<?, ?it/s]"
     ]
    },
    {
     "name": "stdout",
     "output_type": "stream",
     "text": [
      "=#==#==#==#==#=15=#==#==#==#==#=\n"
     ]
    },
    {
     "name": "stderr",
     "output_type": "stream",
     "text": [
      "100%|██████████| 17/17 [00:28<00:00,  1.70s/it]\n"
     ]
    },
    {
     "name": "stdout",
     "output_type": "stream",
     "text": [
      "==========Epoch No:15==========\n",
      "Training Loss: 26.108835756778717\n",
      "========\n",
      "Train: (0.1695501730103806, 0.4117647058823529, 0.24019607843137258, None)\n",
      "             0    1\n",
      "Precision  0.0  0.0\n",
      "Recall     0.0  0.0\n",
      "F-score    0.0  0.0\n",
      "Count      3.0  6.0\n",
      "--------\n",
      "Val: (0.16, 0.4, 0.2285714285714286, None)\n",
      "             0    1\n",
      "Precision  0.0  0.0\n",
      "Recall     0.0  0.0\n",
      "F-score    0.0  0.0\n",
      "Count      0.0  1.0\n",
      "--------\n",
      "Test: (0.42857142857142855, 0.42857142857142855, 0.42857142857142855, None)\n",
      "             0    1\n",
      "Precision  0.0  0.0\n",
      "Recall     0.0  0.0\n",
      "F-score    0.0  0.0\n",
      "Count      1.0  0.0\n",
      "================================================================================\n",
      "\n",
      "\n"
     ]
    },
    {
     "data": {
      "image/png": "[encoded data removed]",
      "text/plain": [
       "<Figure size 828x468 with 1 Axes>"
      ]
     },
     "metadata": {
      "needs_background": "light"
     },
     "output_type": "display_data"
    },
    {
     "name": "stderr",
     "output_type": "stream",
     "text": [
      "\r",
      "  0%|          | 0/17 [00:00<?, ?it/s]"
     ]
    },
    {
     "name": "stdout",
     "output_type": "stream",
     "text": [
      "=#==#==#==#==#=16=#==#==#==#==#=\n"
     ]
    },
    {
     "name": "stderr",
     "output_type": "stream",
     "text": [
      "100%|██████████| 17/17 [00:32<00:00,  1.98s/it]\n"
     ]
    },
    {
     "name": "stdout",
     "output_type": "stream",
     "text": [
      "==========Epoch No:16==========\n",
      "Training Loss: 26.06045663356781\n",
      "========\n",
      "Train: (0.1695501730103806, 0.4117647058823529, 0.24019607843137258, None)\n",
      "             0    1\n",
      "Precision  0.0  0.0\n",
      "Recall     0.0  0.0\n",
      "F-score    0.0  0.0\n",
      "Count      3.0  6.0\n",
      "--------\n",
      "Val: (0.16, 0.4, 0.2285714285714286, None)\n",
      "             0    1\n",
      "Precision  0.0  0.0\n",
      "Recall     0.0  0.0\n",
      "F-score    0.0  0.0\n",
      "Count      0.0  1.0\n",
      "--------\n",
      "Test: (0.42857142857142855, 0.42857142857142855, 0.42857142857142855, None)\n",
      "             0    1\n",
      "Precision  0.0  0.0\n",
      "Recall     0.0  0.0\n",
      "F-score    0.0  0.0\n",
      "Count      1.0  0.0\n",
      "================================================================================\n",
      "\n",
      "\n"
     ]
    },
    {
     "data": {
      "image/png": "[encoded data removed]",
      "text/plain": [
       "<Figure size 828x468 with 1 Axes>"
      ]
     },
     "metadata": {
      "needs_background": "light"
     },
     "output_type": "display_data"
    },
    {
     "name": "stderr",
     "output_type": "stream",
     "text": [
      "\r",
      "  0%|          | 0/17 [00:00<?, ?it/s]"
     ]
    },
    {
     "name": "stdout",
     "output_type": "stream",
     "text": [
      "=#==#==#==#==#=17=#==#==#==#==#=\n"
     ]
    },
    {
     "name": "stderr",
     "output_type": "stream",
     "text": [
      "100%|██████████| 17/17 [00:46<00:00,  2.21s/it]\n"
     ]
    },
    {
     "name": "stdout",
     "output_type": "stream",
     "text": [
      "==========Epoch No:17==========\n",
      "Training Loss: 26.015541791915894\n",
      "========\n",
      "Train: (0.1695501730103806, 0.4117647058823529, 0.24019607843137258, None)\n",
      "             0    1\n",
      "Precision  0.0  0.0\n",
      "Recall     0.0  0.0\n",
      "F-score    0.0  0.0\n",
      "Count      3.0  6.0\n",
      "--------\n",
      "Val: (0.16, 0.4, 0.2285714285714286, None)\n",
      "             0    1\n",
      "Precision  0.0  0.0\n",
      "Recall     0.0  0.0\n",
      "F-score    0.0  0.0\n",
      "Count      0.0  1.0\n",
      "--------\n",
      "Test: (0.42857142857142855, 0.42857142857142855, 0.42857142857142855, None)\n",
      "             0    1\n",
      "Precision  0.0  0.0\n",
      "Recall     0.0  0.0\n",
      "F-score    0.0  0.0\n",
      "Count      1.0  0.0\n",
      "================================================================================\n",
      "\n",
      "\n"
     ]
    },
    {
     "data": {
      "image/png": "[encoded data removed]",
      "text/plain": [
       "<Figure size 828x468 with 1 Axes>"
      ]
     },
     "metadata": {
      "needs_background": "light"
     },
     "output_type": "display_data"
    },
    {
     "name": "stderr",
     "output_type": "stream",
     "text": [
      "\r",
      "  0%|          | 0/17 [00:00<?, ?it/s]"
     ]
    },
    {
     "name": "stdout",
     "output_type": "stream",
     "text": [
      "=#==#==#==#==#=18=#==#==#==#==#=\n"
     ]
    },
    {
     "name": "stderr",
     "output_type": "stream",
     "text": [
      "100%|██████████| 17/17 [00:31<00:00,  1.81s/it]\n"
     ]
    },
    {
     "name": "stdout",
     "output_type": "stream",
     "text": [
      "==========Epoch No:18==========\n",
      "Training Loss: 25.949130475521088\n",
      "========\n",
      "Train: (0.1695501730103806, 0.4117647058823529, 0.24019607843137258, None)\n",
      "             0    1\n",
      "Precision  0.0  0.0\n",
      "Recall     0.0  0.0\n",
      "F-score    0.0  0.0\n",
      "Count      3.0  6.0\n",
      "--------\n",
      "Val: (0.16, 0.4, 0.2285714285714286, None)\n",
      "             0    1\n",
      "Precision  0.0  0.0\n",
      "Recall     0.0  0.0\n",
      "F-score    0.0  0.0\n",
      "Count      0.0  1.0\n",
      "--------\n",
      "Test: (0.42857142857142855, 0.42857142857142855, 0.42857142857142855, None)\n",
      "             0    1\n",
      "Precision  0.0  0.0\n",
      "Recall     0.0  0.0\n",
      "F-score    0.0  0.0\n",
      "Count      1.0  0.0\n",
      "================================================================================\n",
      "\n",
      "\n"
     ]
    },
    {
     "data": {
      "image/png": "[encoded data removed]",
      "text/plain": [
       "<Figure size 828x468 with 1 Axes>"
      ]
     },
     "metadata": {
      "needs_background": "light"
     },
     "output_type": "display_data"
    },
    {
     "name": "stderr",
     "output_type": "stream",
     "text": [
      "\r",
      "  0%|          | 0/17 [00:00<?, ?it/s]"
     ]
    },
    {
     "name": "stdout",
     "output_type": "stream",
     "text": [
      "=#==#==#==#==#=19=#==#==#==#==#=\n"
     ]
    },
    {
     "name": "stderr",
     "output_type": "stream",
     "text": [
      "100%|██████████| 17/17 [00:29<00:00,  1.80s/it]\n"
     ]
    },
    {
     "name": "stdout",
     "output_type": "stream",
     "text": [
      "==========Epoch No:19==========\n",
      "Training Loss: 25.91009360551834\n",
      "========\n",
      "Train: (0.1695501730103806, 0.4117647058823529, 0.24019607843137258, None)\n",
      "             0    1\n",
      "Precision  0.0  0.0\n",
      "Recall     0.0  0.0\n",
      "F-score    0.0  0.0\n",
      "Count      3.0  6.0\n",
      "--------\n",
      "Val: (0.16, 0.4, 0.2285714285714286, None)\n",
      "             0    1\n",
      "Precision  0.0  0.0\n",
      "Recall     0.0  0.0\n",
      "F-score    0.0  0.0\n",
      "Count      0.0  1.0\n",
      "--------\n",
      "Test: (0.42857142857142855, 0.42857142857142855, 0.42857142857142855, None)\n",
      "             0    1\n",
      "Precision  0.0  0.0\n",
      "Recall     0.0  0.0\n",
      "F-score    0.0  0.0\n",
      "Count      1.0  0.0\n",
      "================================================================================\n",
      "\n",
      "\n"
     ]
    },
    {
     "data": {
      "image/png": "[encoded data removed]",
      "text/plain": [
       "<Figure size 828x468 with 1 Axes>"
      ]
     },
     "metadata": {
      "needs_background": "light"
     },
     "output_type": "display_data"
    },
    {
     "name": "stderr",
     "output_type": "stream",
     "text": [
      "\r",
      "  0%|          | 0/17 [00:00<?, ?it/s]"
     ]
    },
    {
     "name": "stdout",
     "output_type": "stream",
     "text": [
      "=#==#==#==#==#=20=#==#==#==#==#=\n"
     ]
    },
    {
     "name": "stderr",
     "output_type": "stream",
     "text": [
      "100%|██████████| 17/17 [00:32<00:00,  1.77s/it]\n"
     ]
    },
    {
     "name": "stdout",
     "output_type": "stream",
     "text": [
      "==========Epoch No:20==========\n",
      "Training Loss: 25.871813595294952\n",
      "========\n",
      "Train: (0.1695501730103806, 0.4117647058823529, 0.24019607843137258, None)\n",
      "             0    1\n",
      "Precision  0.0  0.0\n",
      "Recall     0.0  0.0\n",
      "F-score    0.0  0.0\n",
      "Count      3.0  6.0\n",
      "--------\n",
      "Val: (0.16, 0.4, 0.2285714285714286, None)\n",
      "             0    1\n",
      "Precision  0.0  0.0\n",
      "Recall     0.0  0.0\n",
      "F-score    0.0  0.0\n",
      "Count      0.0  1.0\n",
      "--------\n",
      "Test: (0.42857142857142855, 0.42857142857142855, 0.42857142857142855, None)\n",
      "             0    1\n",
      "Precision  0.0  0.0\n",
      "Recall     0.0  0.0\n",
      "F-score    0.0  0.0\n",
      "Count      1.0  0.0\n",
      "================================================================================\n",
      "\n",
      "\n"
     ]
    },
    {
     "data": {
      "image/png": "[encoded data removed]",
      "text/plain": [
       "<Figure size 828x468 with 1 Axes>"
      ]
     },
     "metadata": {
      "needs_background": "light"
     },
     "output_type": "display_data"
    },
    {
     "name": "stderr",
     "output_type": "stream",
     "text": [
      "\r",
      "  0%|          | 0/17 [00:00<?, ?it/s]"
     ]
    },
    {
     "name": "stdout",
     "output_type": "stream",
     "text": [
      "=#==#==#==#==#=21=#==#==#==#==#=\n"
     ]
    },
    {
     "name": "stderr",
     "output_type": "stream",
     "text": [
      "100%|██████████| 17/17 [00:42<00:00,  2.07s/it]\n"
     ]
    },
    {
     "name": "stdout",
     "output_type": "stream",
     "text": [
      "==========Epoch No:21==========\n",
      "Training Loss: 25.833864390850067\n",
      "========\n",
      "Train: (0.1695501730103806, 0.4117647058823529, 0.24019607843137258, None)\n",
      "             0    1\n",
      "Precision  0.0  0.0\n",
      "Recall     0.0  0.0\n",
      "F-score    0.0  0.0\n",
      "Count      3.0  6.0\n",
      "--------\n",
      "Val: (0.16, 0.4, 0.2285714285714286, None)\n",
      "             0    1\n",
      "Precision  0.0  0.0\n",
      "Recall     0.0  0.0\n",
      "F-score    0.0  0.0\n",
      "Count      0.0  1.0\n",
      "--------\n",
      "Test: (0.42857142857142855, 0.42857142857142855, 0.42857142857142855, None)\n",
      "             0    1\n",
      "Precision  0.0  0.0\n",
      "Recall     0.0  0.0\n",
      "F-score    0.0  0.0\n",
      "Count      1.0  0.0\n",
      "================================================================================\n",
      "\n",
      "\n"
     ]
    },
    {
     "data": {
      "image/png": "[encoded data removed]",
      "text/plain": [
       "<Figure size 828x468 with 1 Axes>"
      ]
     },
     "metadata": {
      "needs_background": "light"
     },
     "output_type": "display_data"
    },
    {
     "name": "stderr",
     "output_type": "stream",
     "text": [
      "\r",
      "  0%|          | 0/17 [00:00<?, ?it/s]"
     ]
    },
    {
     "name": "stdout",
     "output_type": "stream",
     "text": [
      "=#==#==#==#==#=22=#==#==#==#==#=\n"
     ]
    },
    {
     "name": "stderr",
     "output_type": "stream",
     "text": [
      "100%|██████████| 17/17 [00:32<00:00,  1.90s/it]\n"
     ]
    },
    {
     "name": "stdout",
     "output_type": "stream",
     "text": [
      "==========Epoch No:22==========\n",
      "Training Loss: 25.795448303222656\n",
      "========\n",
      "Train: (0.1695501730103806, 0.4117647058823529, 0.24019607843137258, None)\n",
      "             0    1\n",
      "Precision  0.0  0.0\n",
      "Recall     0.0  0.0\n",
      "F-score    0.0  0.0\n",
      "Count      3.0  6.0\n",
      "--------\n",
      "Val: (0.16, 0.4, 0.2285714285714286, None)\n",
      "             0    1\n",
      "Precision  0.0  0.0\n",
      "Recall     0.0  0.0\n",
      "F-score    0.0  0.0\n",
      "Count      0.0  1.0\n",
      "--------\n",
      "Test: (0.42857142857142855, 0.42857142857142855, 0.42857142857142855, None)\n",
      "             0    1\n",
      "Precision  0.0  0.0\n",
      "Recall     0.0  0.0\n",
      "F-score    0.0  0.0\n",
      "Count      1.0  0.0\n",
      "================================================================================\n",
      "\n",
      "\n"
     ]
    },
    {
     "data": {
      "image/png": "[encoded data removed]",
      "text/plain": [
       "<Figure size 828x468 with 1 Axes>"
      ]
     },
     "metadata": {
      "needs_background": "light"
     },
     "output_type": "display_data"
    },
    {
     "name": "stderr",
     "output_type": "stream",
     "text": [
      "\r",
      "  0%|          | 0/17 [00:00<?, ?it/s]"
     ]
    },
    {
     "name": "stdout",
     "output_type": "stream",
     "text": [
      "=#==#==#==#==#=23=#==#==#==#==#=\n"
     ]
    },
    {
     "name": "stderr",
     "output_type": "stream",
     "text": [
      "100%|██████████| 17/17 [00:31<00:00,  1.85s/it]\n"
     ]
    },
    {
     "name": "stdout",
     "output_type": "stream",
     "text": [
      "==========Epoch No:23==========\n",
      "Training Loss: 25.755653500556946\n",
      "========\n",
      "Train: (0.1695501730103806, 0.4117647058823529, 0.24019607843137258, None)\n",
      "             0    1\n",
      "Precision  0.0  0.0\n",
      "Recall     0.0  0.0\n",
      "F-score    0.0  0.0\n",
      "Count      3.0  6.0\n",
      "--------\n",
      "Val: (0.16, 0.4, 0.2285714285714286, None)\n",
      "             0    1\n",
      "Precision  0.0  0.0\n",
      "Recall     0.0  0.0\n",
      "F-score    0.0  0.0\n",
      "Count      0.0  1.0\n",
      "--------\n",
      "Test: (0.42857142857142855, 0.42857142857142855, 0.42857142857142855, None)\n",
      "             0    1\n",
      "Precision  0.0  0.0\n",
      "Recall     0.0  0.0\n",
      "F-score    0.0  0.0\n",
      "Count      1.0  0.0\n",
      "================================================================================\n",
      "\n",
      "\n"
     ]
    },
    {
     "data": {
      "image/png": "[encoded data removed]",
      "text/plain": [
       "<Figure size 828x468 with 1 Axes>"
      ]
     },
     "metadata": {
      "needs_background": "light"
     },
     "output_type": "display_data"
    },
    {
     "name": "stderr",
     "output_type": "stream",
     "text": [
      "\r",
      "  0%|          | 0/17 [00:00<?, ?it/s]"
     ]
    },
    {
     "name": "stdout",
     "output_type": "stream",
     "text": [
      "=#==#==#==#==#=24=#==#==#==#==#=\n"
     ]
    },
    {
     "name": "stderr",
     "output_type": "stream",
     "text": [
      "100%|██████████| 17/17 [00:38<00:00,  1.85s/it]\n"
     ]
    },
    {
     "name": "stdout",
     "output_type": "stream",
     "text": [
      "==========Epoch No:24==========\n",
      "Training Loss: 25.712319910526276\n",
      "========\n",
      "Train: (0.1695501730103806, 0.4117647058823529, 0.24019607843137258, None)\n",
      "             0    1\n",
      "Precision  0.0  0.0\n",
      "Recall     0.0  0.0\n",
      "F-score    0.0  0.0\n",
      "Count      3.0  6.0\n",
      "--------\n",
      "Val: (0.16, 0.4, 0.2285714285714286, None)\n",
      "             0    1\n",
      "Precision  0.0  0.0\n",
      "Recall     0.0  0.0\n",
      "F-score    0.0  0.0\n",
      "Count      0.0  1.0\n",
      "--------\n",
      "Test: (0.42857142857142855, 0.42857142857142855, 0.42857142857142855, None)\n",
      "             0    1\n",
      "Precision  0.0  0.0\n",
      "Recall     0.0  0.0\n",
      "F-score    0.0  0.0\n",
      "Count      1.0  0.0\n",
      "================================================================================\n",
      "\n",
      "\n"
     ]
    },
    {
     "data": {
      "image/png": "[encoded data removed]",
      "text/plain": [
       "<Figure size 828x468 with 1 Axes>"
      ]
     },
     "metadata": {
      "needs_background": "light"
     },
     "output_type": "display_data"
    },
    {
     "name": "stderr",
     "output_type": "stream",
     "text": [
      "\r",
      "  0%|          | 0/17 [00:00<?, ?it/s]"
     ]
    },
    {
     "name": "stdout",
     "output_type": "stream",
     "text": [
      "=#==#==#==#==#=25=#==#==#==#==#=\n"
     ]
    },
    {
     "name": "stderr",
     "output_type": "stream",
     "text": [
      "100%|██████████| 17/17 [00:29<00:00,  1.75s/it]\n"
     ]
    },
    {
     "name": "stdout",
     "output_type": "stream",
     "text": [
      "==========Epoch No:25==========\n",
      "Training Loss: 25.669991493225098\n",
      "========\n",
      "Train: (0.1695501730103806, 0.4117647058823529, 0.24019607843137258, None)\n",
      "             0    1\n",
      "Precision  0.0  0.0\n",
      "Recall     0.0  0.0\n",
      "F-score    0.0  0.0\n",
      "Count      3.0  6.0\n",
      "--------\n",
      "Val: (0.16, 0.4, 0.2285714285714286, None)\n",
      "             0    1\n",
      "Precision  0.0  0.0\n",
      "Recall     0.0  0.0\n",
      "F-score    0.0  0.0\n",
      "Count      0.0  1.0\n",
      "--------\n",
      "Test: (0.42857142857142855, 0.42857142857142855, 0.42857142857142855, None)\n",
      "             0    1\n",
      "Precision  0.0  0.0\n",
      "Recall     0.0  0.0\n",
      "F-score    0.0  0.0\n",
      "Count      1.0  0.0\n",
      "================================================================================\n",
      "\n",
      "\n"
     ]
    },
    {
     "data": {
      "image/png": "[encoded data removed]",
      "text/plain": [
       "<Figure size 828x468 with 1 Axes>"
      ]
     },
     "metadata": {
      "needs_background": "light"
     },
     "output_type": "display_data"
    },
    {
     "name": "stderr",
     "output_type": "stream",
     "text": [
      "\r",
      "  0%|          | 0/17 [00:00<?, ?it/s]"
     ]
    },
    {
     "name": "stdout",
     "output_type": "stream",
     "text": [
      "=#==#==#==#==#=26=#==#==#==#==#=\n"
     ]
    },
    {
     "name": "stderr",
     "output_type": "stream",
     "text": [
      "100%|██████████| 17/17 [00:31<00:00,  1.76s/it]\n"
     ]
    },
    {
     "name": "stdout",
     "output_type": "stream",
     "text": [
      "==========Epoch No:26==========\n",
      "Training Loss: 25.630088329315186\n",
      "========\n",
      "Train: (0.1695501730103806, 0.4117647058823529, 0.24019607843137258, None)\n",
      "             0    1\n",
      "Precision  0.0  0.0\n",
      "Recall     0.0  0.0\n",
      "F-score    0.0  0.0\n",
      "Count      3.0  6.0\n",
      "--------\n",
      "Val: (0.16, 0.4, 0.2285714285714286, None)\n",
      "             0    1\n",
      "Precision  0.0  0.0\n",
      "Recall     0.0  0.0\n",
      "F-score    0.0  0.0\n",
      "Count      0.0  1.0\n",
      "--------\n",
      "Test: (0.42857142857142855, 0.42857142857142855, 0.42857142857142855, None)\n",
      "             0    1\n",
      "Precision  0.0  0.0\n",
      "Recall     0.0  0.0\n",
      "F-score    0.0  0.0\n",
      "Count      1.0  0.0\n",
      "================================================================================\n",
      "\n",
      "\n"
     ]
    },
    {
     "data": {
      "image/png": "[encoded data removed]",
      "text/plain": [
       "<Figure size 828x468 with 1 Axes>"
      ]
     },
     "metadata": {
      "needs_background": "light"
     },
     "output_type": "display_data"
    },
    {
     "name": "stderr",
     "output_type": "stream",
     "text": [
      "\r",
      "  0%|          | 0/17 [00:00<?, ?it/s]"
     ]
    },
    {
     "name": "stdout",
     "output_type": "stream",
     "text": [
      "=#==#==#==#==#=27=#==#==#==#==#=\n"
     ]
    },
    {
     "name": "stderr",
     "output_type": "stream",
     "text": [
      "100%|██████████| 17/17 [00:38<00:00,  2.26s/it]\n"
     ]
    },
    {
     "name": "stdout",
     "output_type": "stream",
     "text": [
      "==========Epoch No:27==========\n",
      "Training Loss: 25.590901911258698\n",
      "========\n",
      "Train: (0.1695501730103806, 0.4117647058823529, 0.24019607843137258, None)\n",
      "             0    1\n",
      "Precision  0.0  0.0\n",
      "Recall     0.0  0.0\n",
      "F-score    0.0  0.0\n",
      "Count      3.0  6.0\n",
      "--------\n",
      "Val: (0.16, 0.4, 0.2285714285714286, None)\n",
      "             0    1\n",
      "Precision  0.0  0.0\n",
      "Recall     0.0  0.0\n",
      "F-score    0.0  0.0\n",
      "Count      0.0  1.0\n",
      "--------\n",
      "Test: (0.42857142857142855, 0.42857142857142855, 0.42857142857142855, None)\n",
      "             0    1\n",
      "Precision  0.0  0.0\n",
      "Recall     0.0  0.0\n",
      "F-score    0.0  0.0\n",
      "Count      1.0  0.0\n",
      "================================================================================\n",
      "\n",
      "\n"
     ]
    },
    {
     "data": {
      "image/png": "[encoded data removed]",
      "text/plain": [
       "<Figure size 828x468 with 1 Axes>"
      ]
     },
     "metadata": {
      "needs_background": "light"
     },
     "output_type": "display_data"
    },
    {
     "name": "stderr",
     "output_type": "stream",
     "text": [
      "\r",
      "  0%|          | 0/17 [00:00<?, ?it/s]"
     ]
    },
    {
     "name": "stdout",
     "output_type": "stream",
     "text": [
      "=#==#==#==#==#=28=#==#==#==#==#=\n"
     ]
    },
    {
     "name": "stderr",
     "output_type": "stream",
     "text": [
      "100%|██████████| 17/17 [00:32<00:00,  1.98s/it]\n"
     ]
    },
    {
     "name": "stdout",
     "output_type": "stream",
     "text": [
      "==========Epoch No:28==========\n",
      "Training Loss: 25.55669629573822\n",
      "========\n",
      "Train: (0.1695501730103806, 0.4117647058823529, 0.24019607843137258, None)\n",
      "             0    1\n",
      "Precision  0.0  0.0\n",
      "Recall     0.0  0.0\n",
      "F-score    0.0  0.0\n",
      "Count      3.0  6.0\n",
      "--------\n",
      "Val: (0.16, 0.4, 0.2285714285714286, None)\n",
      "             0    1\n",
      "Precision  0.0  0.0\n",
      "Recall     0.0  0.0\n",
      "F-score    0.0  0.0\n",
      "Count      0.0  1.0\n",
      "--------\n",
      "Test: (0.42857142857142855, 0.42857142857142855, 0.42857142857142855, None)\n",
      "             0    1\n",
      "Precision  0.0  0.0\n",
      "Recall     0.0  0.0\n",
      "F-score    0.0  0.0\n",
      "Count      1.0  0.0\n",
      "================================================================================\n",
      "\n",
      "\n"
     ]
    },
    {
     "data": {
      "image/png": "[encoded data removed]",
      "text/plain": [
       "<Figure size 828x468 with 1 Axes>"
      ]
     },
     "metadata": {
      "needs_background": "light"
     },
     "output_type": "display_data"
    },
    {
     "name": "stderr",
     "output_type": "stream",
     "text": [
      "\r",
      "  0%|          | 0/17 [00:00<?, ?it/s]"
     ]
    },
    {
     "name": "stdout",
     "output_type": "stream",
     "text": [
      "=#==#==#==#==#=29=#==#==#==#==#=\n"
     ]
    },
    {
     "name": "stderr",
     "output_type": "stream",
     "text": [
      "100%|██████████| 17/17 [00:32<00:00,  1.98s/it]\n"
     ]
    },
    {
     "name": "stdout",
     "output_type": "stream",
     "text": [
      "==========Epoch No:29==========\n",
      "Training Loss: 25.523861825466156\n",
      "========\n",
      "Train: (0.1695501730103806, 0.4117647058823529, 0.24019607843137258, None)\n",
      "             0    1\n",
      "Precision  0.0  0.0\n",
      "Recall     0.0  0.0\n",
      "F-score    0.0  0.0\n",
      "Count      3.0  6.0\n",
      "--------\n",
      "Val: (0.16, 0.4, 0.2285714285714286, None)\n",
      "             0    1\n",
      "Precision  0.0  0.0\n",
      "Recall     0.0  0.0\n",
      "F-score    0.0  0.0\n",
      "Count      0.0  1.0\n",
      "--------\n",
      "Test: (0.42857142857142855, 0.42857142857142855, 0.42857142857142855, None)\n",
      "             0    1\n",
      "Precision  0.0  0.0\n",
      "Recall     0.0  0.0\n",
      "F-score    0.0  0.0\n",
      "Count      1.0  0.0\n",
      "================================================================================\n",
      "\n",
      "\n"
     ]
    },
    {
     "data": {
      "image/png": "[encoded data removed]",
      "text/plain": [
       "<Figure size 828x468 with 1 Axes>"
      ]
     },
     "metadata": {
      "needs_background": "light"
     },
     "output_type": "display_data"
    },
    {
     "name": "stderr",
     "output_type": "stream",
     "text": [
      "\r",
      "  0%|          | 0/17 [00:00<?, ?it/s]"
     ]
    },
    {
     "name": "stdout",
     "output_type": "stream",
     "text": [
      "=#==#==#==#==#=30=#==#==#==#==#=\n"
     ]
    },
    {
     "name": "stderr",
     "output_type": "stream",
     "text": [
      "100%|██████████| 17/17 [00:32<00:00,  1.89s/it]\n"
     ]
    },
    {
     "name": "stdout",
     "output_type": "stream",
     "text": [
      "==========Epoch No:30==========\n",
      "Training Loss: 25.491371750831604\n",
      "========\n",
      "Train: (0.1695501730103806, 0.4117647058823529, 0.24019607843137258, None)\n",
      "             0    1\n",
      "Precision  0.0  0.0\n",
      "Recall     0.0  0.0\n",
      "F-score    0.0  0.0\n",
      "Count      3.0  6.0\n",
      "--------\n",
      "Val: (0.16, 0.4, 0.2285714285714286, None)\n",
      "             0    1\n",
      "Precision  0.0  0.0\n",
      "Recall     0.0  0.0\n",
      "F-score    0.0  0.0\n",
      "Count      0.0  1.0\n",
      "--------\n",
      "Test: (0.42857142857142855, 0.42857142857142855, 0.42857142857142855, None)\n",
      "             0    1\n",
      "Precision  0.0  0.0\n",
      "Recall     0.0  0.0\n",
      "F-score    0.0  0.0\n",
      "Count      1.0  0.0\n",
      "================================================================================\n",
      "\n",
      "\n"
     ]
    },
    {
     "data": {
      "image/png": "[encoded data removed]",
      "text/plain": [
       "<Figure size 828x468 with 1 Axes>"
      ]
     },
     "metadata": {
      "needs_background": "light"
     },
     "output_type": "display_data"
    },
    {
     "name": "stderr",
     "output_type": "stream",
     "text": [
      "\r",
      "  0%|          | 0/17 [00:00<?, ?it/s]"
     ]
    },
    {
     "name": "stdout",
     "output_type": "stream",
     "text": [
      "=#==#==#==#==#=31=#==#==#==#==#=\n"
     ]
    },
    {
     "name": "stderr",
     "output_type": "stream",
     "text": [
      "100%|██████████| 17/17 [00:32<00:00,  1.83s/it]\n"
     ]
    },
    {
     "name": "stdout",
     "output_type": "stream",
     "text": [
      "==========Epoch No:31==========\n",
      "Training Loss: 25.459228932857513\n",
      "========\n",
      "Train: (0.1695501730103806, 0.4117647058823529, 0.24019607843137258, None)\n",
      "             0    1\n",
      "Precision  0.0  0.0\n",
      "Recall     0.0  0.0\n",
      "F-score    0.0  0.0\n",
      "Count      3.0  6.0\n",
      "--------\n",
      "Val: (0.16, 0.4, 0.2285714285714286, None)\n",
      "             0    1\n",
      "Precision  0.0  0.0\n",
      "Recall     0.0  0.0\n",
      "F-score    0.0  0.0\n",
      "Count      0.0  1.0\n",
      "--------\n",
      "Test: (0.42857142857142855, 0.42857142857142855, 0.42857142857142855, None)\n",
      "             0    1\n",
      "Precision  0.0  0.0\n",
      "Recall     0.0  0.0\n",
      "F-score    0.0  0.0\n",
      "Count      1.0  0.0\n",
      "================================================================================\n",
      "\n",
      "\n"
     ]
    },
    {
     "data": {
      "image/png": "[encoded data removed]",
      "text/plain": [
       "<Figure size 828x468 with 1 Axes>"
      ]
     },
     "metadata": {
      "needs_background": "light"
     },
     "output_type": "display_data"
    },
    {
     "name": "stderr",
     "output_type": "stream",
     "text": [
      "\r",
      "  0%|          | 0/17 [00:00<?, ?it/s]"
     ]
    },
    {
     "name": "stdout",
     "output_type": "stream",
     "text": [
      "=#==#==#==#==#=32=#==#==#==#==#=\n"
     ]
    },
    {
     "name": "stderr",
     "output_type": "stream",
     "text": [
      "100%|██████████| 17/17 [00:32<00:00,  1.93s/it]\n"
     ]
    },
    {
     "name": "stdout",
     "output_type": "stream",
     "text": [
      "==========Epoch No:32==========\n",
      "Training Loss: 25.425521790981293\n",
      "========\n",
      "Train: (0.1695501730103806, 0.4117647058823529, 0.24019607843137258, None)\n",
      "             0    1\n",
      "Precision  0.0  0.0\n",
      "Recall     0.0  0.0\n",
      "F-score    0.0  0.0\n",
      "Count      3.0  6.0\n",
      "--------\n",
      "Val: (0.16, 0.4, 0.2285714285714286, None)\n",
      "             0    1\n",
      "Precision  0.0  0.0\n",
      "Recall     0.0  0.0\n",
      "F-score    0.0  0.0\n",
      "Count      0.0  1.0\n",
      "--------\n",
      "Test: (0.42857142857142855, 0.42857142857142855, 0.42857142857142855, None)\n",
      "             0    1\n",
      "Precision  0.0  0.0\n",
      "Recall     0.0  0.0\n",
      "F-score    0.0  0.0\n",
      "Count      1.0  0.0\n",
      "================================================================================\n",
      "\n",
      "\n"
     ]
    },
    {
     "data": {
      "image/png": "[encoded data removed]",
      "text/plain": [
       "<Figure size 828x468 with 1 Axes>"
      ]
     },
     "metadata": {
      "needs_background": "light"
     },
     "output_type": "display_data"
    },
    {
     "name": "stderr",
     "output_type": "stream",
     "text": [
      "\r",
      "  0%|          | 0/17 [00:00<?, ?it/s]"
     ]
    },
    {
     "name": "stdout",
     "output_type": "stream",
     "text": [
      "=#==#==#==#==#=33=#==#==#==#==#=\n"
     ]
    },
    {
     "name": "stderr",
     "output_type": "stream",
     "text": [
      "100%|██████████| 17/17 [00:31<00:00,  1.83s/it]\n"
     ]
    },
    {
     "name": "stdout",
     "output_type": "stream",
     "text": [
      "==========Epoch No:33==========\n",
      "Training Loss: 25.392211616039276\n",
      "========\n",
      "Train: (0.1695501730103806, 0.4117647058823529, 0.24019607843137258, None)\n",
      "             0    1\n",
      "Precision  0.0  0.0\n",
      "Recall     0.0  0.0\n",
      "F-score    0.0  0.0\n",
      "Count      3.0  6.0\n",
      "--------\n",
      "Val: (0.16, 0.4, 0.2285714285714286, None)\n",
      "             0    1\n",
      "Precision  0.0  0.0\n",
      "Recall     0.0  0.0\n",
      "F-score    0.0  0.0\n",
      "Count      0.0  1.0\n",
      "--------\n",
      "Test: (0.42857142857142855, 0.42857142857142855, 0.42857142857142855, None)\n",
      "             0    1\n",
      "Precision  0.0  0.0\n",
      "Recall     0.0  0.0\n",
      "F-score    0.0  0.0\n",
      "Count      1.0  0.0\n",
      "================================================================================\n",
      "\n",
      "\n"
     ]
    },
    {
     "data": {
      "image/png": "[encoded data removed]",
      "text/plain": [
       "<Figure size 828x468 with 1 Axes>"
      ]
     },
     "metadata": {
      "needs_background": "light"
     },
     "output_type": "display_data"
    },
    {
     "name": "stderr",
     "output_type": "stream",
     "text": [
      "\r",
      "  0%|          | 0/17 [00:00<?, ?it/s]"
     ]
    },
    {
     "name": "stdout",
     "output_type": "stream",
     "text": [
      "=#==#==#==#==#=34=#==#==#==#==#=\n"
     ]
    },
    {
     "name": "stderr",
     "output_type": "stream",
     "text": [
      "100%|██████████| 17/17 [00:34<00:00,  1.92s/it]\n"
     ]
    },
    {
     "name": "stdout",
     "output_type": "stream",
     "text": [
      "==========Epoch No:34==========\n",
      "Training Loss: 25.358312845230103\n",
      "========\n",
      "Train: (0.1695501730103806, 0.4117647058823529, 0.24019607843137258, None)\n",
      "             0    1\n",
      "Precision  0.0  0.0\n",
      "Recall     0.0  0.0\n",
      "F-score    0.0  0.0\n",
      "Count      3.0  6.0\n",
      "--------\n",
      "Val: (0.16, 0.4, 0.2285714285714286, None)\n",
      "             0    1\n",
      "Precision  0.0  0.0\n",
      "Recall     0.0  0.0\n",
      "F-score    0.0  0.0\n",
      "Count      0.0  1.0\n",
      "--------\n",
      "Test: (0.42857142857142855, 0.42857142857142855, 0.42857142857142855, None)\n",
      "             0    1\n",
      "Precision  0.0  0.0\n",
      "Recall     0.0  0.0\n",
      "F-score    0.0  0.0\n",
      "Count      1.0  0.0\n",
      "================================================================================\n",
      "\n",
      "\n"
     ]
    },
    {
     "data": {
      "image/png": "[encoded data removed]",
      "text/plain": [
       "<Figure size 828x468 with 1 Axes>"
      ]
     },
     "metadata": {
      "needs_background": "light"
     },
     "output_type": "display_data"
    },
    {
     "name": "stderr",
     "output_type": "stream",
     "text": [
      "\r",
      "  0%|          | 0/17 [00:00<?, ?it/s]"
     ]
    },
    {
     "name": "stdout",
     "output_type": "stream",
     "text": [
      "=#==#==#==#==#=35=#==#==#==#==#=\n"
     ]
    },
    {
     "name": "stderr",
     "output_type": "stream",
     "text": [
      "100%|██████████| 17/17 [00:37<00:00,  2.17s/it]\n"
     ]
    },
    {
     "name": "stdout",
     "output_type": "stream",
     "text": [
      "==========Epoch No:35==========\n",
      "Training Loss: 25.324878334999084\n",
      "========\n",
      "Train: (0.1695501730103806, 0.4117647058823529, 0.24019607843137258, None)\n",
      "             0    1\n",
      "Precision  0.0  0.0\n",
      "Recall     0.0  0.0\n",
      "F-score    0.0  0.0\n",
      "Count      3.0  6.0\n",
      "--------\n",
      "Val: (0.16, 0.4, 0.2285714285714286, None)\n",
      "             0    1\n",
      "Precision  0.0  0.0\n",
      "Recall     0.0  0.0\n",
      "F-score    0.0  0.0\n",
      "Count      0.0  1.0\n",
      "--------\n",
      "Test: (0.42857142857142855, 0.42857142857142855, 0.42857142857142855, None)\n",
      "             0    1\n",
      "Precision  0.0  0.0\n",
      "Recall     0.0  0.0\n",
      "F-score    0.0  0.0\n",
      "Count      1.0  0.0\n",
      "================================================================================\n",
      "\n",
      "\n"
     ]
    },
    {
     "data": {
      "image/png": "[encoded data removed]",
      "text/plain": [
       "<Figure size 828x468 with 1 Axes>"
      ]
     },
     "metadata": {
      "needs_background": "light"
     },
     "output_type": "display_data"
    },
    {
     "name": "stderr",
     "output_type": "stream",
     "text": [
      "\r",
      "  0%|          | 0/17 [00:00<?, ?it/s]"
     ]
    },
    {
     "name": "stdout",
     "output_type": "stream",
     "text": [
      "=#==#==#==#==#=36=#==#==#==#==#=\n"
     ]
    },
    {
     "name": "stderr",
     "output_type": "stream",
     "text": [
      "100%|██████████| 17/17 [00:49<00:00,  4.75s/it]\n"
     ]
    },
    {
     "name": "stdout",
     "output_type": "stream",
     "text": [
      "==========Epoch No:36==========\n",
      "Training Loss: 25.292270004749298\n",
      "========\n",
      "Train: (0.1695501730103806, 0.4117647058823529, 0.24019607843137258, None)\n",
      "             0    1\n",
      "Precision  0.0  0.0\n",
      "Recall     0.0  0.0\n",
      "F-score    0.0  0.0\n",
      "Count      3.0  6.0\n",
      "--------\n",
      "Val: (0.16, 0.4, 0.2285714285714286, None)\n",
      "             0    1\n",
      "Precision  0.0  0.0\n",
      "Recall     0.0  0.0\n",
      "F-score    0.0  0.0\n",
      "Count      0.0  1.0\n",
      "--------\n",
      "Test: (0.42857142857142855, 0.42857142857142855, 0.42857142857142855, None)\n",
      "             0    1\n",
      "Precision  0.0  0.0\n",
      "Recall     0.0  0.0\n",
      "F-score    0.0  0.0\n",
      "Count      1.0  0.0\n",
      "================================================================================\n",
      "\n",
      "\n"
     ]
    },
    {
     "data": {
      "image/png": "[encoded data removed]",
      "text/plain": [
       "<Figure size 828x468 with 1 Axes>"
      ]
     },
     "metadata": {
      "needs_background": "light"
     },
     "output_type": "display_data"
    },
    {
     "name": "stderr",
     "output_type": "stream",
     "text": [
      "\r",
      "  0%|          | 0/17 [00:00<?, ?it/s]"
     ]
    },
    {
     "name": "stdout",
     "output_type": "stream",
     "text": [
      "=#==#==#==#==#=37=#==#==#==#==#=\n"
     ]
    },
    {
     "name": "stderr",
     "output_type": "stream",
     "text": [
      "100%|██████████| 17/17 [00:32<00:00,  1.86s/it]\n"
     ]
    },
    {
     "name": "stdout",
     "output_type": "stream",
     "text": [
      "==========Epoch No:37==========\n",
      "Training Loss: 25.264555633068085\n",
      "========\n",
      "Train: (0.1695501730103806, 0.4117647058823529, 0.24019607843137258, None)\n",
      "             0    1\n",
      "Precision  0.0  0.0\n",
      "Recall     0.0  0.0\n",
      "F-score    0.0  0.0\n",
      "Count      3.0  6.0\n",
      "--------\n",
      "Val: (0.16, 0.4, 0.2285714285714286, None)\n",
      "             0    1\n",
      "Precision  0.0  0.0\n",
      "Recall     0.0  0.0\n",
      "F-score    0.0  0.0\n",
      "Count      0.0  1.0\n",
      "--------\n",
      "Test: (0.42857142857142855, 0.42857142857142855, 0.42857142857142855, None)\n",
      "             0    1\n",
      "Precision  0.0  0.0\n",
      "Recall     0.0  0.0\n",
      "F-score    0.0  0.0\n",
      "Count      1.0  0.0\n",
      "================================================================================\n",
      "\n",
      "\n"
     ]
    },
    {
     "data": {
      "image/png": "[encoded data removed]",
      "text/plain": [
       "<Figure size 828x468 with 1 Axes>"
      ]
     },
     "metadata": {
      "needs_background": "light"
     },
     "output_type": "display_data"
    },
    {
     "name": "stderr",
     "output_type": "stream",
     "text": [
      "\r",
      "  0%|          | 0/17 [00:00<?, ?it/s]"
     ]
    },
    {
     "name": "stdout",
     "output_type": "stream",
     "text": [
      "=#==#==#==#==#=38=#==#==#==#==#=\n"
     ]
    },
    {
     "name": "stderr",
     "output_type": "stream",
     "text": [
      "100%|██████████| 17/17 [00:34<00:00,  2.04s/it]\n"
     ]
    },
    {
     "name": "stdout",
     "output_type": "stream",
     "text": [
      "==========Epoch No:38==========\n",
      "Training Loss: 25.235428273677826\n",
      "========\n",
      "Train: (0.1695501730103806, 0.4117647058823529, 0.24019607843137258, None)\n",
      "             0    1\n",
      "Precision  0.0  0.0\n",
      "Recall     0.0  0.0\n",
      "F-score    0.0  0.0\n",
      "Count      3.0  6.0\n",
      "--------\n",
      "Val: (0.16, 0.4, 0.2285714285714286, None)\n",
      "             0    1\n",
      "Precision  0.0  0.0\n",
      "Recall     0.0  0.0\n",
      "F-score    0.0  0.0\n",
      "Count      0.0  1.0\n",
      "--------\n",
      "Test: (0.42857142857142855, 0.42857142857142855, 0.42857142857142855, None)\n",
      "             0    1\n",
      "Precision  0.0  0.0\n",
      "Recall     0.0  0.0\n",
      "F-score    0.0  0.0\n",
      "Count      1.0  0.0\n",
      "================================================================================\n",
      "\n",
      "\n"
     ]
    },
    {
     "data": {
      "image/png": "[encoded data removed]",
      "text/plain": [
       "<Figure size 828x468 with 1 Axes>"
      ]
     },
     "metadata": {
      "needs_background": "light"
     },
     "output_type": "display_data"
    },
    {
     "name": "stderr",
     "output_type": "stream",
     "text": [
      "\r",
      "  0%|          | 0/17 [00:00<?, ?it/s]"
     ]
    },
    {
     "name": "stdout",
     "output_type": "stream",
     "text": [
      "=#==#==#==#==#=39=#==#==#==#==#=\n"
     ]
    },
    {
     "name": "stderr",
     "output_type": "stream",
     "text": [
      "100%|██████████| 17/17 [00:32<00:00,  1.86s/it]\n"
     ]
    },
    {
     "name": "stdout",
     "output_type": "stream",
     "text": [
      "==========Epoch No:39==========\n",
      "Training Loss: 25.2080939412117\n",
      "========\n",
      "Train: (0.1695501730103806, 0.4117647058823529, 0.24019607843137258, None)\n",
      "             0    1\n",
      "Precision  0.0  0.0\n",
      "Recall     0.0  0.0\n",
      "F-score    0.0  0.0\n",
      "Count      3.0  6.0\n",
      "--------\n",
      "Val: (0.16, 0.4, 0.2285714285714286, None)\n",
      "             0    1\n",
      "Precision  0.0  0.0\n",
      "Recall     0.0  0.0\n",
      "F-score    0.0  0.0\n",
      "Count      0.0  1.0\n",
      "--------\n",
      "Test: (0.42857142857142855, 0.42857142857142855, 0.42857142857142855, None)\n",
      "             0    1\n",
      "Precision  0.0  0.0\n",
      "Recall     0.0  0.0\n",
      "F-score    0.0  0.0\n",
      "Count      1.0  0.0\n",
      "================================================================================\n",
      "\n",
      "\n"
     ]
    },
    {
     "data": {
      "image/png": "[encoded data removed]",
      "text/plain": [
       "<Figure size 828x468 with 1 Axes>"
      ]
     },
     "metadata": {
      "needs_background": "light"
     },
     "output_type": "display_data"
    },
    {
     "name": "stderr",
     "output_type": "stream",
     "text": [
      "\r",
      "  0%|          | 0/17 [00:00<?, ?it/s]"
     ]
    },
    {
     "name": "stdout",
     "output_type": "stream",
     "text": [
      "=#==#==#==#==#=40=#==#==#==#==#=\n"
     ]
    },
    {
     "name": "stderr",
     "output_type": "stream",
     "text": [
      "100%|██████████| 17/17 [00:32<00:00,  1.97s/it]\n"
     ]
    },
    {
     "name": "stdout",
     "output_type": "stream",
     "text": [
      "==========Epoch No:40==========\n",
      "Training Loss: 25.18321865797043\n",
      "========\n",
      "Train: (0.1695501730103806, 0.4117647058823529, 0.24019607843137258, None)\n",
      "             0    1\n",
      "Precision  0.0  0.0\n",
      "Recall     0.0  0.0\n",
      "F-score    0.0  0.0\n",
      "Count      3.0  6.0\n",
      "--------\n",
      "Val: (0.16, 0.4, 0.2285714285714286, None)\n",
      "             0    1\n",
      "Precision  0.0  0.0\n",
      "Recall     0.0  0.0\n",
      "F-score    0.0  0.0\n",
      "Count      0.0  1.0\n",
      "--------\n",
      "Test: (0.42857142857142855, 0.42857142857142855, 0.42857142857142855, None)\n",
      "             0    1\n",
      "Precision  0.0  0.0\n",
      "Recall     0.0  0.0\n",
      "F-score    0.0  0.0\n",
      "Count      1.0  0.0\n",
      "================================================================================\n",
      "\n",
      "\n"
     ]
    },
    {
     "data": {
      "image/png": "[encoded data removed]",
      "text/plain": [
       "<Figure size 828x468 with 1 Axes>"
      ]
     },
     "metadata": {
      "needs_background": "light"
     },
     "output_type": "display_data"
    },
    {
     "name": "stderr",
     "output_type": "stream",
     "text": [
      "\r",
      "  0%|          | 0/17 [00:00<?, ?it/s]"
     ]
    },
    {
     "name": "stdout",
     "output_type": "stream",
     "text": [
      "=#==#==#==#==#=41=#==#==#==#==#=\n"
     ]
    },
    {
     "name": "stderr",
     "output_type": "stream",
     "text": [
      "100%|██████████| 17/17 [00:34<00:00,  1.97s/it]\n"
     ]
    },
    {
     "name": "stdout",
     "output_type": "stream",
     "text": [
      "==========Epoch No:41==========\n",
      "Training Loss: 25.1595059633255\n",
      "========\n",
      "Train: (0.1695501730103806, 0.4117647058823529, 0.24019607843137258, None)\n",
      "             0    1\n",
      "Precision  0.0  0.0\n",
      "Recall     0.0  0.0\n",
      "F-score    0.0  0.0\n",
      "Count      3.0  6.0\n",
      "--------\n",
      "Val: (0.16, 0.4, 0.2285714285714286, None)\n",
      "             0    1\n",
      "Precision  0.0  0.0\n",
      "Recall     0.0  0.0\n",
      "F-score    0.0  0.0\n",
      "Count      0.0  1.0\n",
      "--------\n",
      "Test: (0.42857142857142855, 0.42857142857142855, 0.42857142857142855, None)\n",
      "             0    1\n",
      "Precision  0.0  0.0\n",
      "Recall     0.0  0.0\n",
      "F-score    0.0  0.0\n",
      "Count      1.0  0.0\n",
      "================================================================================\n",
      "\n",
      "\n"
     ]
    },
    {
     "data": {
      "image/png": "[encoded data removed]",
      "text/plain": [
       "<Figure size 828x468 with 1 Axes>"
      ]
     },
     "metadata": {
      "needs_background": "light"
     },
     "output_type": "display_data"
    },
    {
     "name": "stderr",
     "output_type": "stream",
     "text": [
      "\r",
      "  0%|          | 0/17 [00:00<?, ?it/s]"
     ]
    },
    {
     "name": "stdout",
     "output_type": "stream",
     "text": [
      "=#==#==#==#==#=42=#==#==#==#==#=\n"
     ]
    },
    {
     "name": "stderr",
     "output_type": "stream",
     "text": [
      "100%|██████████| 17/17 [00:32<00:00,  1.87s/it]\n"
     ]
    },
    {
     "name": "stdout",
     "output_type": "stream",
     "text": [
      "==========Epoch No:42==========\n",
      "Training Loss: 25.13612949848175\n",
      "========\n",
      "Train: (0.1695501730103806, 0.4117647058823529, 0.24019607843137258, None)\n",
      "             0    1\n",
      "Precision  0.0  0.0\n",
      "Recall     0.0  0.0\n",
      "F-score    0.0  0.0\n",
      "Count      3.0  6.0\n",
      "--------\n",
      "Val: (0.16, 0.4, 0.2285714285714286, None)\n",
      "             0    1\n",
      "Precision  0.0  0.0\n",
      "Recall     0.0  0.0\n",
      "F-score    0.0  0.0\n",
      "Count      0.0  1.0\n",
      "--------\n",
      "Test: (0.42857142857142855, 0.42857142857142855, 0.42857142857142855, None)\n",
      "             0    1\n",
      "Precision  0.0  0.0\n",
      "Recall     0.0  0.0\n",
      "F-score    0.0  0.0\n",
      "Count      1.0  0.0\n",
      "================================================================================\n",
      "\n",
      "\n"
     ]
    },
    {
     "data": {
      "image/png": "[encoded data removed]",
      "text/plain": [
       "<Figure size 828x468 with 1 Axes>"
      ]
     },
     "metadata": {
      "needs_background": "light"
     },
     "output_type": "display_data"
    },
    {
     "name": "stderr",
     "output_type": "stream",
     "text": [
      "\r",
      "  0%|          | 0/17 [00:00<?, ?it/s]"
     ]
    },
    {
     "name": "stdout",
     "output_type": "stream",
     "text": [
      "=#==#==#==#==#=43=#==#==#==#==#=\n"
     ]
    },
    {
     "name": "stderr",
     "output_type": "stream",
     "text": [
      "100%|██████████| 17/17 [00:23<00:00,  1.32s/it]\n"
     ]
    },
    {
     "name": "stdout",
     "output_type": "stream",
     "text": [
      "==========Epoch No:43==========\n",
      "Training Loss: 25.113160014152527\n",
      "========\n",
      "Train: (0.1695501730103806, 0.4117647058823529, 0.24019607843137258, None)\n",
      "             0    1\n",
      "Precision  0.0  0.0\n",
      "Recall     0.0  0.0\n",
      "F-score    0.0  0.0\n",
      "Count      3.0  6.0\n",
      "--------\n",
      "Val: (0.16, 0.4, 0.2285714285714286, None)\n",
      "             0    1\n",
      "Precision  0.0  0.0\n",
      "Recall     0.0  0.0\n",
      "F-score    0.0  0.0\n",
      "Count      0.0  1.0\n",
      "--------\n",
      "Test: (0.42857142857142855, 0.42857142857142855, 0.42857142857142855, None)\n",
      "             0    1\n",
      "Precision  0.0  0.0\n",
      "Recall     0.0  0.0\n",
      "F-score    0.0  0.0\n",
      "Count      1.0  0.0\n",
      "================================================================================\n",
      "\n",
      "\n"
     ]
    },
    {
     "data": {
      "image/png": "[encoded data removed]",
      "text/plain": [
       "<Figure size 828x468 with 1 Axes>"
      ]
     },
     "metadata": {
      "needs_background": "light"
     },
     "output_type": "display_data"
    },
    {
     "name": "stderr",
     "output_type": "stream",
     "text": [
      "\r",
      "  0%|          | 0/17 [00:00<?, ?it/s]"
     ]
    },
    {
     "name": "stdout",
     "output_type": "stream",
     "text": [
      "=#==#==#==#==#=44=#==#==#==#==#=\n"
     ]
    },
    {
     "name": "stderr",
     "output_type": "stream",
     "text": [
      "100%|██████████| 17/17 [00:23<00:00,  1.41s/it]\n"
     ]
    },
    {
     "name": "stdout",
     "output_type": "stream",
     "text": [
      "==========Epoch No:44==========\n",
      "Training Loss: 25.090548753738403\n",
      "========\n",
      "Train: (0.1695501730103806, 0.4117647058823529, 0.24019607843137258, None)\n",
      "             0    1\n",
      "Precision  0.0  0.0\n",
      "Recall     0.0  0.0\n",
      "F-score    0.0  0.0\n",
      "Count      3.0  6.0\n",
      "--------\n",
      "Val: (0.16, 0.4, 0.2285714285714286, None)\n",
      "             0    1\n",
      "Precision  0.0  0.0\n",
      "Recall     0.0  0.0\n",
      "F-score    0.0  0.0\n",
      "Count      0.0  1.0\n",
      "--------\n",
      "Test: (0.42857142857142855, 0.42857142857142855, 0.42857142857142855, None)\n",
      "             0    1\n",
      "Precision  0.0  0.0\n",
      "Recall     0.0  0.0\n",
      "F-score    0.0  0.0\n",
      "Count      1.0  0.0\n",
      "================================================================================\n",
      "\n",
      "\n"
     ]
    },
    {
     "data": {
      "image/png": "[encoded data removed]",
      "text/plain": [
       "<Figure size 828x468 with 1 Axes>"
      ]
     },
     "metadata": {
      "needs_background": "light"
     },
     "output_type": "display_data"
    },
    {
     "name": "stderr",
     "output_type": "stream",
     "text": [
      "\r",
      "  0%|          | 0/17 [00:00<?, ?it/s]"
     ]
    },
    {
     "name": "stdout",
     "output_type": "stream",
     "text": [
      "=#==#==#==#==#=45=#==#==#==#==#=\n"
     ]
    },
    {
     "name": "stderr",
     "output_type": "stream",
     "text": [
      "100%|██████████| 17/17 [00:24<00:00,  1.51s/it]\n"
     ]
    },
    {
     "name": "stdout",
     "output_type": "stream",
     "text": [
      "==========Epoch No:45==========\n",
      "Training Loss: 25.06786072254181\n",
      "========\n",
      "Train: (0.1695501730103806, 0.4117647058823529, 0.24019607843137258, None)\n",
      "             0    1\n",
      "Precision  0.0  0.0\n",
      "Recall     0.0  0.0\n",
      "F-score    0.0  0.0\n",
      "Count      3.0  6.0\n",
      "--------\n",
      "Val: (0.16, 0.4, 0.2285714285714286, None)\n",
      "             0    1\n",
      "Precision  0.0  0.0\n",
      "Recall     0.0  0.0\n",
      "F-score    0.0  0.0\n",
      "Count      0.0  1.0\n",
      "--------\n",
      "Test: (0.47619047619047616, 0.5714285714285714, 0.5194805194805194, None)\n",
      "             0    1\n",
      "Precision  0.0  0.0\n",
      "Recall     0.0  0.0\n",
      "F-score    0.0  0.0\n",
      "Count      1.0  0.0\n",
      "================================================================================\n",
      "\n",
      "\n"
     ]
    },
    {
     "data": {
      "image/png": "[encoded data removed]",
      "text/plain": [
       "<Figure size 828x468 with 1 Axes>"
      ]
     },
     "metadata": {
      "needs_background": "light"
     },
     "output_type": "display_data"
    },
    {
     "name": "stderr",
     "output_type": "stream",
     "text": [
      "\r",
      "  0%|          | 0/17 [00:00<?, ?it/s]"
     ]
    },
    {
     "name": "stdout",
     "output_type": "stream",
     "text": [
      "=#==#==#==#==#=46=#==#==#==#==#=\n"
     ]
    },
    {
     "name": "stderr",
     "output_type": "stream",
     "text": [
      "100%|██████████| 17/17 [00:23<00:00,  1.38s/it]\n"
     ]
    },
    {
     "name": "stdout",
     "output_type": "stream",
     "text": [
      "==========Epoch No:46==========\n",
      "Training Loss: 25.045305013656616\n",
      "========\n",
      "Train: (0.1695501730103806, 0.4117647058823529, 0.24019607843137258, None)\n",
      "             0    1\n",
      "Precision  0.0  0.0\n",
      "Recall     0.0  0.0\n",
      "F-score    0.0  0.0\n",
      "Count      3.0  6.0\n",
      "--------\n",
      "Val: (0.16, 0.4, 0.2285714285714286, None)\n",
      "             0    1\n",
      "Precision  0.0  0.0\n",
      "Recall     0.0  0.0\n",
      "F-score    0.0  0.0\n",
      "Count      0.0  1.0\n",
      "--------\n",
      "Test: (0.47619047619047616, 0.5714285714285714, 0.5194805194805194, None)\n",
      "             0    1\n",
      "Precision  0.0  0.0\n",
      "Recall     0.0  0.0\n",
      "F-score    0.0  0.0\n",
      "Count      1.0  0.0\n",
      "================================================================================\n",
      "\n",
      "\n"
     ]
    },
    {
     "data": {
      "image/png": "[encoded data removed]",
      "text/plain": [
       "<Figure size 828x468 with 1 Axes>"
      ]
     },
     "metadata": {
      "needs_background": "light"
     },
     "output_type": "display_data"
    },
    {
     "name": "stderr",
     "output_type": "stream",
     "text": [
      "\r",
      "  0%|          | 0/17 [00:00<?, ?it/s]"
     ]
    },
    {
     "name": "stdout",
     "output_type": "stream",
     "text": [
      "=#==#==#==#==#=47=#==#==#==#==#=\n"
     ]
    },
    {
     "name": "stderr",
     "output_type": "stream",
     "text": [
      "100%|██████████| 17/17 [00:22<00:00,  1.33s/it]\n"
     ]
    },
    {
     "name": "stdout",
     "output_type": "stream",
     "text": [
      "==========Epoch No:47==========\n",
      "Training Loss: 25.022808074951172\n",
      "========\n",
      "Train: (0.1695501730103806, 0.4117647058823529, 0.24019607843137258, None)\n",
      "             0    1\n",
      "Precision  0.0  0.0\n",
      "Recall     0.0  0.0\n",
      "F-score    0.0  0.0\n",
      "Count      3.0  6.0\n",
      "--------\n",
      "Val: (0.16, 0.4, 0.2285714285714286, None)\n",
      "             0    1\n",
      "Precision  0.0  0.0\n",
      "Recall     0.0  0.0\n",
      "F-score    0.0  0.0\n",
      "Count      0.0  1.0\n",
      "--------\n",
      "Test: (0.47619047619047616, 0.5714285714285714, 0.5194805194805194, None)\n",
      "             0    1\n",
      "Precision  0.0  0.0\n",
      "Recall     0.0  0.0\n",
      "F-score    0.0  0.0\n",
      "Count      1.0  0.0\n",
      "================================================================================\n",
      "\n",
      "\n"
     ]
    },
    {
     "data": {
      "image/png": "[encoded data removed]",
      "text/plain": [
       "<Figure size 828x468 with 1 Axes>"
      ]
     },
     "metadata": {
      "needs_background": "light"
     },
     "output_type": "display_data"
    },
    {
     "name": "stderr",
     "output_type": "stream",
     "text": [
      "\r",
      "  0%|          | 0/17 [00:00<?, ?it/s]"
     ]
    },
    {
     "name": "stdout",
     "output_type": "stream",
     "text": [
      "=#==#==#==#==#=48=#==#==#==#==#=\n"
     ]
    },
    {
     "name": "stderr",
     "output_type": "stream",
     "text": [
      "100%|██████████| 17/17 [00:22<00:00,  1.33s/it]\n"
     ]
    },
    {
     "name": "stdout",
     "output_type": "stream",
     "text": [
      "==========Epoch No:48==========\n",
      "Training Loss: 25.000011920928955\n",
      "========\n",
      "Train: (0.1695501730103806, 0.4117647058823529, 0.24019607843137258, None)\n",
      "             0    1\n",
      "Precision  0.0  0.0\n",
      "Recall     0.0  0.0\n",
      "F-score    0.0  0.0\n",
      "Count      3.0  6.0\n",
      "--------\n",
      "Val: (0.16, 0.4, 0.2285714285714286, None)\n",
      "             0    1\n",
      "Precision  0.0  0.0\n",
      "Recall     0.0  0.0\n",
      "F-score    0.0  0.0\n",
      "Count      0.0  1.0\n",
      "--------\n",
      "Test: (0.47619047619047616, 0.5714285714285714, 0.5194805194805194, None)\n",
      "             0    1\n",
      "Precision  0.0  0.0\n",
      "Recall     0.0  0.0\n",
      "F-score    0.0  0.0\n",
      "Count      1.0  0.0\n",
      "================================================================================\n",
      "\n",
      "\n"
     ]
    },
    {
     "data": {
      "image/png": "[encoded data removed]",
      "text/plain": [
       "<Figure size 828x468 with 1 Axes>"
      ]
     },
     "metadata": {
      "needs_background": "light"
     },
     "output_type": "display_data"
    },
    {
     "name": "stderr",
     "output_type": "stream",
     "text": [
      "\r",
      "  0%|          | 0/17 [00:00<?, ?it/s]"
     ]
    },
    {
     "name": "stdout",
     "output_type": "stream",
     "text": [
      "=#==#==#==#==#=49=#==#==#==#==#=\n"
     ]
    },
    {
     "name": "stderr",
     "output_type": "stream",
     "text": [
      "100%|██████████| 17/17 [00:22<00:00,  1.37s/it]\n"
     ]
    },
    {
     "name": "stdout",
     "output_type": "stream",
     "text": [
      "==========Epoch No:49==========\n",
      "Training Loss: 24.97763442993164\n",
      "========\n",
      "Train: (0.1695501730103806, 0.4117647058823529, 0.24019607843137258, None)\n",
      "             0    1\n",
      "Precision  0.0  0.0\n",
      "Recall     0.0  0.0\n",
      "F-score    0.0  0.0\n",
      "Count      3.0  6.0\n",
      "--------\n",
      "Val: (0.16, 0.4, 0.2285714285714286, None)\n",
      "             0    1\n",
      "Precision  0.0  0.0\n",
      "Recall     0.0  0.0\n",
      "F-score    0.0  0.0\n",
      "Count      0.0  1.0\n",
      "--------\n",
      "Test: (0.47619047619047616, 0.5714285714285714, 0.5194805194805194, None)\n",
      "             0    1\n",
      "Precision  0.0  0.0\n",
      "Recall     0.0  0.0\n",
      "F-score    0.0  0.0\n",
      "Count      1.0  0.0\n",
      "================================================================================\n",
      "\n",
      "\n"
     ]
    },
    {
     "data": {
      "image/png": "[encoded data removed]",
      "text/plain": [
       "<Figure size 828x468 with 1 Axes>"
      ]
     },
     "metadata": {
      "needs_background": "light"
     },
     "output_type": "display_data"
    },
    {
     "name": "stderr",
     "output_type": "stream",
     "text": [
      "\r",
      "  0%|          | 0/17 [00:00<?, ?it/s]"
     ]
    },
    {
     "name": "stdout",
     "output_type": "stream",
     "text": [
      "=#==#==#==#==#=50=#==#==#==#==#=\n"
     ]
    },
    {
     "name": "stderr",
     "output_type": "stream",
     "text": [
      "100%|██████████| 17/17 [00:25<00:00,  1.61s/it]\n"
     ]
    },
    {
     "name": "stdout",
     "output_type": "stream",
     "text": [
      "==========Epoch No:50==========\n",
      "Training Loss: 24.954987168312073\n",
      "========\n",
      "Train: (0.1695501730103806, 0.4117647058823529, 0.24019607843137258, None)\n",
      "             0    1\n",
      "Precision  0.0  0.0\n",
      "Recall     0.0  0.0\n",
      "F-score    0.0  0.0\n",
      "Count      3.0  6.0\n",
      "--------\n",
      "Val: (0.16, 0.4, 0.2285714285714286, None)\n",
      "             0    1\n",
      "Precision  0.0  0.0\n",
      "Recall     0.0  0.0\n",
      "F-score    0.0  0.0\n",
      "Count      0.0  1.0\n",
      "--------\n",
      "Test: (0.47619047619047616, 0.5714285714285714, 0.5194805194805194, None)\n",
      "             0    1\n",
      "Precision  0.0  0.0\n",
      "Recall     0.0  0.0\n",
      "F-score    0.0  0.0\n",
      "Count      1.0  0.0\n",
      "================================================================================\n",
      "\n",
      "\n"
     ]
    },
    {
     "data": {
      "image/png": "[encoded data removed]",
      "text/plain": [
       "<Figure size 828x468 with 1 Axes>"
      ]
     },
     "metadata": {
      "needs_background": "light"
     },
     "output_type": "display_data"
    },
    {
     "name": "stderr",
     "output_type": "stream",
     "text": [
      "\r",
      "  0%|          | 0/17 [00:00<?, ?it/s]"
     ]
    },
    {
     "name": "stdout",
     "output_type": "stream",
     "text": [
      "=#==#==#==#==#=51=#==#==#==#==#=\n"
     ]
    },
    {
     "name": "stderr",
     "output_type": "stream",
     "text": [
      "100%|██████████| 17/17 [00:43<00:00,  1.47s/it]\n"
     ]
    },
    {
     "name": "stdout",
     "output_type": "stream",
     "text": [
      "==========Epoch No:51==========\n",
      "Training Loss: 24.933084189891815\n",
      "========\n",
      "Train: (0.1695501730103806, 0.4117647058823529, 0.24019607843137258, None)\n",
      "             0    1\n",
      "Precision  0.0  0.0\n",
      "Recall     0.0  0.0\n",
      "F-score    0.0  0.0\n",
      "Count      3.0  6.0\n",
      "--------\n",
      "Val: (0.16, 0.4, 0.2285714285714286, None)\n",
      "             0    1\n",
      "Precision  0.0  0.0\n",
      "Recall     0.0  0.0\n",
      "F-score    0.0  0.0\n",
      "Count      0.0  1.0\n",
      "--------\n",
      "Test: (0.47619047619047616, 0.5714285714285714, 0.5194805194805194, None)\n",
      "             0    1\n",
      "Precision  0.0  0.0\n",
      "Recall     0.0  0.0\n",
      "F-score    0.0  0.0\n",
      "Count      1.0  0.0\n",
      "================================================================================\n",
      "\n",
      "\n"
     ]
    },
    {
     "data": {
      "image/png": "[encoded data removed]",
      "text/plain": [
       "<Figure size 828x468 with 1 Axes>"
      ]
     },
     "metadata": {
      "needs_background": "light"
     },
     "output_type": "display_data"
    },
    {
     "name": "stderr",
     "output_type": "stream",
     "text": [
      "\r",
      "  0%|          | 0/17 [00:00<?, ?it/s]"
     ]
    },
    {
     "name": "stdout",
     "output_type": "stream",
     "text": [
      "=#==#==#==#==#=52=#==#==#==#==#=\n"
     ]
    },
    {
     "name": "stderr",
     "output_type": "stream",
     "text": [
      "100%|██████████| 17/17 [00:22<00:00,  1.34s/it]\n"
     ]
    },
    {
     "name": "stdout",
     "output_type": "stream",
     "text": [
      "==========Epoch No:52==========\n",
      "Training Loss: 24.910558760166168\n",
      "========\n",
      "Train: (0.1695501730103806, 0.4117647058823529, 0.24019607843137258, None)\n",
      "             0    1\n",
      "Precision  0.0  0.0\n",
      "Recall     0.0  0.0\n",
      "F-score    0.0  0.0\n",
      "Count      3.0  6.0\n",
      "--------\n",
      "Val: (0.16, 0.4, 0.2285714285714286, None)\n",
      "             0    1\n",
      "Precision  0.0  0.0\n",
      "Recall     0.0  0.0\n",
      "F-score    0.0  0.0\n",
      "Count      0.0  1.0\n",
      "--------\n",
      "Test: (0.47619047619047616, 0.5714285714285714, 0.5194805194805194, None)\n",
      "             0    1\n",
      "Precision  0.0  0.0\n",
      "Recall     0.0  0.0\n",
      "F-score    0.0  0.0\n",
      "Count      1.0  0.0\n",
      "================================================================================\n",
      "\n",
      "\n"
     ]
    },
    {
     "data": {
      "image/png": "[encoded data removed]",
      "text/plain": [
       "<Figure size 828x468 with 1 Axes>"
      ]
     },
     "metadata": {
      "needs_background": "light"
     },
     "output_type": "display_data"
    },
    {
     "name": "stderr",
     "output_type": "stream",
     "text": [
      "\r",
      "  0%|          | 0/17 [00:00<?, ?it/s]"
     ]
    },
    {
     "name": "stdout",
     "output_type": "stream",
     "text": [
      "=#==#==#==#==#=53=#==#==#==#==#=\n"
     ]
    },
    {
     "name": "stderr",
     "output_type": "stream",
     "text": [
      "100%|██████████| 17/17 [00:32<00:00,  1.59s/it]\n"
     ]
    },
    {
     "name": "stdout",
     "output_type": "stream",
     "text": [
      "==========Epoch No:53==========\n",
      "Training Loss: 24.888479828834534\n",
      "========\n",
      "Train: (0.1695501730103806, 0.4117647058823529, 0.24019607843137258, None)\n",
      "             0    1\n",
      "Precision  0.0  0.0\n",
      "Recall     0.0  0.0\n",
      "F-score    0.0  0.0\n",
      "Count      3.0  6.0\n",
      "--------\n",
      "Val: (0.16, 0.4, 0.2285714285714286, None)\n",
      "             0    1\n",
      "Precision  0.0  0.0\n",
      "Recall     0.0  0.0\n",
      "F-score    0.0  0.0\n",
      "Count      0.0  1.0\n",
      "--------\n",
      "Test: (0.47619047619047616, 0.5714285714285714, 0.5194805194805194, None)\n",
      "             0    1\n",
      "Precision  0.0  0.0\n",
      "Recall     0.0  0.0\n",
      "F-score    0.0  0.0\n",
      "Count      1.0  0.0\n",
      "================================================================================\n",
      "\n",
      "\n"
     ]
    },
    {
     "data": {
      "image/png": "[encoded data removed]",
      "text/plain": [
       "<Figure size 828x468 with 1 Axes>"
      ]
     },
     "metadata": {
      "needs_background": "light"
     },
     "output_type": "display_data"
    },
    {
     "name": "stderr",
     "output_type": "stream",
     "text": [
      "\r",
      "  0%|          | 0/17 [00:00<?, ?it/s]"
     ]
    },
    {
     "name": "stdout",
     "output_type": "stream",
     "text": [
      "=#==#==#==#==#=54=#==#==#==#==#=\n"
     ]
    },
    {
     "name": "stderr",
     "output_type": "stream",
     "text": [
      "100%|██████████| 17/17 [00:31<00:00,  1.36s/it]\n"
     ]
    },
    {
     "name": "stdout",
     "output_type": "stream",
     "text": [
      "==========Epoch No:54==========\n",
      "Training Loss: 24.86589550971985\n",
      "========\n",
      "Train: (0.1695501730103806, 0.4117647058823529, 0.24019607843137258, None)\n",
      "             0    1\n",
      "Precision  0.0  0.0\n",
      "Recall     0.0  0.0\n",
      "F-score    0.0  0.0\n",
      "Count      3.0  6.0\n",
      "--------\n",
      "Val: (0.16, 0.4, 0.2285714285714286, None)\n",
      "             0    1\n",
      "Precision  0.0  0.0\n",
      "Recall     0.0  0.0\n",
      "F-score    0.0  0.0\n",
      "Count      0.0  1.0\n",
      "--------\n",
      "Test: (0.47619047619047616, 0.5714285714285714, 0.5194805194805194, None)\n",
      "             0    1\n",
      "Precision  0.0  0.0\n",
      "Recall     0.0  0.0\n",
      "F-score    0.0  0.0\n",
      "Count      1.0  0.0\n",
      "================================================================================\n",
      "\n",
      "\n"
     ]
    },
    {
     "data": {
      "image/png": "[encoded data removed]",
      "text/plain": [
       "<Figure size 828x468 with 1 Axes>"
      ]
     },
     "metadata": {
      "needs_background": "light"
     },
     "output_type": "display_data"
    },
    {
     "name": "stderr",
     "output_type": "stream",
     "text": [
      "\r",
      "  0%|          | 0/17 [00:00<?, ?it/s]"
     ]
    },
    {
     "name": "stdout",
     "output_type": "stream",
     "text": [
      "=#==#==#==#==#=55=#==#==#==#==#=\n"
     ]
    },
    {
     "name": "stderr",
     "output_type": "stream",
     "text": [
      "100%|██████████| 17/17 [00:22<00:00,  1.36s/it]\n"
     ]
    },
    {
     "name": "stdout",
     "output_type": "stream",
     "text": [
      "==========Epoch No:55==========\n",
      "Training Loss: 24.843783795833588\n",
      "========\n",
      "Train: (0.1695501730103806, 0.4117647058823529, 0.24019607843137258, None)\n",
      "             0    1\n",
      "Precision  0.0  0.0\n",
      "Recall     0.0  0.0\n",
      "F-score    0.0  0.0\n",
      "Count      3.0  6.0\n",
      "--------\n",
      "Val: (0.16, 0.4, 0.2285714285714286, None)\n",
      "             0    1\n",
      "Precision  0.0  0.0\n",
      "Recall     0.0  0.0\n",
      "F-score    0.0  0.0\n",
      "Count      0.0  1.0\n",
      "--------\n",
      "Test: (0.47619047619047616, 0.5714285714285714, 0.5194805194805194, None)\n",
      "             0    1\n",
      "Precision  0.0  0.0\n",
      "Recall     0.0  0.0\n",
      "F-score    0.0  0.0\n",
      "Count      1.0  0.0\n",
      "================================================================================\n",
      "\n",
      "\n"
     ]
    },
    {
     "data": {
      "image/png": "[encoded data removed]",
      "text/plain": [
       "<Figure size 828x468 with 1 Axes>"
      ]
     },
     "metadata": {
      "needs_background": "light"
     },
     "output_type": "display_data"
    },
    {
     "name": "stderr",
     "output_type": "stream",
     "text": [
      "\r",
      "  0%|          | 0/17 [00:00<?, ?it/s]"
     ]
    },
    {
     "name": "stdout",
     "output_type": "stream",
     "text": [
      "=#==#==#==#==#=56=#==#==#==#==#=\n"
     ]
    },
    {
     "name": "stderr",
     "output_type": "stream",
     "text": [
      "100%|██████████| 17/17 [00:21<00:00,  1.15s/it]\n"
     ]
    },
    {
     "name": "stdout",
     "output_type": "stream",
     "text": [
      "==========Epoch No:56==========\n",
      "Training Loss: 24.82096230983734\n",
      "========\n",
      "Train: (0.1695501730103806, 0.4117647058823529, 0.24019607843137258, None)\n",
      "             0    1\n",
      "Precision  0.0  0.0\n",
      "Recall     0.0  0.0\n",
      "F-score    0.0  0.0\n",
      "Count      3.0  6.0\n",
      "--------\n",
      "Val: (0.16, 0.4, 0.2285714285714286, None)\n",
      "             0    1\n",
      "Precision  0.0  0.0\n",
      "Recall     0.0  0.0\n",
      "F-score    0.0  0.0\n",
      "Count      0.0  1.0\n",
      "--------\n",
      "Test: (0.47619047619047616, 0.5714285714285714, 0.5194805194805194, None)\n",
      "             0    1\n",
      "Precision  0.0  0.0\n",
      "Recall     0.0  0.0\n",
      "F-score    0.0  0.0\n",
      "Count      1.0  0.0\n",
      "================================================================================\n",
      "\n",
      "\n"
     ]
    },
    {
     "data": {
      "image/png": "[encoded data removed]",
      "text/plain": [
       "<Figure size 828x468 with 1 Axes>"
      ]
     },
     "metadata": {
      "needs_background": "light"
     },
     "output_type": "display_data"
    },
    {
     "name": "stderr",
     "output_type": "stream",
     "text": [
      "\r",
      "  0%|          | 0/17 [00:00<?, ?it/s]"
     ]
    },
    {
     "name": "stdout",
     "output_type": "stream",
     "text": [
      "=#==#==#==#==#=57=#==#==#==#==#=\n"
     ]
    },
    {
     "name": "stderr",
     "output_type": "stream",
     "text": [
      "100%|██████████| 17/17 [00:20<00:00,  1.15s/it]\n"
     ]
    },
    {
     "name": "stdout",
     "output_type": "stream",
     "text": [
      "==========Epoch No:57==========\n",
      "Training Loss: 24.79837316274643\n",
      "========\n",
      "Train: (0.1695501730103806, 0.4117647058823529, 0.24019607843137258, None)\n",
      "             0    1\n",
      "Precision  0.0  0.0\n",
      "Recall     0.0  0.0\n",
      "F-score    0.0  0.0\n",
      "Count      3.0  6.0\n",
      "--------\n",
      "Val: (0.16, 0.4, 0.2285714285714286, None)\n",
      "             0    1\n",
      "Precision  0.0  0.0\n",
      "Recall     0.0  0.0\n",
      "F-score    0.0  0.0\n",
      "Count      0.0  1.0\n",
      "--------\n",
      "Test: (0.47619047619047616, 0.5714285714285714, 0.5194805194805194, None)\n",
      "             0    1\n",
      "Precision  0.0  0.0\n",
      "Recall     0.0  0.0\n",
      "F-score    0.0  0.0\n",
      "Count      1.0  0.0\n",
      "================================================================================\n",
      "\n",
      "\n"
     ]
    },
    {
     "data": {
      "image/png": "[encoded data removed]",
      "text/plain": [
       "<Figure size 828x468 with 1 Axes>"
      ]
     },
     "metadata": {
      "needs_background": "light"
     },
     "output_type": "display_data"
    },
    {
     "name": "stderr",
     "output_type": "stream",
     "text": [
      "\r",
      "  0%|          | 0/17 [00:00<?, ?it/s]"
     ]
    },
    {
     "name": "stdout",
     "output_type": "stream",
     "text": [
      "=#==#==#==#==#=58=#==#==#==#==#=\n"
     ]
    },
    {
     "name": "stderr",
     "output_type": "stream",
     "text": [
      "100%|██████████| 17/17 [00:19<00:00,  1.16s/it]\n"
     ]
    },
    {
     "name": "stdout",
     "output_type": "stream",
     "text": [
      "==========Epoch No:58==========\n",
      "Training Loss: 24.77530837059021\n",
      "========\n",
      "Train: (0.1695501730103806, 0.4117647058823529, 0.24019607843137258, None)\n",
      "             0    1\n",
      "Precision  0.0  0.0\n",
      "Recall     0.0  0.0\n",
      "F-score    0.0  0.0\n",
      "Count      3.0  6.0\n",
      "--------\n",
      "Val: (0.16, 0.4, 0.2285714285714286, None)\n",
      "             0    1\n",
      "Precision  0.0  0.0\n",
      "Recall     0.0  0.0\n",
      "F-score    0.0  0.0\n",
      "Count      0.0  1.0\n",
      "--------\n",
      "Test: (0.47619047619047616, 0.5714285714285714, 0.5194805194805194, None)\n",
      "             0    1\n",
      "Precision  0.0  0.0\n",
      "Recall     0.0  0.0\n",
      "F-score    0.0  0.0\n",
      "Count      1.0  0.0\n",
      "================================================================================\n",
      "\n",
      "\n"
     ]
    },
    {
     "data": {
      "image/png": "[encoded data removed]",
      "text/plain": [
       "<Figure size 828x468 with 1 Axes>"
      ]
     },
     "metadata": {
      "needs_background": "light"
     },
     "output_type": "display_data"
    },
    {
     "name": "stderr",
     "output_type": "stream",
     "text": [
      "\r",
      "  0%|          | 0/17 [00:00<?, ?it/s]"
     ]
    },
    {
     "name": "stdout",
     "output_type": "stream",
     "text": [
      "=#==#==#==#==#=59=#==#==#==#==#=\n"
     ]
    },
    {
     "name": "stderr",
     "output_type": "stream",
     "text": [
      "100%|██████████| 17/17 [00:19<00:00,  1.17s/it]\n"
     ]
    },
    {
     "name": "stdout",
     "output_type": "stream",
     "text": [
      "==========Epoch No:59==========\n",
      "Training Loss: 24.753258764743805\n",
      "========\n",
      "Train: (0.1695501730103806, 0.4117647058823529, 0.24019607843137258, None)\n",
      "             0    1\n",
      "Precision  0.0  0.0\n",
      "Recall     0.0  0.0\n",
      "F-score    0.0  0.0\n",
      "Count      3.0  6.0\n",
      "--------\n",
      "Val: (0.16, 0.4, 0.2285714285714286, None)\n",
      "             0    1\n",
      "Precision  0.0  0.0\n",
      "Recall     0.0  0.0\n",
      "F-score    0.0  0.0\n",
      "Count      0.0  1.0\n",
      "--------\n",
      "Test: (0.47619047619047616, 0.5714285714285714, 0.5194805194805194, None)\n",
      "             0    1\n",
      "Precision  0.0  0.0\n",
      "Recall     0.0  0.0\n",
      "F-score    0.0  0.0\n",
      "Count      1.0  0.0\n",
      "================================================================================\n",
      "\n",
      "\n"
     ]
    },
    {
     "data": {
      "image/png": "[encoded data removed]",
      "text/plain": [
       "<Figure size 828x468 with 1 Axes>"
      ]
     },
     "metadata": {
      "needs_background": "light"
     },
     "output_type": "display_data"
    }
   ],
   "source": [
    "start_epoch = 0\n",
    "end_epoch = 60\n",
    "model_name = params['model_name']\n",
    "for iter_ in range(start_epoch, end_epoch):\n",
    "    print(\"=#=\"*5+str(iter_)+\"=#=\"*5)\n",
    "    total_loss = 0\n",
    "    preds_train = []\n",
    "    actual_train = []\n",
    "    for each_ID in tqdm(data['train_ids']):\n",
    "        model_RNN.zero_grad()\n",
    "\n",
    "        tag_scores = model_RNN(data['data'], each_ID)\n",
    "\n",
    "        _, ind_ = torch.max(tag_scores, dim=1)\n",
    "        preds_train+=ind_.tolist()\n",
    "        # For this dataset the label is in -2\n",
    "\n",
    "        curr_labels = [data['data'][each_ID][label_ind]]\n",
    "#         curr_labels = [batchify.label_mapping[x] for x in curr_labels]\n",
    "\n",
    "        actual_train += curr_labels\n",
    "#         curr_labels = torch.cuda.LongTensor(curr_labels)\n",
    "        curr_labels = torch.LongTensor(curr_labels)\n",
    "        curr_labels = autograd.Variable(curr_labels)\n",
    "#         print(tag_scores)\n",
    "#         print(curr_labels)\n",
    "        loss = loss_function(tag_scores, curr_labels.reshape(tag_scores.shape[0]))\n",
    "        total_loss+=loss.item()\n",
    "\n",
    "        loss.backward()\n",
    "        optimizer.step()\n",
    "    \n",
    "    df_tr = pd.DataFrame(list(precision_recall_fscore_support(actual_train, preds_train, \n",
    "                                                              labels = [0,1])),\n",
    "                                                             columns = [0,1])\n",
    "    df_tr.index = ['Precision','Recall','F-score','Count']\n",
    "    prf_tr = precision_recall_fscore_support(actual_train, preds_train, average='weighted')\n",
    "#     prf_tr, df_tr = evaluate_(model_RNN, data, 'train_ids')\n",
    "    prf_test, df_test = eval_plot.evaluate_dbm(model_RNN, data, 'test_ids')\n",
    "    prf_val, df_val = eval_plot.evaluate_dbm(model_RNN, data, 'val_ids')\n",
    "    \n",
    "    df_all = pd.concat([df_tr, df_val, df_test],axis=1)\n",
    "    dict_df_prf_mod['Epoch'+str(iter_)] = df_all\n",
    "    \n",
    "    print('=='*5 + \"Epoch No:\"+str(iter_) +\"==\"*5)\n",
    "    print(\"Training Loss: \"+str(total_loss))\n",
    "    print(\"==\"*4)\n",
    "    print(\"Train: \" + str(prf_tr))\n",
    "    print(df_tr)\n",
    "    print(\"--\"*4)\n",
    "    print(\"Val: \" + str(prf_val))\n",
    "    print(df_val)\n",
    "    print(\"--\"*4)\n",
    "    print(\"Test: \" + str(prf_test))\n",
    "    print(df_test)\n",
    "    print('=='*40)\n",
    "    print('\\n')\n",
    "    eval_plot.plot_graphs(dict_df_prf_mod, 'F-score', \n",
    "                      model_path + \"/\" +model_name+str(iter_)+'.png',\n",
    "                      0, iter_+1, \n",
    "                      model_name)\n",
    "#     if(save_flag):\n",
    "#         torch.save(model_RNN, model_config_path + '/'+model_name+str(iter_)+'.pt')\n",
    "#         pickle.dump(dict_df_prf_mod, open('../../Results/dict_prf_'+model_name+str(iter_)+'.pkl','wb'))\n",
    "#         eval_plot.plot_graphs(dict_df_prf_mod, 'F-score', \n",
    "#                               '../../Plots/'+model_name+str(iter_)+'.png',\n",
    "#                               0, iter_+1, \n",
    "#                               model_name)"
   ]
  },
  {
   "cell_type": "code",
   "execution_count": null,
   "metadata": {},
   "outputs": [],
   "source": []
  }
 ],
 "metadata": {
  "kernelspec": {
   "display_name": "python3_6",
   "language": "python",
   "name": "python3_6"
  },
  "language_info": {
   "codemirror_mode": {
    "name": "ipython",
    "version": 3
   },
   "file_extension": ".py",
   "mimetype": "text/x-python",
   "name": "python",
   "nbconvert_exporter": "python",
   "pygments_lexer": "ipython3",
   "version": "3.6.0"
  }
 },
 "nbformat": 4,
 "nbformat_minor": 2
}
