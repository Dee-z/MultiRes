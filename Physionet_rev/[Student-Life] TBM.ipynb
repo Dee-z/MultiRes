{
 "cells": [
  {
   "cell_type": "code",
   "execution_count": 1,
   "metadata": {},
   "outputs": [
    {
     "name": "stdout",
     "output_type": "stream",
     "text": [
      "/Users/nsimsiri/Documents/code/ml/MultiRes/student_life\n",
      "/Users/nsimsiri/Documents/code/ml/MultiRes/Physionet_rev\n",
      "<module 'evaluate_plot' from '/Users/nsimsiri/Documents/code/ml/MultiRes/Physionet_rev/evaluate_plot.py'>\n",
      "sys.version_info(major=3, minor=6, micro=0, releaselevel='final', serial=0)\n"
     ]
    }
   ],
   "source": [
    "import os, sys\n",
    "cwd = os.getcwd()\n",
    "module_path = os.path.abspath(os.path.join('..'))\n",
    "student_life_path = module_path + \"/student_life\"\n",
    "physnet_path = module_path + \"/Physionet_rev\"\n",
    "print(student_life_path)\n",
    "print(physnet_path)\n",
    "\n",
    "sys.path.append(physnet_path)\n",
    "sys.path.append(student_life_path)\n",
    "\n",
    "import pandas as pd\n",
    "import numpy as np\n",
    "import pickle\n",
    "from random import shuffle\n",
    "from tqdm import tqdm\n",
    "import matplotlib.pyplot as plt\n",
    "import random\n",
    "\n",
    "import torch\n",
    "import torch.nn as nn\n",
    "import torch.nn.functional as F\n",
    "import torch.optim as optim\n",
    "import torch.autograd as autograd\n",
    "\n",
    "\n",
    "import tbm as tbm\n",
    "from net_dbm import RNN_osaka\n",
    "\n",
    "\n",
    "import evaluate_plot as eval_plot\n",
    "import batchify as batchify\n",
    "from sklearn.metrics import precision_recall_fscore_support\n",
    "import importlib\n",
    "import src.utils.student_utils as student_utils\n",
    "import src.definitions as definitions\n",
    "from IPython.display import display\n",
    "from src.data_getter import student_life_var_binned_data_getter\n",
    "importlib.reload(student_life_var_binned_data_getter)\n",
    "importlib.reload(student_utils)\n",
    "\n",
    "# 1 starts the process on GPU-0\n",
    "os.environ['CUDA_VISIBLE_DEVICES'] = '0'\n",
    "torch.__version__\n",
    "%matplotlib inline\n",
    "print(eval_plot)\n",
    "print(sys.version_info)"
   ]
  },
  {
   "cell_type": "code",
   "execution_count": 2,
   "metadata": {},
   "outputs": [
    {
     "name": "stdout",
     "output_type": "stream",
     "text": [
      "pickle_path /Users/nsimsiri/Documents/code/ml/MultiRes/student_life/data/training_data/student_life_pickle.pkl\n",
      "model_config_path /Users/nsimsiri/Documents/code/ml/MultiRes/student_life/models\n"
     ]
    }
   ],
   "source": [
    "data = None\n",
    "pickle_path = student_life_path + '/data/training_data/student_life_pickle.pkl'\n",
    "model_path = student_life_path + '/models'\n",
    "print('pickle_path', pickle_path)\n",
    "print('model_config_path', model_path)"
   ]
  },
  {
   "cell_type": "code",
   "execution_count": 3,
   "metadata": {},
   "outputs": [
    {
     "name": "stdout",
     "output_type": "stream",
     "text": [
      "dict_keys(['train_ids', 'val_ids', 'test_ids', 'data'])\n"
     ]
    }
   ],
   "source": [
    "with open(pickle_path, 'rb') as pickle_file:\n",
    "    data = pickle.load(pickle_file)\n",
    "print(data.keys())"
   ]
  },
  {
   "cell_type": "code",
   "execution_count": 4,
   "metadata": {},
   "outputs": [
    {
     "name": "stdout",
     "output_type": "stream",
     "text": [
      "/Users/nsimsiri/Documents/code/ml/MultiRes/student_life/models/TBM-SL-.pt\n"
     ]
    }
   ],
   "source": [
    "params = {'bilstm_flag':True,\n",
    "        'hidden_dim' : 32,\n",
    "        'input_dim':50,\n",
    "        'dropout' : 0.9,\n",
    "        'layers' : 1,\n",
    "        'tagset_size' : 5,\n",
    "        'bilstm_flag' : True,\n",
    "        'attn_category' : 'dot',\n",
    "        'num_features' : 10,\n",
    "        'batch_size':1,\n",
    "        'model_name':'TBM-SL-'}\n",
    "\n",
    "model_config_path = model_path + \"/\" + params['model_name']+'.pt'\n",
    "print(model_config_path)\n",
    "with open(model_config_path, 'wb') as config_file:\n",
    "    pickle.dump(params, config_file)\n",
    "    \n"
   ]
  },
  {
   "cell_type": "code",
   "execution_count": null,
   "metadata": {},
   "outputs": [
    {
     "name": "stdout",
     "output_type": "stream",
     "text": [
      "Dot Attention is being used!\n"
     ]
    },
    {
     "name": "stderr",
     "output_type": "stream",
     "text": [
      "/Users/nsimsiri/anaconda2/envs/python3/lib/python3.6/site-packages/torch/nn/modules/rnn.py:46: UserWarning: dropout option adds dropout after all but last recurrent layer, so non-zero dropout expects num_layers greater than 1, but got dropout=0.9 and num_layers=1\n",
      "  \"num_layers={}\".format(dropout, num_layers))\n"
     ]
    }
   ],
   "source": [
    "model_RNN = tbm.RNN_osaka(params)\n",
    "loss_function = nn.NLLLoss()\n",
    "optimizer = optim.SGD(model_RNN.parameters(), lr=0.0001, weight_decay=0.000000002)\n"
   ]
  },
  {
   "cell_type": "code",
   "execution_count": null,
   "metadata": {},
   "outputs": [
    {
     "name": "stdout",
     "output_type": "stream",
     "text": [
      "NORMAL mode with Flags\n"
     ]
    }
   ],
   "source": [
    "mode = 'normal'\n",
    "if(mode=='normal'):\n",
    "    feature_ind = 0\n",
    "    label_ind = -1\n",
    "    print(\"NORMAL mode with Flags\")"
   ]
  },
  {
   "cell_type": "code",
   "execution_count": null,
   "metadata": {},
   "outputs": [
    {
     "name": "stdout",
     "output_type": "stream",
     "text": [
      "==x====x====x====x====x====x====x====x====x====x====x====x====x====x====x====x====x====x====x====x==\n",
      "Data Statistics\n",
      "Train Data: 17\n",
      "Val Data: 5\n",
      "Test Data: 7\n",
      "==x====x====x====x====x====x====x====x====x====x====x====x====x====x====x====x====x====x====x====x==\n"
     ]
    }
   ],
   "source": [
    "batch_size = 1\n",
    "epochs = 45\n",
    "save_flag = True\n",
    "dict_df_prf_mod = {}\n",
    "print(\"==x==\"*20)\n",
    "print(\"Data Statistics\")\n",
    "print(\"Train Data: \"+str(len(data['train_ids'])))\n",
    "print(\"Val Data: \"+str(len(data['val_ids'])))\n",
    "print(\"Test Data: \"+str(len(data['test_ids'])))\n",
    "print(\"==x==\"*20)"
   ]
  },
  {
   "cell_type": "code",
   "execution_count": null,
   "metadata": {},
   "outputs": [],
   "source": [
    "start_epoch = 0\n",
    "end_epoch = 90\n",
    "model_name = params['model_name']\n",
    "target_classes = [0,1,2,3,4]\n",
    "for iter_ in range(start_epoch, end_epoch):\n",
    "    print (\"=#=\"*5+str(iter_)+\"=#=\"*5)\n",
    "    total_loss = 0\n",
    "    preds_train = []\n",
    "    actual_train = []\n",
    "    train_ids = []\n",
    "    for each_ID in tqdm(data['train_ids']):\n",
    "        train_idx.append(each_ID)\n",
    "        model_RNN.zero_grad()\n",
    "        tag_scores = model_RNN(data['data'], each_ID)\n",
    "        \n",
    "        _, ind_ = torch.max(tag_scores, dim=1)\n",
    "        preds_train+=ind_.tolist()\n",
    "        \n",
    "        curr_labels = [data['data'][each_ID][-1]]\n",
    "        actual_train+=curr_labels\n",
    "        curr_labels = torch.LongTensor(curr_labels)\n",
    "        curr_labels = autograd.Variable(curr_labels)\n",
    "        \n",
    "        loss = loss_function(tag_scores, curr_labels.reshape(tag_scores.shape[0]))\n",
    "        total_loss+=loss.item()\n",
    "        loss.backward()\n",
    "        optimizer.step()\n",
    "    \n",
    "    print(\"TRAIN_IDS\", train_ids)\n",
    "    df_tr = pd.DataFrame(list(precision_recall_fscore_support(actual_train, preds_train, labels = target_classes)),\n",
    "                       columns = list(range(len(target_classes))))\n",
    "    df_tr.index = ['Precision','Recall','F-score','Count']\n",
    "    prf_tr = precision_recall_fscore_support(actual_train, preds_train, average='weighted')\n",
    "#     prf_test, df_test = eval_plot.evaluate_dbm(model_RNN, data, 'test_ids', target_n=target_classes)\n",
    "\n",
    "#     prf_val, df_val = eval_plot.evaluate_dbm(model_RNN, data, 'val_ids', target_n=target_classes)\n",
    "    \n",
    "#     df_all = pd.concat([df_tr, df_val, df_test],axis=1)\n",
    "#     dict_df_prf_mod['Epoch'+str(iter_)] = df_all\n",
    "    \n",
    "    print('=='*5 + \"Epoch No:\"+str(iter_) +\"==\"*5)\n",
    "    print(\"Training Loss: \"+str(total_loss))\n",
    "    print(\"==\"*4)\n",
    "    print(\"Train: \" + str(prf_tr))\n",
    "    print(df_tr)\n",
    "#     print(\"--\"*4)\n",
    "#     print(\"Val: \" + str(prf_val))\n",
    "#     print(df_val)\n",
    "#     print(\"--\"*4)\n",
    "#     print(\"Test: \" + str(prf_test))\n",
    "#     print(df_test)\n",
    "#     print('=='*40)\n",
    "#     print('\\n')\n",
    "\n",
    "#     eval_plot.plot_graphs(dict_df_prf_mod, 'F-score', \n",
    "#                   model_path + \"/\" +model_name+str(iter_)+'.png',\n",
    "#                   0, iter_+1, \n",
    "#                   model_name, target_n=len(target_classes))\n",
    "\n",
    "#     if(save_flag):\n",
    "#         torch.save(model_RNN, '../../Models/'+model_name+str(iter_)+'.pt')\n",
    "#         pickle.dump(dict_df_prf_mod, open('../../Results/dict_prf_'+model_name+str(iter_)+'.pkl','wb'))\n",
    "#         eval_plot.plot_graphs(dict_df_prf_mod, 'F-score', \n",
    "#                               '../../Plots/'+model_name+str(iter_)+'.png',\n",
    "#                               0, iter_+1, \n",
    "#                               model_name)"
   ]
  },
  {
   "cell_type": "code",
   "execution_count": null,
   "metadata": {},
   "outputs": [],
   "source": [
    "print(data)"
   ]
  },
  {
   "cell_type": "code",
   "execution_count": null,
   "metadata": {},
   "outputs": [],
   "source": []
  },
  {
   "cell_type": "code",
   "execution_count": null,
   "metadata": {},
   "outputs": [],
   "source": []
  },
  {
   "cell_type": "code",
   "execution_count": null,
   "metadata": {},
   "outputs": [],
   "source": []
  }
 ],
 "metadata": {
  "kernelspec": {
   "display_name": "python3_6",
   "language": "python",
   "name": "python3_6"
  },
  "language_info": {
   "codemirror_mode": {
    "name": "ipython",
    "version": 3
   },
   "file_extension": ".py",
   "mimetype": "text/x-python",
   "name": "python",
   "nbconvert_exporter": "python",
   "pygments_lexer": "ipython3",
   "version": "3.6.0"
  },
  "widgets": {
   "application/vnd.jupyter.widget-state+json": {
    "state": {},
    "version_major": 2,
    "version_minor": 0
   }
  }
 },
 "nbformat": 4,
 "nbformat_minor": 2
}
