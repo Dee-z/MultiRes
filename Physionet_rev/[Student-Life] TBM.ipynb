{
 "cells": [
  {
   "cell_type": "code",
   "execution_count": 1,
   "metadata": {},
   "outputs": [
    {
     "name": "stdout",
     "output_type": "stream",
     "text": [
      "/Users/nsimsiri/Documents/code/ml/MultiRes/student_life\n",
      "/Users/nsimsiri/Documents/code/ml/MultiRes/Physionet_rev\n",
      "<module 'evaluate_plot' from '/Users/nsimsiri/Documents/code/ml/MultiRes/Physionet_rev/evaluate_plot.py'>\n",
      "sys.version_info(major=3, minor=6, micro=0, releaselevel='final', serial=0)\n"
     ]
    }
   ],
   "source": [
    "import os, sys\n",
    "cwd = os.getcwd()\n",
    "module_path = os.path.abspath(os.path.join('..'))\n",
    "student_life_path = module_path + \"/student_life\"\n",
    "physnet_path = module_path + \"/Physionet_rev\"\n",
    "print(student_life_path)\n",
    "print(physnet_path)\n",
    "\n",
    "sys.path.append(physnet_path)\n",
    "sys.path.append(student_life_path)\n",
    "\n",
    "import pandas as pd\n",
    "import numpy as np\n",
    "import pickle\n",
    "from random import shuffle\n",
    "from tqdm import tqdm\n",
    "import matplotlib.pyplot as plt\n",
    "import random\n",
    "\n",
    "import torch\n",
    "import torch.nn as nn\n",
    "import torch.nn.functional as F\n",
    "import torch.optim as optim\n",
    "import torch.autograd as autograd\n",
    "\n",
    "\n",
    "import tbm as tbm\n",
    "from net_dbm import RNN_osaka\n",
    "\n",
    "\n",
    "import evaluate_plot as eval_plot\n",
    "import batchify as batchify\n",
    "from sklearn.metrics import precision_recall_fscore_support\n",
    "import importlib\n",
    "import src.utils.student_utils as student_utils\n",
    "import src.definitions as definitions\n",
    "from IPython.display import display\n",
    "from src.data_getter import student_life_var_binned_data_getter\n",
    "importlib.reload(student_life_var_binned_data_getter)\n",
    "importlib.reload(student_utils)\n",
    "\n",
    "# 1 starts the process on GPU-0\n",
    "os.environ['CUDA_VISIBLE_DEVICES'] = '0'\n",
    "torch.__version__\n",
    "%matplotlib inline\n",
    "print(eval_plot)\n",
    "print(sys.version_info)"
   ]
  },
  {
   "cell_type": "code",
   "execution_count": 2,
   "metadata": {},
   "outputs": [
    {
     "name": "stdout",
     "output_type": "stream",
     "text": [
      "pickle_path /Users/nsimsiri/Documents/code/ml/MultiRes/student_life/data/training_data/student_life_pickle.pkl\n",
      "model_config_path /Users/nsimsiri/Documents/code/ml/MultiRes/student_life/models\n"
     ]
    }
   ],
   "source": [
    "data = None\n",
    "pickle_path = student_life_path + '/data/training_data/student_life_pickle.pkl'\n",
    "model_path = student_life_path + '/models'\n",
    "print('pickle_path', pickle_path)\n",
    "print('model_config_path', model_path)"
   ]
  },
  {
   "cell_type": "code",
   "execution_count": 3,
   "metadata": {},
   "outputs": [
    {
     "name": "stdout",
     "output_type": "stream",
     "text": [
      "dict_keys(['train_ids', 'val_ids', 'test_ids', 'data'])\n"
     ]
    }
   ],
   "source": [
    "with open(pickle_path, 'rb') as pickle_file:\n",
    "    data = pickle.load(pickle_file)\n",
    "print(data.keys())"
   ]
  },
  {
   "cell_type": "code",
   "execution_count": 4,
   "metadata": {},
   "outputs": [
    {
     "name": "stdout",
     "output_type": "stream",
     "text": [
      "/Users/nsimsiri/Documents/code/ml/MultiRes/student_life/models/TBM-SL-.pt\n"
     ]
    }
   ],
   "source": [
    "params = {'bilstm_flag':True,\n",
    "        'hidden_dim' : 128,\n",
    "        'input_dim':50,\n",
    "        'dropout' : 0.9,\n",
    "        'layers' : 1,\n",
    "        'tagset_size' : 5,\n",
    "        'bilstm_flag' : True,\n",
    "        'attn_category' : 'dot',\n",
    "        'num_features' : 10,\n",
    "        'batch_size':1,\n",
    "        'model_name':'TBM-SL-'}\n",
    "\n",
    "model_config_path = model_path + \"/\" + params['model_name']+'.pt'\n",
    "print(model_config_path)\n",
    "with open(model_config_path, 'wb') as config_file:\n",
    "    pickle.dump(params, config_file)\n",
    "    \n"
   ]
  },
  {
   "cell_type": "code",
   "execution_count": 5,
   "metadata": {},
   "outputs": [
    {
     "name": "stdout",
     "output_type": "stream",
     "text": [
      "Dot Attention is being used!\n"
     ]
    },
    {
     "name": "stderr",
     "output_type": "stream",
     "text": [
      "/Users/nsimsiri/anaconda2/envs/python3/lib/python3.6/site-packages/torch/nn/modules/rnn.py:46: UserWarning: dropout option adds dropout after all but last recurrent layer, so non-zero dropout expects num_layers greater than 1, but got dropout=0.9 and num_layers=1\n",
      "  \"num_layers={}\".format(dropout, num_layers))\n"
     ]
    }
   ],
   "source": [
    "model_RNN = tbm.RNN_osaka(params)\n",
    "loss_function = nn.NLLLoss()\n",
    "optimizer = optim.SGD(model_RNN.parameters(), lr=0.0001, weight_decay=0.000000002)\n"
   ]
  },
  {
   "cell_type": "code",
   "execution_count": 6,
   "metadata": {},
   "outputs": [
    {
     "name": "stdout",
     "output_type": "stream",
     "text": [
      "NORMAL mode with Flags\n"
     ]
    }
   ],
   "source": [
    "mode = 'normal'\n",
    "if(mode=='normal'):\n",
    "    feature_ind = 0\n",
    "    label_ind = -1\n",
    "    print(\"NORMAL mode with Flags\")"
   ]
  },
  {
   "cell_type": "code",
   "execution_count": 7,
   "metadata": {},
   "outputs": [
    {
     "name": "stdout",
     "output_type": "stream",
     "text": [
      "==x====x====x====x====x====x====x====x====x====x====x====x====x====x====x====x====x====x====x====x==\n",
      "Data Statistics\n",
      "Train Data: 17\n",
      "Val Data: 5\n",
      "Test Data: 7\n",
      "==x====x====x====x====x====x====x====x====x====x====x====x====x====x====x====x====x====x====x====x==\n"
     ]
    }
   ],
   "source": [
    "batch_size = 1\n",
    "epochs = 45\n",
    "save_flag = True\n",
    "dict_df_prf_mod = {}\n",
    "print(\"==x==\"*20)\n",
    "print(\"Data Statistics\")\n",
    "print(\"Train Data: \"+str(len(data['train_ids'])))\n",
    "print(\"Val Data: \"+str(len(data['val_ids'])))\n",
    "print(\"Test Data: \"+str(len(data['test_ids'])))\n",
    "print(\"==x==\"*20)"
   ]
  },
  {
   "cell_type": "code",
   "execution_count": 8,
   "metadata": {},
   "outputs": [
    {
     "name": "stderr",
     "output_type": "stream",
     "text": [
      "\r",
      "  0%|          | 0/17 [00:00<?, ?it/s]"
     ]
    },
    {
     "name": "stdout",
     "output_type": "stream",
     "text": [
      "=#==#==#==#==#=0=#==#==#==#==#=\n"
     ]
    },
    {
     "name": "stderr",
     "output_type": "stream",
     "text": [
      "100%|██████████| 17/17 [00:34<00:00,  1.91s/it]\n",
      "/Users/nsimsiri/anaconda2/envs/python3/lib/python3.6/site-packages/sklearn/metrics/classification.py:1143: UndefinedMetricWarning: Precision and F-score are ill-defined and being set to 0.0 in labels with no predicted samples.\n",
      "  'precision', 'predicted', average, warn_for)\n",
      "/Users/nsimsiri/anaconda2/envs/python3/lib/python3.6/site-packages/sklearn/metrics/classification.py:1145: UndefinedMetricWarning: Recall and F-score are ill-defined and being set to 0.0 in labels with no true samples.\n",
      "  'recall', 'true', average, warn_for)\n",
      "  0%|          | 0/17 [00:00<?, ?it/s]"
     ]
    },
    {
     "name": "stdout",
     "output_type": "stream",
     "text": [
      "==========Epoch No:0==========\n",
      "Training Loss: 27.607382774353027\n",
      "========\n",
      "Train: (0.1497326203208556, 0.23529411764705882, 0.1830065359477124, None)\n",
      "             0    1         2    3    4\n",
      "Precision  0.0  0.0  0.363636  0.0  0.0\n",
      "Recall     0.0  0.0  0.571429  0.0  0.0\n",
      "F-score    0.0  0.0  0.444444  0.0  0.0\n",
      "Count      3.0  6.0  7.000000  0.0  1.0\n",
      "=#==#==#==#==#=1=#==#==#==#==#=\n"
     ]
    },
    {
     "name": "stderr",
     "output_type": "stream",
     "text": [
      "100%|██████████| 17/17 [00:36<00:00,  1.95s/it]\n",
      "  0%|          | 0/17 [00:00<?, ?it/s]"
     ]
    },
    {
     "name": "stdout",
     "output_type": "stream",
     "text": [
      "==========Epoch No:1==========\n",
      "Training Loss: 27.19180130958557\n",
      "========\n",
      "Train: (0.2529411764705883, 0.29411764705882354, 0.2643598615916955, None)\n",
      "             0         1         2    3    4\n",
      "Precision  0.0  0.250000  0.400000  0.0  0.0\n",
      "Recall     0.0  0.166667  0.571429  0.0  0.0\n",
      "F-score    0.0  0.200000  0.470588  0.0  0.0\n",
      "Count      3.0  6.000000  7.000000  0.0  1.0\n",
      "=#==#==#==#==#=2=#==#==#==#==#=\n"
     ]
    },
    {
     "name": "stderr",
     "output_type": "stream",
     "text": [
      "100%|██████████| 17/17 [00:29<00:00,  1.61s/it]\n",
      "  0%|          | 0/17 [00:00<?, ?it/s]"
     ]
    },
    {
     "name": "stdout",
     "output_type": "stream",
     "text": [
      "==========Epoch No:2==========\n",
      "Training Loss: 26.871126294136047\n",
      "========\n",
      "Train: (0.2529411764705883, 0.29411764705882354, 0.2643598615916955, None)\n",
      "             0         1         2    3    4\n",
      "Precision  0.0  0.250000  0.400000  0.0  0.0\n",
      "Recall     0.0  0.166667  0.571429  0.0  0.0\n",
      "F-score    0.0  0.200000  0.470588  0.0  0.0\n",
      "Count      3.0  6.000000  7.000000  0.0  1.0\n",
      "=#==#==#==#==#=3=#==#==#==#==#=\n"
     ]
    },
    {
     "name": "stderr",
     "output_type": "stream",
     "text": [
      "100%|██████████| 17/17 [00:39<00:00,  2.65s/it]\n",
      "  0%|          | 0/17 [00:00<?, ?it/s]"
     ]
    },
    {
     "name": "stdout",
     "output_type": "stream",
     "text": [
      "==========Epoch No:3==========\n",
      "Training Loss: 26.281094789505005\n",
      "========\n",
      "Train: (0.40522875816993464, 0.47058823529411764, 0.4338235294117648, None)\n",
      "             0    1         2    3    4\n",
      "Precision  0.0  0.5  0.555556  0.0  0.0\n",
      "Recall     0.0  0.5  0.714286  0.0  0.0\n",
      "F-score    0.0  0.5  0.625000  0.0  0.0\n",
      "Count      3.0  6.0  7.000000  0.0  1.0\n",
      "=#==#==#==#==#=4=#==#==#==#==#=\n"
     ]
    },
    {
     "name": "stderr",
     "output_type": "stream",
     "text": [
      "100%|██████████| 17/17 [00:41<00:00,  2.51s/it]\n",
      "  0%|          | 0/17 [00:00<?, ?it/s]"
     ]
    },
    {
     "name": "stdout",
     "output_type": "stream",
     "text": [
      "==========Epoch No:4==========\n",
      "Training Loss: 25.957600712776184\n",
      "========\n",
      "Train: (0.40522875816993464, 0.47058823529411764, 0.4338235294117648, None)\n",
      "             0    1         2    3    4\n",
      "Precision  0.0  0.5  0.555556  0.0  0.0\n",
      "Recall     0.0  0.5  0.714286  0.0  0.0\n",
      "F-score    0.0  0.5  0.625000  0.0  0.0\n",
      "Count      3.0  6.0  7.000000  0.0  1.0\n",
      "=#==#==#==#==#=5=#==#==#==#==#=\n"
     ]
    },
    {
     "name": "stderr",
     "output_type": "stream",
     "text": [
      "100%|██████████| 17/17 [00:37<00:00,  2.33s/it]\n",
      "  0%|          | 0/17 [00:00<?, ?it/s]"
     ]
    },
    {
     "name": "stdout",
     "output_type": "stream",
     "text": [
      "==========Epoch No:5==========\n",
      "Training Loss: 25.77353072166443\n",
      "========\n",
      "Train: (0.40522875816993464, 0.47058823529411764, 0.4338235294117648, None)\n",
      "             0    1         2    3    4\n",
      "Precision  0.0  0.5  0.555556  0.0  0.0\n",
      "Recall     0.0  0.5  0.714286  0.0  0.0\n",
      "F-score    0.0  0.5  0.625000  0.0  0.0\n",
      "Count      3.0  6.0  7.000000  0.0  1.0\n",
      "=#==#==#==#==#=6=#==#==#==#==#=\n"
     ]
    },
    {
     "name": "stderr",
     "output_type": "stream",
     "text": [
      "100%|██████████| 17/17 [00:42<00:00,  2.74s/it]\n",
      "  0%|          | 0/17 [00:00<?, ?it/s]"
     ]
    },
    {
     "name": "stdout",
     "output_type": "stream",
     "text": [
      "==========Epoch No:6==========\n",
      "Training Loss: 25.595848441123962\n",
      "========\n",
      "Train: (0.40522875816993464, 0.47058823529411764, 0.4338235294117648, None)\n",
      "             0    1         2    3    4\n",
      "Precision  0.0  0.5  0.555556  0.0  0.0\n",
      "Recall     0.0  0.5  0.714286  0.0  0.0\n",
      "F-score    0.0  0.5  0.625000  0.0  0.0\n",
      "Count      3.0  6.0  7.000000  0.0  1.0\n",
      "=#==#==#==#==#=7=#==#==#==#==#=\n"
     ]
    },
    {
     "name": "stderr",
     "output_type": "stream",
     "text": [
      "100%|██████████| 17/17 [00:41<00:00,  2.58s/it]\n",
      "  0%|          | 0/17 [00:00<?, ?it/s]"
     ]
    },
    {
     "name": "stdout",
     "output_type": "stream",
     "text": [
      "==========Epoch No:7==========\n",
      "Training Loss: 25.437604784965515\n",
      "========\n",
      "Train: (0.40522875816993464, 0.47058823529411764, 0.4338235294117648, None)\n",
      "             0    1         2    3    4\n",
      "Precision  0.0  0.5  0.555556  0.0  0.0\n",
      "Recall     0.0  0.5  0.714286  0.0  0.0\n",
      "F-score    0.0  0.5  0.625000  0.0  0.0\n",
      "Count      3.0  6.0  7.000000  0.0  1.0\n",
      "=#==#==#==#==#=8=#==#==#==#==#=\n"
     ]
    },
    {
     "name": "stderr",
     "output_type": "stream",
     "text": [
      "100%|██████████| 17/17 [00:34<00:00,  1.77s/it]\n",
      "  0%|          | 0/17 [00:00<?, ?it/s]"
     ]
    },
    {
     "name": "stdout",
     "output_type": "stream",
     "text": [
      "==========Epoch No:8==========\n",
      "Training Loss: 25.23372733592987\n",
      "========\n",
      "Train: (0.40522875816993464, 0.47058823529411764, 0.4338235294117648, None)\n",
      "             0    1         2    3    4\n",
      "Precision  0.0  0.5  0.555556  0.0  0.0\n",
      "Recall     0.0  0.5  0.714286  0.0  0.0\n",
      "F-score    0.0  0.5  0.625000  0.0  0.0\n",
      "Count      3.0  6.0  7.000000  0.0  1.0\n",
      "=#==#==#==#==#=9=#==#==#==#==#=\n"
     ]
    },
    {
     "name": "stderr",
     "output_type": "stream",
     "text": [
      "100%|██████████| 17/17 [00:35<00:00,  1.94s/it]\n",
      "  0%|          | 0/17 [00:00<?, ?it/s]"
     ]
    },
    {
     "name": "stdout",
     "output_type": "stream",
     "text": [
      "==========Epoch No:9==========\n",
      "Training Loss: 25.10009455680847\n",
      "========\n",
      "Train: (0.4737967914438503, 0.5882352941176471, 0.5127748068924539, None)\n",
      "             0         1         2    3    4\n",
      "Precision  0.0  0.600000  0.636364  0.0  0.0\n",
      "Recall     0.0  0.500000  1.000000  0.0  0.0\n",
      "F-score    0.0  0.545455  0.777778  0.0  0.0\n",
      "Count      3.0  6.000000  7.000000  0.0  1.0\n",
      "=#==#==#==#==#=10=#==#==#==#==#=\n"
     ]
    },
    {
     "name": "stderr",
     "output_type": "stream",
     "text": [
      "100%|██████████| 17/17 [00:46<00:00,  2.87s/it]\n",
      "  0%|          | 0/17 [00:00<?, ?it/s]"
     ]
    },
    {
     "name": "stdout",
     "output_type": "stream",
     "text": [
      "==========Epoch No:10==========\n",
      "Training Loss: 24.9694926738739\n",
      "========\n",
      "Train: (0.4519607843137255, 0.5882352941176471, 0.4959189417393752, None)\n",
      "             0         1         2    3    4\n",
      "Precision  0.0  0.600000  0.583333  0.0  0.0\n",
      "Recall     0.0  0.500000  1.000000  0.0  0.0\n",
      "F-score    0.0  0.545455  0.736842  0.0  0.0\n",
      "Count      3.0  6.000000  7.000000  0.0  1.0\n",
      "=#==#==#==#==#=11=#==#==#==#==#=\n"
     ]
    },
    {
     "name": "stderr",
     "output_type": "stream",
     "text": [
      "100%|██████████| 17/17 [00:31<00:00,  1.81s/it]\n",
      "  0%|          | 0/17 [00:00<?, ?it/s]"
     ]
    },
    {
     "name": "stdout",
     "output_type": "stream",
     "text": [
      "==========Epoch No:11==========\n",
      "Training Loss: 24.83798313140869\n",
      "========\n",
      "Train: (0.4519607843137255, 0.5882352941176471, 0.4959189417393752, None)\n",
      "             0         1         2    3    4\n",
      "Precision  0.0  0.600000  0.583333  0.0  0.0\n",
      "Recall     0.0  0.500000  1.000000  0.0  0.0\n",
      "F-score    0.0  0.545455  0.736842  0.0  0.0\n",
      "Count      3.0  6.000000  7.000000  0.0  1.0\n",
      "=#==#==#==#==#=12=#==#==#==#==#=\n"
     ]
    },
    {
     "name": "stderr",
     "output_type": "stream",
     "text": [
      "100%|██████████| 17/17 [00:40<00:00,  1.82s/it]\n",
      "  0%|          | 0/17 [00:00<?, ?it/s]"
     ]
    },
    {
     "name": "stdout",
     "output_type": "stream",
     "text": [
      "==========Epoch No:12==========\n",
      "Training Loss: 24.701899647712708\n",
      "========\n",
      "Train: (0.4519607843137255, 0.5882352941176471, 0.4959189417393752, None)\n",
      "             0         1         2    3    4\n",
      "Precision  0.0  0.600000  0.583333  0.0  0.0\n",
      "Recall     0.0  0.500000  1.000000  0.0  0.0\n",
      "F-score    0.0  0.545455  0.736842  0.0  0.0\n",
      "Count      3.0  6.000000  7.000000  0.0  1.0\n",
      "=#==#==#==#==#=13=#==#==#==#==#=\n"
     ]
    },
    {
     "name": "stderr",
     "output_type": "stream",
     "text": [
      "100%|██████████| 17/17 [00:44<00:00,  2.15s/it]\n",
      "  0%|          | 0/17 [00:00<?, ?it/s]"
     ]
    },
    {
     "name": "stdout",
     "output_type": "stream",
     "text": [
      "==========Epoch No:13==========\n",
      "Training Loss: 24.562610268592834\n",
      "========\n",
      "Train: (0.4519607843137255, 0.5882352941176471, 0.4959189417393752, None)\n",
      "             0         1         2    3    4\n",
      "Precision  0.0  0.600000  0.583333  0.0  0.0\n",
      "Recall     0.0  0.500000  1.000000  0.0  0.0\n",
      "F-score    0.0  0.545455  0.736842  0.0  0.0\n",
      "Count      3.0  6.000000  7.000000  0.0  1.0\n",
      "=#==#==#==#==#=14=#==#==#==#==#=\n"
     ]
    },
    {
     "name": "stderr",
     "output_type": "stream",
     "text": [
      "100%|██████████| 17/17 [00:34<00:00,  1.93s/it]\n",
      "  0%|          | 0/17 [00:00<?, ?it/s]"
     ]
    },
    {
     "name": "stdout",
     "output_type": "stream",
     "text": [
      "==========Epoch No:14==========\n",
      "Training Loss: 24.43361258506775\n",
      "========\n",
      "Train: (0.4519607843137255, 0.5882352941176471, 0.4959189417393752, None)\n",
      "             0         1         2    3    4\n",
      "Precision  0.0  0.600000  0.583333  0.0  0.0\n",
      "Recall     0.0  0.500000  1.000000  0.0  0.0\n",
      "F-score    0.0  0.545455  0.736842  0.0  0.0\n",
      "Count      3.0  6.000000  7.000000  0.0  1.0\n",
      "=#==#==#==#==#=15=#==#==#==#==#=\n"
     ]
    },
    {
     "name": "stderr",
     "output_type": "stream",
     "text": [
      "100%|██████████| 17/17 [00:39<00:00,  2.48s/it]\n",
      "  0%|          | 0/17 [00:00<?, ?it/s]"
     ]
    },
    {
     "name": "stdout",
     "output_type": "stream",
     "text": [
      "==========Epoch No:15==========\n",
      "Training Loss: 24.316214561462402\n",
      "========\n",
      "Train: (0.4973262032085561, 0.6470588235294118, 0.5555555555555556, None)\n",
      "             0         1         2    3    4\n",
      "Precision  0.0  0.666667  0.636364  0.0  0.0\n",
      "Recall     0.0  0.666667  1.000000  0.0  0.0\n",
      "F-score    0.0  0.666667  0.777778  0.0  0.0\n",
      "Count      3.0  6.000000  7.000000  0.0  1.0\n",
      "=#==#==#==#==#=16=#==#==#==#==#=\n"
     ]
    },
    {
     "name": "stderr",
     "output_type": "stream",
     "text": [
      "100%|██████████| 17/17 [00:31<00:00,  1.73s/it]\n",
      "  0%|          | 0/17 [00:00<?, ?it/s]"
     ]
    },
    {
     "name": "stdout",
     "output_type": "stream",
     "text": [
      "==========Epoch No:16==========\n",
      "Training Loss: 24.201445817947388\n",
      "========\n",
      "Train: (0.4973262032085561, 0.6470588235294118, 0.5555555555555556, None)\n",
      "             0         1         2    3    4\n",
      "Precision  0.0  0.666667  0.636364  0.0  0.0\n",
      "Recall     0.0  0.666667  1.000000  0.0  0.0\n",
      "F-score    0.0  0.666667  0.777778  0.0  0.0\n",
      "Count      3.0  6.000000  7.000000  0.0  1.0\n",
      "=#==#==#==#==#=17=#==#==#==#==#=\n"
     ]
    },
    {
     "name": "stderr",
     "output_type": "stream",
     "text": [
      "100%|██████████| 17/17 [00:41<00:00,  2.40s/it]\n",
      "  0%|          | 0/17 [00:00<?, ?it/s]"
     ]
    },
    {
     "name": "stdout",
     "output_type": "stream",
     "text": [
      "==========Epoch No:17==========\n",
      "Training Loss: 24.089420676231384\n",
      "========\n",
      "Train: (0.4973262032085561, 0.6470588235294118, 0.5555555555555556, None)\n",
      "             0         1         2    3    4\n",
      "Precision  0.0  0.666667  0.636364  0.0  0.0\n",
      "Recall     0.0  0.666667  1.000000  0.0  0.0\n",
      "F-score    0.0  0.666667  0.777778  0.0  0.0\n",
      "Count      3.0  6.000000  7.000000  0.0  1.0\n",
      "=#==#==#==#==#=18=#==#==#==#==#=\n"
     ]
    },
    {
     "name": "stderr",
     "output_type": "stream",
     "text": [
      "\n"
     ]
    },
    {
     "ename": "KeyboardInterrupt",
     "evalue": "",
     "output_type": "error",
     "traceback": [
      "\u001b[0;31m---------------------------------------------------------------------------\u001b[0m",
      "\u001b[0;31mKeyboardInterrupt\u001b[0m                         Traceback (most recent call last)",
      "\u001b[0;32m<ipython-input-8-bce344419829>\u001b[0m in \u001b[0;36m<module>\u001b[0;34m\u001b[0m\n\u001b[1;32m     10\u001b[0m     \u001b[0;32mfor\u001b[0m \u001b[0meach_ID\u001b[0m \u001b[0;32min\u001b[0m \u001b[0mtqdm\u001b[0m\u001b[0;34m(\u001b[0m\u001b[0mdata\u001b[0m\u001b[0;34m[\u001b[0m\u001b[0;34m'train_ids'\u001b[0m\u001b[0;34m]\u001b[0m\u001b[0;34m)\u001b[0m\u001b[0;34m:\u001b[0m\u001b[0;34m\u001b[0m\u001b[0m\n\u001b[1;32m     11\u001b[0m         \u001b[0mmodel_RNN\u001b[0m\u001b[0;34m.\u001b[0m\u001b[0mzero_grad\u001b[0m\u001b[0;34m(\u001b[0m\u001b[0;34m)\u001b[0m\u001b[0;34m\u001b[0m\u001b[0m\n\u001b[0;32m---> 12\u001b[0;31m         \u001b[0mtag_scores\u001b[0m \u001b[0;34m=\u001b[0m \u001b[0mmodel_RNN\u001b[0m\u001b[0;34m(\u001b[0m\u001b[0mdata\u001b[0m\u001b[0;34m[\u001b[0m\u001b[0;34m'data'\u001b[0m\u001b[0;34m]\u001b[0m\u001b[0;34m,\u001b[0m \u001b[0meach_ID\u001b[0m\u001b[0;34m)\u001b[0m\u001b[0;34m\u001b[0m\u001b[0m\n\u001b[0m\u001b[1;32m     13\u001b[0m \u001b[0;34m\u001b[0m\u001b[0m\n\u001b[1;32m     14\u001b[0m         \u001b[0m_\u001b[0m\u001b[0;34m,\u001b[0m \u001b[0mind_\u001b[0m \u001b[0;34m=\u001b[0m \u001b[0mtorch\u001b[0m\u001b[0;34m.\u001b[0m\u001b[0mmax\u001b[0m\u001b[0;34m(\u001b[0m\u001b[0mtag_scores\u001b[0m\u001b[0;34m,\u001b[0m \u001b[0mdim\u001b[0m\u001b[0;34m=\u001b[0m\u001b[0;36m1\u001b[0m\u001b[0;34m)\u001b[0m\u001b[0;34m\u001b[0m\u001b[0m\n",
      "\u001b[0;32m~/anaconda2/envs/python3/lib/python3.6/site-packages/torch/nn/modules/module.py\u001b[0m in \u001b[0;36m__call__\u001b[0;34m(self, *input, **kwargs)\u001b[0m\n\u001b[1;32m    487\u001b[0m             \u001b[0mresult\u001b[0m \u001b[0;34m=\u001b[0m \u001b[0mself\u001b[0m\u001b[0;34m.\u001b[0m\u001b[0m_slow_forward\u001b[0m\u001b[0;34m(\u001b[0m\u001b[0;34m*\u001b[0m\u001b[0minput\u001b[0m\u001b[0;34m,\u001b[0m \u001b[0;34m**\u001b[0m\u001b[0mkwargs\u001b[0m\u001b[0;34m)\u001b[0m\u001b[0;34m\u001b[0m\u001b[0m\n\u001b[1;32m    488\u001b[0m         \u001b[0;32melse\u001b[0m\u001b[0;34m:\u001b[0m\u001b[0;34m\u001b[0m\u001b[0m\n\u001b[0;32m--> 489\u001b[0;31m             \u001b[0mresult\u001b[0m \u001b[0;34m=\u001b[0m \u001b[0mself\u001b[0m\u001b[0;34m.\u001b[0m\u001b[0mforward\u001b[0m\u001b[0;34m(\u001b[0m\u001b[0;34m*\u001b[0m\u001b[0minput\u001b[0m\u001b[0;34m,\u001b[0m \u001b[0;34m**\u001b[0m\u001b[0mkwargs\u001b[0m\u001b[0;34m)\u001b[0m\u001b[0;34m\u001b[0m\u001b[0m\n\u001b[0m\u001b[1;32m    490\u001b[0m         \u001b[0;32mfor\u001b[0m \u001b[0mhook\u001b[0m \u001b[0;32min\u001b[0m \u001b[0mself\u001b[0m\u001b[0;34m.\u001b[0m\u001b[0m_forward_hooks\u001b[0m\u001b[0;34m.\u001b[0m\u001b[0mvalues\u001b[0m\u001b[0;34m(\u001b[0m\u001b[0;34m)\u001b[0m\u001b[0;34m:\u001b[0m\u001b[0;34m\u001b[0m\u001b[0m\n\u001b[1;32m    491\u001b[0m             \u001b[0mhook_result\u001b[0m \u001b[0;34m=\u001b[0m \u001b[0mhook\u001b[0m\u001b[0;34m(\u001b[0m\u001b[0mself\u001b[0m\u001b[0;34m,\u001b[0m \u001b[0minput\u001b[0m\u001b[0;34m,\u001b[0m \u001b[0mresult\u001b[0m\u001b[0;34m)\u001b[0m\u001b[0;34m\u001b[0m\u001b[0m\n",
      "\u001b[0;32m~/Documents/code/ml/MultiRes/Physionet_rev/tbm.py\u001b[0m in \u001b[0;36mforward\u001b[0;34m(self, data, id_)\u001b[0m\n\u001b[1;32m     81\u001b[0m         \u001b[0mself\u001b[0m\u001b[0;34m.\u001b[0m\u001b[0mhidden\u001b[0m \u001b[0;34m=\u001b[0m \u001b[0mself\u001b[0m\u001b[0;34m.\u001b[0m\u001b[0minit_hidden\u001b[0m\u001b[0;34m(\u001b[0m\u001b[0mbatch_size\u001b[0m\u001b[0;34m)\u001b[0m\u001b[0;34m\u001b[0m\u001b[0m\n\u001b[1;32m     82\u001b[0m \u001b[0;34m\u001b[0m\u001b[0m\n\u001b[0;32m---> 83\u001b[0;31m         \u001b[0mpacked_output\u001b[0m\u001b[0;34m,\u001b[0m \u001b[0mself\u001b[0m\u001b[0;34m.\u001b[0m\u001b[0mhidden\u001b[0m \u001b[0;34m=\u001b[0m \u001b[0mself\u001b[0m\u001b[0;34m.\u001b[0m\u001b[0mlstm\u001b[0m\u001b[0;34m(\u001b[0m\u001b[0mpacked\u001b[0m\u001b[0;34m,\u001b[0m \u001b[0mself\u001b[0m\u001b[0;34m.\u001b[0m\u001b[0mhidden\u001b[0m\u001b[0;34m)\u001b[0m\u001b[0;34m\u001b[0m\u001b[0m\n\u001b[0m\u001b[1;32m     84\u001b[0m         \u001b[0mlstm_out\u001b[0m \u001b[0;34m=\u001b[0m \u001b[0mpad_packed_sequence\u001b[0m\u001b[0;34m(\u001b[0m\u001b[0mpacked_output\u001b[0m\u001b[0;34m,\u001b[0m \u001b[0mbatch_first\u001b[0m\u001b[0;34m=\u001b[0m\u001b[0;32mTrue\u001b[0m\u001b[0;34m)\u001b[0m\u001b[0;34m[\u001b[0m\u001b[0;36m0\u001b[0m\u001b[0;34m]\u001b[0m\u001b[0;34m\u001b[0m\u001b[0m\n\u001b[1;32m     85\u001b[0m \u001b[0;34m\u001b[0m\u001b[0m\n",
      "\u001b[0;32m~/anaconda2/envs/python3/lib/python3.6/site-packages/torch/nn/modules/module.py\u001b[0m in \u001b[0;36m__call__\u001b[0;34m(self, *input, **kwargs)\u001b[0m\n\u001b[1;32m    487\u001b[0m             \u001b[0mresult\u001b[0m \u001b[0;34m=\u001b[0m \u001b[0mself\u001b[0m\u001b[0;34m.\u001b[0m\u001b[0m_slow_forward\u001b[0m\u001b[0;34m(\u001b[0m\u001b[0;34m*\u001b[0m\u001b[0minput\u001b[0m\u001b[0;34m,\u001b[0m \u001b[0;34m**\u001b[0m\u001b[0mkwargs\u001b[0m\u001b[0;34m)\u001b[0m\u001b[0;34m\u001b[0m\u001b[0m\n\u001b[1;32m    488\u001b[0m         \u001b[0;32melse\u001b[0m\u001b[0;34m:\u001b[0m\u001b[0;34m\u001b[0m\u001b[0m\n\u001b[0;32m--> 489\u001b[0;31m             \u001b[0mresult\u001b[0m \u001b[0;34m=\u001b[0m \u001b[0mself\u001b[0m\u001b[0;34m.\u001b[0m\u001b[0mforward\u001b[0m\u001b[0;34m(\u001b[0m\u001b[0;34m*\u001b[0m\u001b[0minput\u001b[0m\u001b[0;34m,\u001b[0m \u001b[0;34m**\u001b[0m\u001b[0mkwargs\u001b[0m\u001b[0;34m)\u001b[0m\u001b[0;34m\u001b[0m\u001b[0m\n\u001b[0m\u001b[1;32m    490\u001b[0m         \u001b[0;32mfor\u001b[0m \u001b[0mhook\u001b[0m \u001b[0;32min\u001b[0m \u001b[0mself\u001b[0m\u001b[0;34m.\u001b[0m\u001b[0m_forward_hooks\u001b[0m\u001b[0;34m.\u001b[0m\u001b[0mvalues\u001b[0m\u001b[0;34m(\u001b[0m\u001b[0;34m)\u001b[0m\u001b[0;34m:\u001b[0m\u001b[0;34m\u001b[0m\u001b[0m\n\u001b[1;32m    491\u001b[0m             \u001b[0mhook_result\u001b[0m \u001b[0;34m=\u001b[0m \u001b[0mhook\u001b[0m\u001b[0;34m(\u001b[0m\u001b[0mself\u001b[0m\u001b[0;34m,\u001b[0m \u001b[0minput\u001b[0m\u001b[0;34m,\u001b[0m \u001b[0mresult\u001b[0m\u001b[0;34m)\u001b[0m\u001b[0;34m\u001b[0m\u001b[0m\n",
      "\u001b[0;32m~/anaconda2/envs/python3/lib/python3.6/site-packages/torch/nn/modules/rnn.py\u001b[0m in \u001b[0;36mforward\u001b[0;34m(self, input, hx)\u001b[0m\n\u001b[1;32m    180\u001b[0m         \u001b[0;32melse\u001b[0m\u001b[0;34m:\u001b[0m\u001b[0;34m\u001b[0m\u001b[0m\n\u001b[1;32m    181\u001b[0m             result = _impl(input, batch_sizes, hx, self._flat_weights, self.bias,\n\u001b[0;32m--> 182\u001b[0;31m                            self.num_layers, self.dropout, self.training, self.bidirectional)\n\u001b[0m\u001b[1;32m    183\u001b[0m         \u001b[0moutput\u001b[0m \u001b[0;34m=\u001b[0m \u001b[0mresult\u001b[0m\u001b[0;34m[\u001b[0m\u001b[0;36m0\u001b[0m\u001b[0;34m]\u001b[0m\u001b[0;34m\u001b[0m\u001b[0m\n\u001b[1;32m    184\u001b[0m         \u001b[0mhidden\u001b[0m \u001b[0;34m=\u001b[0m \u001b[0mresult\u001b[0m\u001b[0;34m[\u001b[0m\u001b[0;36m1\u001b[0m\u001b[0;34m:\u001b[0m\u001b[0;34m]\u001b[0m \u001b[0;32mif\u001b[0m \u001b[0mself\u001b[0m\u001b[0;34m.\u001b[0m\u001b[0mmode\u001b[0m \u001b[0;34m==\u001b[0m \u001b[0;34m'LSTM'\u001b[0m \u001b[0;32melse\u001b[0m \u001b[0mresult\u001b[0m\u001b[0;34m[\u001b[0m\u001b[0;36m1\u001b[0m\u001b[0;34m]\u001b[0m\u001b[0;34m\u001b[0m\u001b[0m\n",
      "\u001b[0;31mKeyboardInterrupt\u001b[0m: "
     ]
    }
   ],
   "source": [
    "start_epoch = 0\n",
    "end_epoch = 90\n",
    "model_name = params['model_name']\n",
    "target_classes = [0,1,2,3,4]\n",
    "for iter_ in range(start_epoch, end_epoch):\n",
    "    print (\"=#=\"*5+str(iter_)+\"=#=\"*5)\n",
    "    total_loss = 0\n",
    "    preds_train = []\n",
    "    actual_train = []\n",
    "    for each_ID in tqdm(data['train_ids']):\n",
    "        model_RNN.zero_grad()\n",
    "        tag_scores = model_RNN(data['data'], each_ID)\n",
    "        \n",
    "        _, ind_ = torch.max(tag_scores, dim=1)\n",
    "        preds_train+=ind_.tolist()\n",
    "        \n",
    "        curr_labels = [data['data'][each_ID][-1]]\n",
    "        actual_train+=curr_labels\n",
    "        curr_labels = torch.LongTensor(curr_labels)\n",
    "        curr_labels = autograd.Variable(curr_labels)\n",
    "        \n",
    "        loss = loss_function(tag_scores, curr_labels.reshape(tag_scores.shape[0]))\n",
    "        total_loss+=loss.item()\n",
    "        loss.backward()\n",
    "        optimizer.step()\n",
    "    \n",
    "    df_tr = pd.DataFrame(list(precision_recall_fscore_support(actual_train, preds_train, labels = target_classes)),\n",
    "                       columns = list(range(len(target_classes))))\n",
    "    df_tr.index = ['Precision','Recall','F-score','Count']\n",
    "    prf_tr = precision_recall_fscore_support(actual_train, preds_train, average='weighted')\n",
    "#     prf_test, df_test = eval_plot.evaluate_dbm(model_RNN, data, 'test_ids', target_n=target_classes)\n",
    "\n",
    "#     prf_val, df_val = eval_plot.evaluate_dbm(model_RNN, data, 'val_ids', target_n=target_classes)\n",
    "    \n",
    "#     df_all = pd.concat([df_tr, df_val, df_test],axis=1)\n",
    "#     dict_df_prf_mod['Epoch'+str(iter_)] = df_all\n",
    "    \n",
    "    print('=='*5 + \"Epoch No:\"+str(iter_) +\"==\"*5)\n",
    "    print(\"Training Loss: \"+str(total_loss))\n",
    "    print(\"==\"*4)\n",
    "    print(\"Train: \" + str(prf_tr))\n",
    "    print(df_tr)\n",
    "#     print(\"--\"*4)\n",
    "#     print(\"Val: \" + str(prf_val))\n",
    "#     print(df_val)\n",
    "#     print(\"--\"*4)\n",
    "#     print(\"Test: \" + str(prf_test))\n",
    "#     print(df_test)\n",
    "#     print('=='*40)\n",
    "#     print('\\n')\n",
    "\n",
    "#     eval_plot.plot_graphs(dict_df_prf_mod, 'F-score', \n",
    "#                   model_path + \"/\" +model_name+str(iter_)+'.png',\n",
    "#                   0, iter_+1, \n",
    "#                   model_name, target_n=len(target_classes))\n",
    "\n",
    "#     if(save_flag):\n",
    "#         torch.save(model_RNN, '../../Models/'+model_name+str(iter_)+'.pt')\n",
    "#         pickle.dump(dict_df_prf_mod, open('../../Results/dict_prf_'+model_name+str(iter_)+'.pkl','wb'))\n",
    "#         eval_plot.plot_graphs(dict_df_prf_mod, 'F-score', \n",
    "#                               '../../Plots/'+model_name+str(iter_)+'.png',\n",
    "#                               0, iter_+1, \n",
    "#                               model_name)"
   ]
  },
  {
   "cell_type": "code",
   "execution_count": null,
   "metadata": {},
   "outputs": [],
   "source": [
    "print(data)"
   ]
  },
  {
   "cell_type": "code",
   "execution_count": null,
   "metadata": {},
   "outputs": [],
   "source": []
  },
  {
   "cell_type": "code",
   "execution_count": null,
   "metadata": {},
   "outputs": [],
   "source": []
  },
  {
   "cell_type": "code",
   "execution_count": null,
   "metadata": {},
   "outputs": [],
   "source": []
  }
 ],
 "metadata": {
  "kernelspec": {
   "display_name": "python3_6",
   "language": "python",
   "name": "python3_6"
  },
  "language_info": {
   "codemirror_mode": {
    "name": "ipython",
    "version": 3
   },
   "file_extension": ".py",
   "mimetype": "text/x-python",
   "name": "python",
   "nbconvert_exporter": "python",
   "pygments_lexer": "ipython3",
   "version": "3.6.0"
  },
  "widgets": {
   "application/vnd.jupyter.widget-state+json": {
    "state": {},
    "version_major": 2,
    "version_minor": 0
   }
  }
 },
 "nbformat": 4,
 "nbformat_minor": 2
}
