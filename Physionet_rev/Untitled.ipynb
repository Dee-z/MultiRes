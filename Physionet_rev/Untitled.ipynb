{
 "cells": [
  {
   "cell_type": "code",
   "execution_count": 1,
   "metadata": {},
   "outputs": [
    {
     "name": "stdout",
     "output_type": "stream",
     "text": [
      "/home/nsimsiri/MultiRes/student_life\n",
      "/home/nsimsiri/MultiRes/Physionet_rev\n",
      "True\n",
      "9.1.85\n",
      "0.4.0\n",
      "<module 'evaluate_plot' from '/home/nsimsiri/MultiRes/Physionet_rev/evaluate_plot.py'>\n",
      "sys.version_info(major=3, minor=6, micro=8, releaselevel='final', serial=0)\n"
     ]
    }
   ],
   "source": [
    "import os, sys\n",
    "cwd = os.getcwd()\n",
    "module_path = os.path.abspath(os.path.join('..'))\n",
    "student_life_path = module_path + \"/student_life\"\n",
    "physnet_path = module_path + \"/Physionet_rev\"\n",
    "print(student_life_path)\n",
    "print(physnet_path)\n",
    "\n",
    "sys.path.append(physnet_path)\n",
    "sys.path.append(student_life_path)\n",
    "\n",
    "import pandas as pd\n",
    "import numpy as np\n",
    "import pickle\n",
    "from random import shuffle\n",
    "from tqdm import tqdm\n",
    "import matplotlib.pyplot as plt\n",
    "import random\n",
    "\n",
    "import torch\n",
    "import torch.nn as nn\n",
    "import torch.nn.functional as F\n",
    "import torch.optim as optim\n",
    "import torch.autograd as autograd\n",
    "print(torch.cuda.is_available())\n",
    "print(torch.version.cuda)\n",
    "\n",
    "import tbm as tbm\n",
    "from net_dbm import RNN_osaka\n",
    "\n",
    "\n",
    "import evaluate_plot as eval_plot\n",
    "import batchify as batchify\n",
    "from sklearn.metrics import precision_recall_fscore_support\n",
    "import importlib\n",
    "import src.utils.student_utils as student_utils\n",
    "import src.definitions as definitions\n",
    "from IPython.display import display\n",
    "importlib.reload(student_utils)\n",
    "\n",
    "# 1 starts the process on GPU-0\n",
    "os.environ['CUDA_VISIBLE_DEVICES'] = '0'\n",
    "print(torch.__version__)\n",
    "%matplotlib inline\n",
    "print(eval_plot)\n",
    "print(sys.version_info)"
   ]
  },
  {
   "cell_type": "code",
   "execution_count": 2,
   "metadata": {},
   "outputs": [
    {
     "name": "stdout",
     "output_type": "stream",
     "text": [
      "(b'nvcc: NVIDIA (R) Cuda compiler driver\\nCopyright (c) 2005-2017 NVIDIA Corporation\\nBuilt on Fri_Nov__3_21:07:56_CDT_2017\\nCuda compilation tools, release 9.1, V9.1.85\\n', None)\n"
     ]
    }
   ],
   "source": [
    "import subprocess\n",
    "\n",
    "p = subprocess.Popen([\"nvcc\", \"--version\"], stdout=subprocess.PIPE)\n",
    "\n",
    "print(p.communicate())\n"
   ]
  },
  {
   "cell_type": "code",
   "execution_count": 3,
   "metadata": {},
   "outputs": [],
   "source": [
    "ft = torch.cuda.FloatTensor()"
   ]
  },
  {
   "cell_type": "code",
   "execution_count": 4,
   "metadata": {},
   "outputs": [],
   "source": [
    "ft = ft.to(torch.device(\"cuda\"))"
   ]
  },
  {
   "cell_type": "code",
   "execution_count": 5,
   "metadata": {},
   "outputs": [
    {
     "name": "stdout",
     "output_type": "stream",
     "text": [
      "tensor([], device='cuda:0')\n"
     ]
    }
   ],
   "source": [
    "print(ft)"
   ]
  },
  {
   "cell_type": "code",
   "execution_count": 6,
   "metadata": {},
   "outputs": [],
   "source": [
    "lt = torch.LongTensor().cuda()"
   ]
  },
  {
   "cell_type": "code",
   "execution_count": 7,
   "metadata": {},
   "outputs": [
    {
     "name": "stdout",
     "output_type": "stream",
     "text": [
      "tensor([], dtype=torch.int64, device='cuda:0')\n"
     ]
    }
   ],
   "source": [
    "print(lt)"
   ]
  },
  {
   "cell_type": "code",
   "execution_count": 8,
   "metadata": {},
   "outputs": [
    {
     "data": {
      "text/plain": [
       "tensor([], dtype=torch.int64, device='cuda:0')"
      ]
     },
     "execution_count": 8,
     "metadata": {},
     "output_type": "execute_result"
    }
   ],
   "source": [
    "lt.to(torch.device('cuda'))"
   ]
  },
  {
   "cell_type": "code",
   "execution_count": null,
   "metadata": {},
   "outputs": [],
   "source": []
  }
 ],
 "metadata": {
  "kernelspec": {
   "display_name": "Python 3",
   "language": "python",
   "name": "python3"
  },
  "language_info": {
   "codemirror_mode": {
    "name": "ipython",
    "version": 3
   },
   "file_extension": ".py",
   "mimetype": "text/x-python",
   "name": "python",
   "nbconvert_exporter": "python",
   "pygments_lexer": "ipython3",
   "version": "3.6.8"
  }
 },
 "nbformat": 4,
 "nbformat_minor": 2
}
