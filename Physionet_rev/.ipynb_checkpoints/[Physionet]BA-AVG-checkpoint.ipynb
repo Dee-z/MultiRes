{
 "cells": [
  {
   "cell_type": "code",
   "execution_count": 1,
   "metadata": {},
   "outputs": [
    {
     "name": "stdout",
     "output_type": "stream",
     "text": [
      "0.4.0\n"
     ]
    }
   ],
   "source": [
    "import pandas as pd\n",
    "import numpy as np\n",
    "import cPickle as pickle\n",
    "from random import shuffle\n",
    "from tqdm import tqdm\n",
    "# import matplotlib.pyplot as plt\n",
    "%matplotlib inline\n",
    "\n",
    "import torch\n",
    "import torch.nn as nn\n",
    "import torch.nn.functional as F\n",
    "import torch.optim as optim\n",
    "\n",
    "import batchify as batchify\n",
    "import evaluate_plot as eval_plot\n",
    "import rnn\n",
    "\n",
    "import os\n",
    "# 1 starts the process on GPU-0\n",
    "os.environ['CUDA_VISIBLE_DEVICES'] = '0'\n",
    "print torch.__version__"
   ]
  },
  {
   "cell_type": "code",
   "execution_count": 2,
   "metadata": {},
   "outputs": [],
   "source": [
    "data = pickle.load(open('../../Data/final_syn_data_new2.pkl','rb'))\n",
    "# data['data_headers']"
   ]
  },
  {
   "cell_type": "code",
   "execution_count": 3,
   "metadata": {},
   "outputs": [],
   "source": [
    "# # This is just for testing\n",
    "# data['train_ids'] = data['train_ids'][:20]\n",
    "# data['val_ids'] = data['val_ids'][:20]\n",
    "# data['test_ids'] = data['test_ids'][:20]"
   ]
  },
  {
   "cell_type": "code",
   "execution_count": 4,
   "metadata": {},
   "outputs": [],
   "source": [
    "params = {'hidden_dim' : 200,\n",
    "        'dropout' : 0.9,\n",
    "        'layers' : 1,\n",
    "        'input_dim' : 60,\n",
    "        'tagset_size' : 2,\n",
    "        'bilstm_flag': True,\n",
    "        'attn_category':'dot',\n",
    "         'num_of_features': 3,\n",
    "         'batch_size':2,\n",
    "         'model_name':'BiLSTM-Attn-SYN-NEW-'}\n",
    "pickle.dump(params, open('../../Models/config_'+params['model_name']+'.pt','wb'))"
   ]
  },
  {
   "cell_type": "code",
   "execution_count": 5,
   "metadata": {},
   "outputs": [
    {
     "name": "stderr",
     "output_type": "stream",
     "text": [
      "/home/bsingh/anaconda2/lib/python2.7/site-packages/torch/nn/modules/rnn.py:38: UserWarning: dropout option adds dropout after all but last recurrent layer, so non-zero dropout expects num_layers greater than 1, but got dropout=0.9 and num_layers=1\n",
      "  \"num_layers={}\".format(dropout, num_layers))\n"
     ]
    },
    {
     "name": "stdout",
     "output_type": "stream",
     "text": [
      "Dot Attention is being used!\n"
     ]
    }
   ],
   "source": [
    "model_RNN = rnn.RNN_osaka(params).cuda()\n",
    "loss_function = nn.NLLLoss()\n",
    "# optimizer = optim.Adam(model_RNN.parameters(), lr=0.01, weight_decay=0.00005)\n",
    "optimizer = optim.SGD(model_RNN.parameters(), lr=0.009, weight_decay=0.0002)"
   ]
  },
  {
   "cell_type": "code",
   "execution_count": 6,
   "metadata": {},
   "outputs": [
    {
     "name": "stdout",
     "output_type": "stream",
     "text": [
      "=x==x==x==x==x==x==x==x==x==x==x==x==x==x==x==x==x==x==x==x=\n",
      "Data Statistics\n",
      "Train Data: 20\n",
      "Val Data: 20\n",
      "Test Data: 20\n",
      "=x==x==x==x==x==x==x==x==x==x==x==x==x==x==x==x==x==x==x==x=\n"
     ]
    }
   ],
   "source": [
    "save_flag = True\n",
    "dict_df_prf_mod = {}\n",
    "print \"=x=\"*20\n",
    "print \"Data Statistics\"\n",
    "print \"Train Data: \"+str(len(data['train_ids']))\n",
    "print \"Val Data: \"+str(len(data['val_ids']))\n",
    "print \"Test Data: \"+str(len(data['test_ids']))\n",
    "print \"=x=\"*20"
   ]
  },
  {
   "cell_type": "code",
   "execution_count": 7,
   "metadata": {},
   "outputs": [
    {
     "name": "stdout",
     "output_type": "stream",
     "text": [
      "NORMAL mode with NO missing values\n"
     ]
    }
   ],
   "source": [
    "mode = 'normal'\n",
    "if(mode=='normal'):\n",
    "    feature_ind = 0\n",
    "    label_ind = -1\n",
    "    print \"NORMAL mode with NO missing values\"\n",
    "elif(mode=='average'):\n",
    "    feature_ind = 3\n",
    "    label_ind = -1\n",
    "    print \"AVERAGE mode where missing data replaced with average values\""
   ]
  },
  {
   "cell_type": "code",
   "execution_count": 8,
   "metadata": {},
   "outputs": [
    {
     "name": "stderr",
     "output_type": "stream",
     "text": [
      "100%|██████████| 10/10 [00:01<00:00,  8.53it/s]\n"
     ]
    },
    {
     "name": "stdout",
     "output_type": "stream",
     "text": [
      "==========Epoch No:0==========\n",
      "Training Loss: 7.46108341217\n",
      "========\n",
      "Train: (0.8, 0.7, 0.64, None)\n",
      "                   0     1\n",
      "Precision   0.666667  1.00\n",
      "Recall      1.000000  0.25\n",
      "F-score     0.800000  0.40\n",
      "Count      12.000000  8.00\n",
      "--------\n",
      "Val: (0.775, 0.55, 0.46923076923076923, None)\n",
      "                  0          1\n",
      "Precision  0.500000   1.000000\n",
      "Recall     1.000000   0.181818\n",
      "F-score    0.666667   0.307692\n",
      "Count      9.000000  11.000000\n",
      "--------\n",
      "Test: (0.68125, 0.65, 0.6150997150997151, None)\n",
      "                   0         1\n",
      "Precision   0.625000  0.750000\n",
      "Recall      0.909091  0.333333\n",
      "F-score     0.740741  0.461538\n",
      "Count      11.000000  9.000000\n",
      "================================================================================\n",
      "\n",
      "\n"
     ]
    },
    {
     "data": {
      "image/png": "[encoded data removed]",
      "text/plain": [
       "<matplotlib.figure.Figure at 0x7f03ee104f10>"
      ]
     },
     "metadata": {},
     "output_type": "display_data"
    },
    {
     "name": "stderr",
     "output_type": "stream",
     "text": [
      " 20%|██        | 2/10 [00:00<00:00, 11.86it/s]"
     ]
    },
    {
     "name": "stdout",
     "output_type": "stream",
     "text": [
      "==========Epoch0========\n",
      "TRAIN: (0.8, 0.7, 0.64)\n",
      "VAL: (0.775, 0.55, 0.46923076923076923)\n",
      "TEST: (0.68125, 0.65, 0.6150997150997151)\n",
      "======== Detailed Results ========\n",
      "                   0     1         0          1          0         1\n",
      "Precision   0.666667  1.00  0.500000   1.000000   0.625000  0.750000\n",
      "Recall      1.000000  0.25  1.000000   0.181818   0.909091  0.333333\n",
      "F-score     0.800000  0.40  0.666667   0.307692   0.740741  0.461538\n",
      "Count      12.000000  8.00  9.000000  11.000000  11.000000  9.000000\n"
     ]
    },
    {
     "name": "stderr",
     "output_type": "stream",
     "text": [
      "100%|██████████| 10/10 [00:00<00:00, 11.76it/s]\n"
     ]
    },
    {
     "name": "stdout",
     "output_type": "stream",
     "text": [
      "==========Epoch No:1==========\n",
      "Training Loss: 6.92605283856\n",
      "========\n",
      "Train: (0.8235294117647058, 0.75, 0.7147335423197492, None)\n",
      "                   0         1\n",
      "Precision   0.705882  1.000000\n",
      "Recall      1.000000  0.375000\n",
      "F-score     0.827586  0.545455\n",
      "Count      12.000000  8.000000\n",
      "--------\n",
      "Val: (0.775, 0.55, 0.46923076923076923, None)\n",
      "                  0          1\n",
      "Precision  0.500000   1.000000\n",
      "Recall     1.000000   0.181818\n",
      "F-score    0.666667   0.307692\n",
      "Count      9.000000  11.000000\n",
      "--------\n",
      "Test: (0.68125, 0.65, 0.6150997150997151, None)\n",
      "                   0         1\n",
      "Precision   0.625000  0.750000\n",
      "Recall      0.909091  0.333333\n",
      "F-score     0.740741  0.461538\n",
      "Count      11.000000  9.000000\n",
      "================================================================================\n",
      "\n",
      "\n"
     ]
    },
    {
     "data": {
      "image/png": "[encoded data removed]",
      "text/plain": [
       "<matplotlib.figure.Figure at 0x7f03e6980650>"
      ]
     },
     "metadata": {},
     "output_type": "display_data"
    },
    {
     "name": "stderr",
     "output_type": "stream",
     "text": [
      " 20%|██        | 2/10 [00:00<00:00, 11.55it/s]"
     ]
    },
    {
     "name": "stdout",
     "output_type": "stream",
     "text": [
      "==========Epoch0========\n",
      "TRAIN: (0.8, 0.7, 0.64)\n",
      "VAL: (0.775, 0.55, 0.46923076923076923)\n",
      "TEST: (0.68125, 0.65, 0.6150997150997151)\n",
      "======== Detailed Results ========\n",
      "                   0     1         0          1          0         1\n",
      "Precision   0.666667  1.00  0.500000   1.000000   0.625000  0.750000\n",
      "Recall      1.000000  0.25  1.000000   0.181818   0.909091  0.333333\n",
      "F-score     0.800000  0.40  0.666667   0.307692   0.740741  0.461538\n",
      "Count      12.000000  8.00  9.000000  11.000000  11.000000  9.000000\n"
     ]
    },
    {
     "name": "stderr",
     "output_type": "stream",
     "text": [
      "100%|██████████| 10/10 [00:00<00:00, 11.57it/s]\n"
     ]
    },
    {
     "name": "stdout",
     "output_type": "stream",
     "text": [
      "==========Epoch No:2==========\n",
      "Training Loss: 6.61017262936\n",
      "========\n",
      "Train: (0.8800000000000001, 0.85, 0.841025641025641, None)\n",
      "                   0         1\n",
      "Precision   0.800000  1.000000\n",
      "Recall      1.000000  0.625000\n",
      "F-score     0.888889  0.769231\n",
      "Count      12.000000  8.000000\n",
      "--------\n",
      "Val: (0.7154761904761905, 0.65, 0.6365728900255754, None)\n",
      "                  0          1\n",
      "Precision  0.571429   0.833333\n",
      "Recall     0.888889   0.454545\n",
      "F-score    0.695652   0.588235\n",
      "Count      9.000000  11.000000\n",
      "--------\n",
      "Test: (0.6535714285714287, 0.65, 0.636, None)\n",
      "                   0         1\n",
      "Precision   0.642857  0.666667\n",
      "Recall      0.818182  0.444444\n",
      "F-score     0.720000  0.533333\n",
      "Count      11.000000  9.000000\n",
      "================================================================================\n",
      "\n",
      "\n"
     ]
    },
    {
     "data": {
      "image/png": "[encoded data removed]",
      "text/plain": [
       "<matplotlib.figure.Figure at 0x7f03e68cd290>"
      ]
     },
     "metadata": {},
     "output_type": "display_data"
    },
    {
     "name": "stderr",
     "output_type": "stream",
     "text": [
      " 20%|██        | 2/10 [00:00<00:00, 10.88it/s]"
     ]
    },
    {
     "name": "stdout",
     "output_type": "stream",
     "text": [
      "==========Epoch2========\n",
      "TRAIN: (0.8800000000000001, 0.85, 0.841025641025641)\n",
      "VAL: (0.7154761904761905, 0.65, 0.6365728900255754)\n",
      "TEST: (0.6535714285714287, 0.65, 0.636)\n",
      "======== Detailed Results ========\n",
      "                   0         1         0          1          0         1\n",
      "Precision   0.800000  1.000000  0.571429   0.833333   0.642857  0.666667\n",
      "Recall      1.000000  0.625000  0.888889   0.454545   0.818182  0.444444\n",
      "F-score     0.888889  0.769231  0.695652   0.588235   0.720000  0.533333\n",
      "Count      12.000000  8.000000  9.000000  11.000000  11.000000  9.000000\n"
     ]
    },
    {
     "name": "stderr",
     "output_type": "stream",
     "text": [
      "100%|██████████| 10/10 [00:00<00:00, 11.14it/s]\n"
     ]
    },
    {
     "name": "stdout",
     "output_type": "stream",
     "text": [
      "==========Epoch No:3==========\n",
      "Training Loss: 6.29963362217\n",
      "========\n",
      "Train: (0.9, 0.9, 0.9, None)\n",
      "                   0      1\n",
      "Precision   0.916667  0.875\n",
      "Recall      0.916667  0.875\n",
      "F-score     0.916667  0.875\n",
      "Count      12.000000  8.000\n",
      "--------\n",
      "Val: (0.6351648351648352, 0.6, 0.591919191919192, None)\n",
      "                  0          1\n",
      "Precision  0.538462   0.714286\n",
      "Recall     0.777778   0.454545\n",
      "F-score    0.636364   0.555556\n",
      "Count      9.000000  11.000000\n",
      "--------\n",
      "Test: (0.5956043956043956, 0.6, 0.5916666666666667, None)\n",
      "                   0         1\n",
      "Precision   0.615385  0.571429\n",
      "Recall      0.727273  0.444444\n",
      "F-score     0.666667  0.500000\n",
      "Count      11.000000  9.000000\n",
      "================================================================================\n",
      "\n",
      "\n"
     ]
    },
    {
     "data": {
      "image/png": "[encoded data removed]",
      "text/plain": [
       "<matplotlib.figure.Figure at 0x7f03dc738210>"
      ]
     },
     "metadata": {},
     "output_type": "display_data"
    },
    {
     "name": "stderr",
     "output_type": "stream",
     "text": [
      " 10%|█         | 1/10 [00:00<00:01,  7.73it/s]"
     ]
    },
    {
     "name": "stdout",
     "output_type": "stream",
     "text": [
      "==========Epoch2========\n",
      "TRAIN: (0.8800000000000001, 0.85, 0.841025641025641)\n",
      "VAL: (0.7154761904761905, 0.65, 0.6365728900255754)\n",
      "TEST: (0.6535714285714287, 0.65, 0.636)\n",
      "======== Detailed Results ========\n",
      "                   0         1         0          1          0         1\n",
      "Precision   0.800000  1.000000  0.571429   0.833333   0.642857  0.666667\n",
      "Recall      1.000000  0.625000  0.888889   0.454545   0.818182  0.444444\n",
      "F-score     0.888889  0.769231  0.695652   0.588235   0.720000  0.533333\n",
      "Count      12.000000  8.000000  9.000000  11.000000  11.000000  9.000000\n"
     ]
    },
    {
     "name": "stderr",
     "output_type": "stream",
     "text": [
      " 30%|███       | 3/10 [00:00<00:00, 10.07it/s]Exception KeyError: KeyError(<weakref at 0x7f03dc6ffec0; to 'tqdm' at 0x7f03dc6bff90>,) in <object repr() failed> ignored\n"
     ]
    },
    {
     "ename": "KeyboardInterrupt",
     "evalue": "",
     "output_type": "error",
     "traceback": [
      "\u001b[0;31m---------------------------------------------------------------------------\u001b[0m",
      "\u001b[0;31mKeyboardInterrupt\u001b[0m                         Traceback (most recent call last)",
      "\u001b[0;32m<ipython-input-8-c6f28e8794c7>\u001b[0m in \u001b[0;36m<module>\u001b[0;34m()\u001b[0m\n\u001b[1;32m     12\u001b[0m                                                                        \u001b[0mfeature_ind\u001b[0m\u001b[0;34m,\u001b[0m\u001b[0;34m\u001b[0m\u001b[0m\n\u001b[1;32m     13\u001b[0m                                                                        label_ind)\n\u001b[0;32m---> 14\u001b[0;31m         \u001b[0mtag_scores\u001b[0m \u001b[0;34m=\u001b[0m \u001b[0mmodel_RNN\u001b[0m\u001b[0;34m(\u001b[0m\u001b[0mcurr_feats\u001b[0m\u001b[0;34m,\u001b[0m \u001b[0mcurr_lens\u001b[0m\u001b[0;34m)\u001b[0m\u001b[0;34m\u001b[0m\u001b[0m\n\u001b[0m\u001b[1;32m     15\u001b[0m \u001b[0;34m\u001b[0m\u001b[0m\n\u001b[1;32m     16\u001b[0m         \u001b[0mloss\u001b[0m \u001b[0;34m=\u001b[0m \u001b[0mloss_function\u001b[0m\u001b[0;34m(\u001b[0m\u001b[0mtag_scores\u001b[0m\u001b[0;34m,\u001b[0m \u001b[0mcurr_labels\u001b[0m\u001b[0;34m.\u001b[0m\u001b[0mreshape\u001b[0m\u001b[0;34m(\u001b[0m\u001b[0mtag_scores\u001b[0m\u001b[0;34m.\u001b[0m\u001b[0mshape\u001b[0m\u001b[0;34m[\u001b[0m\u001b[0;36m0\u001b[0m\u001b[0;34m]\u001b[0m\u001b[0;34m)\u001b[0m\u001b[0;34m)\u001b[0m\u001b[0;34m\u001b[0m\u001b[0m\n",
      "\u001b[0;32m/home/bsingh/anaconda2/lib/python2.7/site-packages/torch/nn/modules/module.pyc\u001b[0m in \u001b[0;36m__call__\u001b[0;34m(self, *input, **kwargs)\u001b[0m\n\u001b[1;32m    489\u001b[0m             \u001b[0mresult\u001b[0m \u001b[0;34m=\u001b[0m \u001b[0mself\u001b[0m\u001b[0;34m.\u001b[0m\u001b[0m_slow_forward\u001b[0m\u001b[0;34m(\u001b[0m\u001b[0;34m*\u001b[0m\u001b[0minput\u001b[0m\u001b[0;34m,\u001b[0m \u001b[0;34m**\u001b[0m\u001b[0mkwargs\u001b[0m\u001b[0;34m)\u001b[0m\u001b[0;34m\u001b[0m\u001b[0m\n\u001b[1;32m    490\u001b[0m         \u001b[0;32melse\u001b[0m\u001b[0;34m:\u001b[0m\u001b[0;34m\u001b[0m\u001b[0m\n\u001b[0;32m--> 491\u001b[0;31m             \u001b[0mresult\u001b[0m \u001b[0;34m=\u001b[0m \u001b[0mself\u001b[0m\u001b[0;34m.\u001b[0m\u001b[0mforward\u001b[0m\u001b[0;34m(\u001b[0m\u001b[0;34m*\u001b[0m\u001b[0minput\u001b[0m\u001b[0;34m,\u001b[0m \u001b[0;34m**\u001b[0m\u001b[0mkwargs\u001b[0m\u001b[0;34m)\u001b[0m\u001b[0;34m\u001b[0m\u001b[0m\n\u001b[0m\u001b[1;32m    492\u001b[0m         \u001b[0;32mfor\u001b[0m \u001b[0mhook\u001b[0m \u001b[0;32min\u001b[0m \u001b[0mself\u001b[0m\u001b[0;34m.\u001b[0m\u001b[0m_forward_hooks\u001b[0m\u001b[0;34m.\u001b[0m\u001b[0mvalues\u001b[0m\u001b[0;34m(\u001b[0m\u001b[0;34m)\u001b[0m\u001b[0;34m:\u001b[0m\u001b[0;34m\u001b[0m\u001b[0m\n\u001b[1;32m    493\u001b[0m             \u001b[0mhook_result\u001b[0m \u001b[0;34m=\u001b[0m \u001b[0mhook\u001b[0m\u001b[0;34m(\u001b[0m\u001b[0mself\u001b[0m\u001b[0;34m,\u001b[0m \u001b[0minput\u001b[0m\u001b[0;34m,\u001b[0m \u001b[0mresult\u001b[0m\u001b[0;34m)\u001b[0m\u001b[0;34m\u001b[0m\u001b[0m\n",
      "\u001b[0;32m/data/phi_related/home/bsingh/bioNLP/MF/Scripts/SYN_NEW/rnn.py\u001b[0m in \u001b[0;36mforward\u001b[0;34m(self, features, lengths)\u001b[0m\n\u001b[1;32m     58\u001b[0m         \u001b[0mself\u001b[0m\u001b[0;34m.\u001b[0m\u001b[0mhidden\u001b[0m \u001b[0;34m=\u001b[0m \u001b[0mself\u001b[0m\u001b[0;34m.\u001b[0m\u001b[0minit_hidden\u001b[0m\u001b[0;34m(\u001b[0m\u001b[0mfeatures\u001b[0m\u001b[0;34m.\u001b[0m\u001b[0mshape\u001b[0m\u001b[0;34m[\u001b[0m\u001b[0;36m0\u001b[0m\u001b[0;34m]\u001b[0m\u001b[0;34m)\u001b[0m\u001b[0;34m\u001b[0m\u001b[0m\n\u001b[1;32m     59\u001b[0m \u001b[0;34m\u001b[0m\u001b[0m\n\u001b[0;32m---> 60\u001b[0;31m         \u001b[0mpacked_output\u001b[0m\u001b[0;34m,\u001b[0m \u001b[0mself\u001b[0m\u001b[0;34m.\u001b[0m\u001b[0mhidden\u001b[0m \u001b[0;34m=\u001b[0m \u001b[0mself\u001b[0m\u001b[0;34m.\u001b[0m\u001b[0mlstm\u001b[0m\u001b[0;34m(\u001b[0m\u001b[0mpacked\u001b[0m\u001b[0;34m,\u001b[0m \u001b[0mself\u001b[0m\u001b[0;34m.\u001b[0m\u001b[0mhidden\u001b[0m\u001b[0;34m)\u001b[0m\u001b[0;34m\u001b[0m\u001b[0m\n\u001b[0m\u001b[1;32m     61\u001b[0m         \u001b[0mlstm_out\u001b[0m \u001b[0;34m=\u001b[0m \u001b[0mpad_packed_sequence\u001b[0m\u001b[0;34m(\u001b[0m\u001b[0mpacked_output\u001b[0m\u001b[0;34m,\u001b[0m \u001b[0mbatch_first\u001b[0m\u001b[0;34m=\u001b[0m\u001b[0mTrue\u001b[0m\u001b[0;34m)\u001b[0m\u001b[0;34m[\u001b[0m\u001b[0;36m0\u001b[0m\u001b[0;34m]\u001b[0m\u001b[0;34m\u001b[0m\u001b[0m\n\u001b[1;32m     62\u001b[0m \u001b[0;34m\u001b[0m\u001b[0m\n",
      "\u001b[0;32m/home/bsingh/anaconda2/lib/python2.7/site-packages/torch/nn/modules/module.pyc\u001b[0m in \u001b[0;36m__call__\u001b[0;34m(self, *input, **kwargs)\u001b[0m\n\u001b[1;32m    489\u001b[0m             \u001b[0mresult\u001b[0m \u001b[0;34m=\u001b[0m \u001b[0mself\u001b[0m\u001b[0;34m.\u001b[0m\u001b[0m_slow_forward\u001b[0m\u001b[0;34m(\u001b[0m\u001b[0;34m*\u001b[0m\u001b[0minput\u001b[0m\u001b[0;34m,\u001b[0m \u001b[0;34m**\u001b[0m\u001b[0mkwargs\u001b[0m\u001b[0;34m)\u001b[0m\u001b[0;34m\u001b[0m\u001b[0m\n\u001b[1;32m    490\u001b[0m         \u001b[0;32melse\u001b[0m\u001b[0;34m:\u001b[0m\u001b[0;34m\u001b[0m\u001b[0m\n\u001b[0;32m--> 491\u001b[0;31m             \u001b[0mresult\u001b[0m \u001b[0;34m=\u001b[0m \u001b[0mself\u001b[0m\u001b[0;34m.\u001b[0m\u001b[0mforward\u001b[0m\u001b[0;34m(\u001b[0m\u001b[0;34m*\u001b[0m\u001b[0minput\u001b[0m\u001b[0;34m,\u001b[0m \u001b[0;34m**\u001b[0m\u001b[0mkwargs\u001b[0m\u001b[0;34m)\u001b[0m\u001b[0;34m\u001b[0m\u001b[0m\n\u001b[0m\u001b[1;32m    492\u001b[0m         \u001b[0;32mfor\u001b[0m \u001b[0mhook\u001b[0m \u001b[0;32min\u001b[0m \u001b[0mself\u001b[0m\u001b[0;34m.\u001b[0m\u001b[0m_forward_hooks\u001b[0m\u001b[0;34m.\u001b[0m\u001b[0mvalues\u001b[0m\u001b[0;34m(\u001b[0m\u001b[0;34m)\u001b[0m\u001b[0;34m:\u001b[0m\u001b[0;34m\u001b[0m\u001b[0m\n\u001b[1;32m    493\u001b[0m             \u001b[0mhook_result\u001b[0m \u001b[0;34m=\u001b[0m \u001b[0mhook\u001b[0m\u001b[0;34m(\u001b[0m\u001b[0mself\u001b[0m\u001b[0;34m,\u001b[0m \u001b[0minput\u001b[0m\u001b[0;34m,\u001b[0m \u001b[0mresult\u001b[0m\u001b[0;34m)\u001b[0m\u001b[0;34m\u001b[0m\u001b[0m\n",
      "\u001b[0;32m/home/bsingh/anaconda2/lib/python2.7/site-packages/torch/nn/modules/rnn.pyc\u001b[0m in \u001b[0;36mforward\u001b[0;34m(self, input, hx)\u001b[0m\n\u001b[1;32m    190\u001b[0m             \u001b[0mflat_weight\u001b[0m\u001b[0;34m=\u001b[0m\u001b[0mflat_weight\u001b[0m\u001b[0;34m\u001b[0m\u001b[0m\n\u001b[1;32m    191\u001b[0m         )\n\u001b[0;32m--> 192\u001b[0;31m         \u001b[0moutput\u001b[0m\u001b[0;34m,\u001b[0m \u001b[0mhidden\u001b[0m \u001b[0;34m=\u001b[0m \u001b[0mfunc\u001b[0m\u001b[0;34m(\u001b[0m\u001b[0minput\u001b[0m\u001b[0;34m,\u001b[0m \u001b[0mself\u001b[0m\u001b[0;34m.\u001b[0m\u001b[0mall_weights\u001b[0m\u001b[0;34m,\u001b[0m \u001b[0mhx\u001b[0m\u001b[0;34m,\u001b[0m \u001b[0mbatch_sizes\u001b[0m\u001b[0;34m)\u001b[0m\u001b[0;34m\u001b[0m\u001b[0m\n\u001b[0m\u001b[1;32m    193\u001b[0m         \u001b[0;32mif\u001b[0m \u001b[0mis_packed\u001b[0m\u001b[0;34m:\u001b[0m\u001b[0;34m\u001b[0m\u001b[0m\n\u001b[1;32m    194\u001b[0m             \u001b[0moutput\u001b[0m \u001b[0;34m=\u001b[0m \u001b[0mPackedSequence\u001b[0m\u001b[0;34m(\u001b[0m\u001b[0moutput\u001b[0m\u001b[0;34m,\u001b[0m \u001b[0mbatch_sizes\u001b[0m\u001b[0;34m)\u001b[0m\u001b[0;34m\u001b[0m\u001b[0m\n",
      "\u001b[0;32m/home/bsingh/anaconda2/lib/python2.7/site-packages/torch/nn/_functions/rnn.pyc\u001b[0m in \u001b[0;36mforward\u001b[0;34m(input, *fargs, **fkwargs)\u001b[0m\n\u001b[1;32m    321\u001b[0m             \u001b[0mfunc\u001b[0m \u001b[0;34m=\u001b[0m \u001b[0mdecorator\u001b[0m\u001b[0;34m(\u001b[0m\u001b[0mfunc\u001b[0m\u001b[0;34m)\u001b[0m\u001b[0;34m\u001b[0m\u001b[0m\n\u001b[1;32m    322\u001b[0m \u001b[0;34m\u001b[0m\u001b[0m\n\u001b[0;32m--> 323\u001b[0;31m         \u001b[0;32mreturn\u001b[0m \u001b[0mfunc\u001b[0m\u001b[0;34m(\u001b[0m\u001b[0minput\u001b[0m\u001b[0;34m,\u001b[0m \u001b[0;34m*\u001b[0m\u001b[0mfargs\u001b[0m\u001b[0;34m,\u001b[0m \u001b[0;34m**\u001b[0m\u001b[0mfkwargs\u001b[0m\u001b[0;34m)\u001b[0m\u001b[0;34m\u001b[0m\u001b[0m\n\u001b[0m\u001b[1;32m    324\u001b[0m \u001b[0;34m\u001b[0m\u001b[0m\n\u001b[1;32m    325\u001b[0m     \u001b[0;32mreturn\u001b[0m \u001b[0mforward\u001b[0m\u001b[0;34m\u001b[0m\u001b[0m\n",
      "\u001b[0;32m/home/bsingh/anaconda2/lib/python2.7/site-packages/torch/nn/_functions/rnn.pyc\u001b[0m in \u001b[0;36mforward\u001b[0;34m(input, weight, hx, batch_sizes)\u001b[0m\n\u001b[1;32m    285\u001b[0m             \u001b[0mbatch_first\u001b[0m\u001b[0;34m,\u001b[0m \u001b[0mdropout\u001b[0m\u001b[0;34m,\u001b[0m \u001b[0mtrain\u001b[0m\u001b[0;34m,\u001b[0m \u001b[0mbool\u001b[0m\u001b[0;34m(\u001b[0m\u001b[0mbidirectional\u001b[0m\u001b[0;34m)\u001b[0m\u001b[0;34m,\u001b[0m\u001b[0;34m\u001b[0m\u001b[0m\n\u001b[1;32m    286\u001b[0m             \u001b[0mlist\u001b[0m\u001b[0;34m(\u001b[0m\u001b[0mbatch_sizes\u001b[0m\u001b[0;34m.\u001b[0m\u001b[0mdata\u001b[0m\u001b[0;34m)\u001b[0m \u001b[0;32mif\u001b[0m \u001b[0mvariable_length\u001b[0m \u001b[0;32melse\u001b[0m \u001b[0;34m(\u001b[0m\u001b[0;34m)\u001b[0m\u001b[0;34m,\u001b[0m\u001b[0;34m\u001b[0m\u001b[0m\n\u001b[0;32m--> 287\u001b[0;31m             dropout_ts)\n\u001b[0m\u001b[1;32m    288\u001b[0m \u001b[0;34m\u001b[0m\u001b[0m\n\u001b[1;32m    289\u001b[0m         \u001b[0;32mif\u001b[0m \u001b[0mcx\u001b[0m \u001b[0;32mis\u001b[0m \u001b[0;32mnot\u001b[0m \u001b[0mNone\u001b[0m\u001b[0;34m:\u001b[0m\u001b[0;34m\u001b[0m\u001b[0m\n",
      "\u001b[0;31mKeyboardInterrupt\u001b[0m: "
     ]
    }
   ],
   "source": [
    "start_epoch = 0\n",
    "end_epoch = 60\n",
    "model_name = params['model_name']\n",
    "for iter_ in range(start_epoch, end_epoch):\n",
    "    total_loss = 0\n",
    "    for ind in tqdm(range(0,len(data['train_ids']),params['batch_size'])):\n",
    "        model_RNN.zero_grad()\n",
    "        curr_set_ids = data['train_ids'][ind:ind+params['batch_size']]\n",
    "        curr_feats, curr_labels, curr_lens = batchify.prepare_batch(data['data'],\n",
    "                                                                    curr_set_ids,\n",
    "                                                                   params['num_of_features'],\n",
    "                                                                       feature_ind, \n",
    "                                                                       label_ind)\n",
    "        tag_scores = model_RNN(curr_feats, curr_lens)\n",
    "\n",
    "        loss = loss_function(tag_scores, curr_labels.reshape(tag_scores.shape[0]))\n",
    "        total_loss+=loss.item()\n",
    "\n",
    "        loss.backward()\n",
    "        optimizer.step()\n",
    "    prf_tr, df_tr = eval_plot.evaluate_(model_RNN, data, 'train_ids', \n",
    "                                        params['batch_size'],params['num_of_features'],\n",
    "                                       feature_ind, label_ind)\n",
    "    prf_test, df_test = eval_plot.evaluate_(model_RNN, data, 'test_ids', \n",
    "                                            params['batch_size'],params['num_of_features'],\n",
    "                                           feature_ind, label_ind)\n",
    "    prf_val, df_val = eval_plot.evaluate_(model_RNN, data, 'val_ids', \n",
    "                                          params['batch_size'],params['num_of_features'],\n",
    "                                         feature_ind, label_ind)\n",
    "    \n",
    "    df_all = pd.concat([df_tr, df_val, df_test],axis=1)\n",
    "    dict_df_prf_mod['Epoch'+str(iter_)] = df_all\n",
    "    \n",
    "    print '=='*5 + \"Epoch No:\"+str(iter_) +\"==\"*5\n",
    "    print \"Training Loss: \"+str(total_loss)\n",
    "    print \"==\"*4\n",
    "    print \"Train: \" + str(prf_tr)\n",
    "    print df_tr\n",
    "    print \"--\"*4\n",
    "    print \"Val: \" + str(prf_val)\n",
    "    print df_val\n",
    "    print \"--\"*4\n",
    "    print \"Test: \" + str(prf_test)\n",
    "    print df_test\n",
    "    print '=='*40\n",
    "    print '\\n'\n",
    "    if(save_flag):\n",
    "        torch.save(model_RNN, '../../Models/'+model_name+str(iter_)+'.pt')\n",
    "        pickle.dump(dict_df_prf_mod, open('../../Results/dict_prf_'+model_name+str(iter_)+'.pkl','wb'))\n",
    "        eval_plot.plot_graphs(dict_df_prf_mod, 'F-score', \n",
    "                              '../../Plots/'+model_name+str(iter_)+'.png',\n",
    "                              0, iter_+1, \n",
    "                              model_name)"
   ]
  },
  {
   "cell_type": "code",
   "execution_count": null,
   "metadata": {},
   "outputs": [],
   "source": []
  }
 ],
 "metadata": {
  "kernelspec": {
   "display_name": "Python 2",
   "language": "python",
   "name": "python2"
  },
  "language_info": {
   "codemirror_mode": {
    "name": "ipython",
    "version": 2
   },
   "file_extension": ".py",
   "mimetype": "text/x-python",
   "name": "python",
   "nbconvert_exporter": "python",
   "pygments_lexer": "ipython2",
   "version": "2.7.14"
  }
 },
 "nbformat": 4,
 "nbformat_minor": 2
}
