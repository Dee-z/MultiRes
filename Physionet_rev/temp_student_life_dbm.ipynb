{
 "cells": [
  {
   "cell_type": "code",
   "execution_count": 43,
   "metadata": {},
   "outputs": [],
   "source": [
    "import os \n",
    "import sys\n",
    "\n",
    "cwd = os.getcwd()\n",
    "sys.path.insert(0, os.path.join(cwd, \"../\"))\n",
    "sys.path.insert(0, os.path.join(cwd, \"../student_life/\"))\n",
    "sys.path.insert(0, os.path.join(cwd, \"../student_life/src/\"))\n",
    "\n",
    "import copy\n",
    "import pickle\n",
    "import importlib\n",
    "import student_life.src.utils.student_utils as student_utils\n",
    "\n",
    "import student_life.src.definitions as definitions\n",
    "from IPython.display import display\n",
    "from student_life.src.data_getter import student_life_var_binned_data_getter\n",
    "importlib.reload(student_life_var_binned_data_getter)\n",
    "\n",
    "data = student_life_var_binned_data_getter.get_data_for_pkl_file()\n",
    "\n",
    "outfile = open('./student_life/data/student_life_pickle.pkl', 'wb')\n",
    "pickle.dump(data, outfile)\n",
    "outfile.close()"
   ]
  }
 ],
 "metadata": {
  "kernelspec": {
   "display_name": "Python 3",
   "language": "python",
   "name": "python3"
  },
  "language_info": {
   "codemirror_mode": {
    "name": "ipython",
    "version": 3
   },
   "file_extension": ".py",
   "mimetype": "text/x-python",
   "name": "python",
   "nbconvert_exporter": "python",
   "pygments_lexer": "ipython3",
   "version": "3.6.8"
  }
 },
 "nbformat": 4,
 "nbformat_minor": 2
}
