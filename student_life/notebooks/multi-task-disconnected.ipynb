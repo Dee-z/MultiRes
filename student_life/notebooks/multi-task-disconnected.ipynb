{
 "cells": [
  {
   "cell_type": "code",
   "execution_count": 7,
   "metadata": {},
   "outputs": [
    {
     "name": "stdout",
     "output_type": "stream",
     "text": [
      "Student ID couldn't be converted to Integer!\n"
     ]
    }
   ],
   "source": [
    "import os\n",
    "import sys\n",
    "cwd = os.getcwd()\n",
    "module_path = os.path.abspath(os.path.join('..'))\n",
    "sys.path.insert(0, os.path.join(cwd, \"../\"))\n",
    "\n",
    "import pickle\n",
    "import torch\n",
    "import importlib\n",
    "import numpy as np\n",
    "import pandas as pd\n",
    "import copy\n",
    "\n",
    "import src.bin.tensorify as tensorify\n",
    "import src.utils.data_conversion_utils as conversions\n",
    "import src.data_manager.student_life_var_binned_data_manager as data_manager\n",
    "import src.bin.trainer as trainer\n",
    "\n",
    "from sklearn import metrics\n",
    "\n",
    "from torch import nn\n",
    "from copy import copy\n",
    "from copy import deepcopy\n",
    "from src import definitions\n",
    "from src.bin import validations\n",
    "from src.bin import statistics\n",
    "from src.bin import plotting\n",
    "from src.utils.read_utils import read_pickle\n",
    "from src.utils import student_utils\n",
    "from src.data_manager import sub_sampler\n",
    "from src.data_manager import cross_val\n",
    "from src.data_manager import helper as data_manager_helper\n",
    "from tabulate import tabulate\n",
    "from src.models import autoencoder\n",
    "from src.models import multitask_learning\n",
    "from src.models import user_dense_heads\n",
    "\n",
    "\n",
    "pd.set_option('max_rows', 10000)\n",
    "\n",
    "importlib.reload(validations)\n",
    "importlib.reload(autoencoder)\n",
    "importlib.reload(multitask_learning)\n",
    "importlib.reload(user_dense_heads)\n",
    "importlib.reload(sub_sampler)\n",
    "importlib.reload(statistics)\n",
    "importlib.reload(cross_val)\n",
    "importlib.reload(definitions)\n",
    "importlib.reload(conversions)\n",
    "importlib.reload(tensorify)\n",
    "importlib.reload(plotting)\n",
    "importlib.reload(trainer)\n",
    "importlib.reload(data_manager)\n",
    "importlib.reload(student_utils)\n",
    "importlib.reload(data_manager_helper)\n",
    "feature_list = data_manager.FEATURE_LIST\n"
   ]
  },
  {
   "cell_type": "code",
   "execution_count": 13,
   "metadata": {},
   "outputs": [
    {
     "name": "stdout",
     "output_type": "stream",
     "text": [
      "Student ID couldn't be converted to Integer!\n",
      "Student ID couldn't be converted to Integer!\n",
      "Student ID couldn't be converted to Integer!\n",
      "Student ID couldn't be converted to Integer!\n"
     ]
    }
   ],
   "source": [
    "\n",
    "# ##### Pickle #####\n",
    "# data = read_pickle('../data/training_data/most_representative_6_hr_b_imputed_normalized_prev_stress_data.pkl')\n",
    "\n",
    "\n",
    "#### Data ####\n",
    "student_list = [53, 46, 7, 49, 22, 24, 2]\n",
    "student_list = [2]\n",
    "data = data_manager.get_data_for_training_in_dict_format(*student_list, normalize=True, \n",
    "                                                         fill_na=True, flatten_sequence=False)\n",
    "\n",
    "###### Randomize ######\n",
    "# train_ids, val_ids, test_ids = cross_val.random_stratified_splits(data, stratify_by='students')\n",
    "# data['train_ids'] = train_ids\n",
    "# data['val_ids'] = val_ids\n",
    "# data['test_ids'] = test_ids\n",
    "\n",
    "# print(statistics.get_train_test_val_label_counts_from_raw_data(data))"
   ]
  },
  {
   "cell_type": "code",
   "execution_count": null,
   "metadata": {},
   "outputs": [],
   "source": [
    "def get_windowed_histogram(data: dict) -> dict:\n",
    "    pass "
   ]
  },
  {
   "cell_type": "code",
   "execution_count": 16,
   "metadata": {},
   "outputs": [
    {
     "name": "stdout",
     "output_type": "stream",
     "text": [
      "dict_keys(['train_ids', 'val_ids', 'test_ids', 'data'])\n",
      "['2_3_28_22', '2_3_29_23', '2_3_30_22', '2_3_31_22', '2_4_3_6', '2_4_4_1', '2_4_9_8', '2_4_11_22', '2_4_13_22', '2_4_14_22', '2_4_15_20', '2_4_16_4', '2_4_23_8', '2_4_25_18', '2_4_29_0']\n",
      "2_3_28_22\n",
      "6\n",
      "[[1.3416430590094235, -1.2577636602022697, -0.015909589834072414, 0.8626173561829356, -0.16684908511384763, -0.5060939303479765, -0.5470686602272028, -0.6158955124124572, -0.6680007861199865, -0.8208066328029336], [1.3416430590094235, -1.256875849823195, -0.016797196831408102, 0.862274150179306, -0.16684908511384763, -0.5060939303479765, -0.5470686602272028, -0.6158955124124572, -0.6680007861199865, -0.8208066328029336], [1.3416430590094235, -1.25598803944412, -0.01768480382874379, 0.8619309441756764, 2.961425552614535, -0.5060939303479765, -0.5470686602272028, -0.6158955124124572, -0.6680007861199865, -0.8208066328029336], [1.3416430590094235, -1.2551002290650455, -0.01857241082607948, 0.8615877381720468, 2.961425552614535, -0.5060939303479765, -0.5470686602272028, -0.6158955124124572, -0.6680007861199865, -0.8208066328029336], [1.3416430590094235, -1.2542124186859707, -0.019460017823415172, 0.8612445321684173, -0.16684908511384763, -0.5060939303479765, -0.5470686602272028, -0.6158955124124572, -0.6680007861199865, -0.8208066328029336]]\n"
     ]
    }
   ],
   "source": [
    "print(data.keys())\n",
    "k1 = data['train_ids'][0]\n",
    "print(data['train_ids'])\n",
    "print(k1)\n",
    "d1 = data['data'][k1]\n",
    "print(len(d1))\n",
    "print(d1[0][:5])"
   ]
  },
  {
   "cell_type": "code",
   "execution_count": null,
   "metadata": {},
   "outputs": [],
   "source": []
  }
 ],
 "metadata": {
  "kernelspec": {
   "display_name": "python3_6",
   "language": "python",
   "name": "python3_6"
  },
  "language_info": {
   "codemirror_mode": {
    "name": "ipython",
    "version": 3
   },
   "file_extension": ".py",
   "mimetype": "text/x-python",
   "name": "python",
   "nbconvert_exporter": "python",
   "pygments_lexer": "ipython3",
   "version": "3.6.0"
  }
 },
 "nbformat": 4,
 "nbformat_minor": 2
}
