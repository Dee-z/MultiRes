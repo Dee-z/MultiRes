{
 "cells": [
  {
   "cell_type": "code",
<<<<<<< HEAD
   "execution_count": 3,
   "metadata": {},
=======
   "execution_count": 1,
   "metadata": {
    "collapsed": false
   },
>>>>>>> master
   "outputs": [
    {
     "name": "stdout",
     "output_type": "stream",
     "text": [
<<<<<<< HEAD
      "Student ID couldn't be converted to Integer!\n"
     ]
    },
    {
     "data": {
      "text/plain": [
       "<module 'src.utils.student_utils' from '/Users/nsimsiri/Documents/code/ml/MultiRes/student_life/notebooks/../src/utils/student_utils.py'>"
      ]
     },
     "execution_count": 3,
     "metadata": {},
     "output_type": "execute_result"
=======
      "Student: 1\n",
      "Student: 2\n",
      "Student: 4\n",
      "Student: 7\n",
      "Student: 10\n",
      "Student: 22\n",
      "Student: 24\n",
      "Student: 33\n",
      "Student: 42\n",
      "Student: 46\n",
      "Student: 49\n",
      "Student: 53\n",
      "Student: 57\n",
      "      Train    Val    Test\n",
      "--  -------  -----  ------\n",
      " 0      112     61      17\n",
      " 1      133     67      17\n",
      " 2       88     38      19\n"
     ]
>>>>>>> master
    }
   ],
   "source": [
    "import os\n",
    "import sys\n",
    "import torch\n",
    "\n",
    "cwd = os.getcwd()\n",
    "module_path = os.path.abspath(os.path.join('..'))\n",
    "sys.path.insert(0, os.path.join(cwd, \"../\"))\n",
    "sys.path.insert(0, os.path.join(cwd, \"../student_life/\"))\n",
    "sys.path.insert(0, os.path.join(cwd, \"../student_life/src/\"))\n",
    "sys.path.insert(0, os.path.join(cwd, \"../student_life/src/bin/\"))\n",
    "\n",
    "import copy\n",
    "import pickle\n",
    "import importlib\n",
    "import src.utils.student_utils as student_utils\n",
    "import src.definitions as definitions\n",
    "import src.data_manager.student_life_var_binned_data_manager as data_manager\n",
    "from IPython.display import display\n",
<<<<<<< HEAD
    "from src.data_manager import student_life_var_binned_data_manager\n",
    "importlib.reload(student_life_var_binned_data_manager)\n",
    "importlib.reload(student_utils)"
=======
    "from src.bin import statistics\n",
    "\n",
    "importlib.reload(data_manager)\n",
    "importlib.reload(student_utils)\n",
    "importlib.reload(statistics)\n",
    "\n",
    "student_list =  [1, 2, 4 , 7,10, 22, 24, 33, 42, 46, 49, 53, 57]\n",
    "data = data_manager.get_data_for_training_in_dict_format(*student_list, normalize=True,\n",
    "                                                         fill_na=True, flatten_sequence=False,\n",
    "                                                         split_type='percentage')\n",
    "\n",
    "print(statistics.get_train_test_val_label_counts_from_raw_data(data))"
>>>>>>> master
   ]
  },
  {
   "cell_type": "code",
<<<<<<< HEAD
   "execution_count": 6,
   "metadata": {},
=======
   "execution_count": 16,
   "metadata": {
    "collapsed": false
   },
>>>>>>> master
   "outputs": [
    {
     "name": "stdout",
     "output_type": "stream",
     "text": [
<<<<<<< HEAD
      "Student ID couldn't be converted to Integer!\n",
      "Student ID couldn't be converted to Integer!\n",
      "Student ID couldn't be converted to Integer!\n",
      "Student ID couldn't be converted to Integer!\n"
=======
      "      Train    Val    Test\n",
      "--  -------  -----  ------\n",
      " 0      105     53      27\n",
      " 1      123     50      43\n",
      " 2       99     27      18\n"
>>>>>>> master
     ]
    }
   ],
   "source": [
<<<<<<< HEAD
    "data = student_life_var_binned_data_manager.get_data_for_training_in_dict_format(53)\n"
   ]
  },
  {
   "cell_type": "code",
   "execution_count": 10,
   "metadata": {},
   "outputs": [
    {
     "name": "stdout",
     "output_type": "stream",
     "text": [
      "53_3_30_21\n",
      "6\n",
      "[[3.0, 2244.0, 13.0, 13121.0, 0.0, 0.0, 0.0, 0.0, 1.0, 0.0]]\n"
     ]
    }
   ],
   "source": [
    "S = 1\n",
    "k1 = data['train_ids'][0]\n",
    "print(k1)\n",
    "d1 = data['data'][k1]\n",
    "print(len(d1))\n",
    "f1 = d1[0][:S]\n",
    "print(f1)\n"
   ]
  },
  {
   "cell_type": "code",
   "execution_count": 7,
   "metadata": {},
   "outputs": [
    {
     "name": "stdout",
     "output_type": "stream",
     "text": [
      "tensor([[1., 2., 3.],\n",
      "        [3., 4., 3.]])\n"
     ]
    },
    {
     "data": {
      "text/plain": [
       "torch.Size([2])"
      ]
     },
     "execution_count": 7,
     "metadata": {},
     "output_type": "execute_result"
    }
   ],
   "source": [
    "\n",
    "# outfile = open('../data/training_data/student_35_3_hr_b_1_hr_a_mean_filled_data.pkl', 'wb')\n",
    "# pickle.dump(data, outfile)\n",
    "# outfile.close()\n",
    "\n",
    "a = torch.Tensor([[1,2,3],[3,4,3]])\n",
    "print(a)\n",
    "torch.mean(a, dim=1)\n",
    "torch.mean(a, dim=1).size()"
=======
    "from src.data_manager import cross_val\n",
    "importlib.reload(cross_val)\n",
    "\n",
    "###### Shuffle ######\n",
    "train_ids, val_ids, test_ids = cross_val.random_stratified_splits(data, stratify_by='students')\n",
    "data['train_ids'] = train_ids\n",
    "data['val_ids'] = val_ids\n",
    "data['test_ids'] = test_ids\n",
    "\n",
    "print(statistics.get_train_test_val_label_counts_from_raw_data(data))\n",
    "\n"
>>>>>>> master
   ]
  },
  {
   "cell_type": "code",
<<<<<<< HEAD
   "execution_count": 15,
   "metadata": {},
   "outputs": [
    {
     "name": "stdout",
     "output_type": "stream",
     "text": [
      "torch.Size([100])\n",
      "torch.Size([100, 50])\n"
     ]
    }
   ],
   "source": [
    "A = torch.randn((100,50))\n",
    "B = torch.randn((100,))\n",
    "print(B.size())\n",
    "C = B.unsqueeze(1).expand((-1, 50))\n",
    "print(C.size())"
   ]
  },
  {
   "cell_type": "code",
   "execution_count": 24,
   "metadata": {},
   "outputs": [
    {
     "data": {
      "text/plain": [
       "50"
      ]
     },
     "execution_count": 24,
     "metadata": {},
     "output_type": "execute_result"
    }
   ],
   "source": [
    "k = torch.nn.Linear(50,60)\n",
    "k.in_features"
   ]
  },
  {
   "cell_type": "code",
   "execution_count": 29,
   "metadata": {},
   "outputs": [
    {
     "name": "stdout",
     "output_type": "stream",
     "text": [
      "torch.LongTensor\n",
      "torch.FloatTensor\n"
     ]
    }
   ],
   "source": [
    "A = torch.LongTensor([1,2,3])\n",
    "print(A.type())\n",
    "print(A.float().type())"
=======
   "execution_count": 17,
   "metadata": {
    "collapsed": false
   },
   "outputs": [],
   "source": [
    "outfile = open('../data/training_data/shuffled_splits/training_date_normalized_shuffled_splits_select_features_no_prev_stress_2.pkl',\n",
    "               'wb')\n",
    "pickle.dump(data,outfile)\n",
    "outfile.close()"
>>>>>>> master
   ]
  },
  {
   "cell_type": "code",
   "execution_count": null,
   "metadata": {
    "collapsed": true
   },
   "outputs": [],
   "source": []
  }
 ],
 "metadata": {
  "kernelspec": {
   "display_name": "python3_6",
   "language": "python",
   "name": "python3_6"
  },
  "language_info": {
   "codemirror_mode": {
    "name": "ipython",
    "version": 3
   },
   "file_extension": ".py",
   "mimetype": "text/x-python",
   "name": "python",
   "nbconvert_exporter": "python",
   "pygments_lexer": "ipython3",
   "version": "3.6.0"
  }
 },
 "nbformat": 4,
 "nbformat_minor": 2
}
