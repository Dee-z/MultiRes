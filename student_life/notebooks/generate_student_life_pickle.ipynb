{
 "cells": [
  {
   "cell_type": "code",
   "execution_count": 9,
   "metadata": {},
   "outputs": [],
   "source": [
    "import os \n",
    "import sys\n",
    "\n",
    "cwd = os.getcwd()\n",
    "module_path = os.path.abspath(os.path.join('..'))\n",
    "# sys.path.insert(0, os.path.join(cwd, \"../\"))\n",
    "# sys.path.insert(0, os.path.join(cwd, \"../student_life/\"))\n",
    "# sys.path.insert(0, os.path.join(cwd, \"../student_life/src/\"))\n",
    "\n",
    "import copy\n",
    "import pickle\n",
    "import importlib\n",
    "import src.utils.student_utils as student_utils\n",
    "\n",
    "import src.definitions as definitions\n",
    "from IPython.display import display\n",
    "from src.data_getter import student_life_var_binned_data_getter\n",
    "importlib.reload(student_life_var_binned_data_getter)\n",
    "importlib.reload(student_utils)\n",
    "\n",
    "data = student_life_var_binned_data_getter.get_data_for_pkl_file(35)\n",
    "\n",
    "outfile = open('../data/training_data/student_life_pickle.pkl', 'wb')\n",
    "pickle.dump(data, outfile)\n",
    "outfile.close()"
   ]
  },
  {
   "cell_type": "code",
   "execution_count": 10,
   "metadata": {},
   "outputs": [
    {
     "name": "stdout",
     "output_type": "stream",
     "text": [
      "[[0.0, -1.0, 0.0, 814.0, 490.0, 699.0, 43.70519274, -72.28314014, 13.0, 3.0], [-1.0, 0.0, -1.0, -1.0, -1.0, -1.0, -1.0, -1.0, -1.0, -1.0]]\n"
     ]
    }
   ],
   "source": [
    "print(data['data']['35_3_29'][0][:2])"
   ]
  },
  {
   "cell_type": "code",
   "execution_count": null,
   "metadata": {},
   "outputs": [],
   "source": []
  }
 ],
 "metadata": {
  "kernelspec": {
   "display_name": "Python 3",
   "language": "python",
   "name": "python3"
  },
  "language_info": {
   "codemirror_mode": {
    "name": "ipython",
    "version": 3
   },
   "file_extension": ".py",
   "mimetype": "text/x-python",
   "name": "python",
   "nbconvert_exporter": "python",
   "pygments_lexer": "ipython3",
   "version": "3.6.8"
  }
 },
 "nbformat": 4,
 "nbformat_minor": 2
}
