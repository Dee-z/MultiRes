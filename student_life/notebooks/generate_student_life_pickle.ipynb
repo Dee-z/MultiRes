{
 "cells": [
  {
   "cell_type": "code",
   "execution_count": 43,
   "metadata": {},
   "outputs": [
    {
     "name": "stdout",
     "output_type": "stream",
     "text": [
      "/Users/nsimsiri/Documents/code/ml/MultiRes/student_life\n"
     ]
    }
   ],
   "source": [
    "import os \n",
    "import sys\n",
    "\n",
    "cwd = os.getcwd()\n",
    "module_path = os.path.abspath(os.path.join('..'))\n",
    "sys.path.insert(0, os.path.join(cwd, \"../\"))\n",
    "sys.path.insert(0, os.path.join(cwd, \"../student_life/\"))\n",
    "sys.path.insert(0, os.path.join(cwd, \"../student_life/src/\"))\n",
    "sys.path.insert(0, os.path.join(cwd, \"../student_life/src/bin/\"))\n",
    "\n",
    "import copy\n",
    "import pickle\n",
    "import importlib\n",
    "import src.utils.student_utils as student_utils\n",
    "\n",
    "import src.definitions as definitions\n",
    "from IPython.display import display\n",
    "from src.data_manager import student_life_var_binned_data_manager\n",
    "importlib.reload(student_life_var_binned_data_manager)\n",
    "importlib.reload(student_utils)\n",
    "\n",
    "print(module_path)\n",
    "student_life_path = module_path"
   ]
  },
  {
   "cell_type": "code",
   "execution_count": 44,
   "metadata": {},
   "outputs": [
    {
     "name": "stdout",
     "output_type": "stream",
     "text": [
      "missing False\n",
      "/Users/nsimsiri/Documents/code/ml/MultiRes/student_life/data/training_data/student_life_pickle_35.pkl\n"
     ]
    }
   ],
   "source": [
    "# user_ids = [35, 32, 36, 42, 43, 44, 1, 45]\n",
    "user_ids = [35]\n",
    "for user_id in user_ids:\n",
    "    pickle_path = student_life_path + '/data/training_data/student_life_pickle_{}.pkl'.format(user_id)\n",
    "    data = student_life_var_binned_data_manager.get_data_for_training_in_dict_format(user_id)\n",
    "    with open(pickle_path, 'wb') as outfile:\n",
    "        pickle.dump(data, outfile)\n",
    "        print(pickle_path)"
   ]
  },
  {
   "cell_type": "code",
   "execution_count": 30,
   "metadata": {},
   "outputs": [
    {
     "data": {
      "text/plain": [
       "{'day_of_week', 'epoch_of_day', 'time_since_last_label', 'time_to_next_label'}"
      ]
     },
     "execution_count": 30,
     "metadata": {},
     "output_type": "execute_result"
    }
   ],
   "source": [
    "## these are the missing delta/missing columns - breaks TBM\n",
    "a =  ['student_id', 'activity_inference_min', 'activity_inference_max', 'activity_inference_mode', 'audio_activity_inference_min', 'audio_activity_inference_max', 'audio_activity_inference_mode', 'conv_duration_min_sum', 'phonecharge_duration_min_sum', 'phonelock_duration_min_sum', 'dark_duration_min_sum', 'hours_slept_sum', 'sleep_rating_sum', 'latitude_mode', 'longitude_mode', 'stress_level_mode']\n",
    "b = ['day_of_week', 'epoch_of_day', 'time_since_last_label', 'time_to_next_label', 'activity_inference_mode', 'audio_activity_inference_mode', 'conv_duration_min_sum', 'dark_duration_min_sum', 'phonecharge_duration_min_sum', 'phonelock_duration_min_sum', 'latitude_mode', 'longitude_mode', 'hours_slept_sum', 'sleep_rating_sum']\n",
    "a = set(a)\n",
    "b = set(b)\n",
    "b.difference(a)"
   ]
  },
  {
   "cell_type": "code",
   "execution_count": 45,
   "metadata": {},
   "outputs": [
    {
     "name": "stdout",
     "output_type": "stream",
     "text": [
      "loaded /Users/nsimsiri/Documents/code/ml/MultiRes/student_life/data/training_data/student_life_pickle_35.pkl with \n",
      "\tkeys: dict_keys(['train_ids', 'val_ids', 'test_ids', 'data'])\n"
     ]
    }
   ],
   "source": [
    "data_list = []\n",
    "\n",
    "for user_id in user_ids:\n",
    "    data = None\n",
    "    pickle_path = student_life_path + '/data/training_data/student_life_pickle_{}.pkl'.format(user_id)\n",
    "    with open(pickle_path, 'rb') as pickle_file:\n",
    "        data = pickle.load(pickle_file)\n",
    "    print('loaded {} with \\n\\tkeys: {}'.format(pickle_path, data.keys()))\n",
    "    data_list.append(data)"
   ]
  },
  {
   "cell_type": "code",
   "execution_count": 46,
   "metadata": {},
   "outputs": [
    {
     "name": "stdout",
     "output_type": "stream",
     "text": [
      "data --> dict_keys(['train_ids', 'val_ids', 'test_ids', 'data'])\n",
      "1 datapoint: 4 keys: (features: List, mask: List, delta: List, stress) \n",
      "\n",
      "SID: 35 - train: 17, val: 6, test: 5, total: 28\n",
      "\n",
      "Day 35_3_29 - feats=1440, masks=1440, deltas=1440 \n",
      "stress=1\n",
      "\n",
      "feats sample -  [0.0, -1.0, 0.0, 814.0, 490.0, 699.0, 43.70519274, -72.28314014, 13.0, 3.0]\n",
      "\n",
      "mask sample -  [0, 1, 0, 0, 0, 0, 0, 0, 0, 0]\n",
      "\n",
      "delta sample -  [0.0, 0.0, 0.0, 0.0, 0.0, 0.0, 0.0, 0.0, 0.0, 0.0]\n"
     ]
    }
   ],
   "source": [
    "sample_idx = user_ids.index(35)\n",
    "data = data_list[sample_idx]\n",
    "# data --> {'train_ids', 'test_ids', 'val_ids', 'data'}\"\n",
    "print(\"data --> \" + str(data.keys()))\n",
    "# data[*_ids] --> 'day 1', 'day 2', etc...\n",
    "day_key = data['train_ids'][0] # sample\n",
    "# data['data'][day] --> (features: List, mask: List, delta: List, stress) \n",
    "data_i = data['data'][day_key]\n",
    "feats, masks, deltas, stress = data_i\n",
    "print(\"1 datapoint: \" + str(len(data_i)) + \" keys: (features: List, mask: List, delta: List, stress) \")\n",
    "print(\"\")\n",
    "\n",
    "print(\"SID: {} - train: {}, val: {}, test: {}, total: {}\".format(user_ids[sample_idx],\n",
    "                                                       len(data['train_ids']),\n",
    "                                                       len(data['val_ids']),\n",
    "                                                       len(data['test_ids']),\n",
    "                                                       len(data['data'])))\n",
    "\n",
    "\n",
    "print(\"\\nDay {} - feats={}, masks={}, deltas={} \\nstress={}\"\n",
    "      .format(day_key, len(feats), len(masks), len(deltas), stress))\n",
    "\n",
    "print()\n",
    "print(\"feats sample - \", feats[0])\n",
    "print()\n",
    "print(\"mask sample - \", masks[0])\n",
    "print()\n",
    "print(\"delta sample - \", deltas[0])\n",
    "\n"
   ]
  },
  {
   "cell_type": "code",
   "execution_count": null,
   "metadata": {},
   "outputs": [],
   "source": []
  }
 ],
 "metadata": {
  "kernelspec": {
   "display_name": "Python 3.5",
   "language": "python",
   "name": "myenv"
  },
  "language_info": {
   "codemirror_mode": {
    "name": "ipython",
    "version": 3
   },
   "file_extension": ".py",
   "mimetype": "text/x-python",
   "name": "python",
   "nbconvert_exporter": "python",
   "pygments_lexer": "ipython3",
   "version": "3.6.0"
  }
 },
 "nbformat": 4,
 "nbformat_minor": 2
}
