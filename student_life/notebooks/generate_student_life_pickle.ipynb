{
 "cells": [
  {
   "cell_type": "code",
   "execution_count": 4,
   "metadata": {},
   "outputs": [
    {
     "name": "stderr",
     "output_type": "stream",
     "text": [
      "/Users/nsimsiri/Documents/code/ml/MultiRes/student_life/notebooks/../src/utils/read_utils.py:11: YAMLLoadWarning: calling yaml.load() without Loader=... is deprecated, as the default Loader is unsafe. Please read https://msg.pyyaml.org/load for full details.\n",
      "  yaml_file = yaml.load(ymlfile)\n",
      "/Users/nsimsiri/Documents/code/ml/MultiRes/student_life/notebooks/../src/utils/read_utils.py:11: YAMLLoadWarning: calling yaml.load() without Loader=... is deprecated, as the default Loader is unsafe. Please read https://msg.pyyaml.org/load for full details.\n",
      "  yaml_file = yaml.load(ymlfile)\n",
      "/Users/nsimsiri/Documents/code/ml/MultiRes/student_life/notebooks/../src/utils/read_utils.py:11: YAMLLoadWarning: calling yaml.load() without Loader=... is deprecated, as the default Loader is unsafe. Please read https://msg.pyyaml.org/load for full details.\n",
      "  yaml_file = yaml.load(ymlfile)\n",
      "/Users/nsimsiri/anaconda3/lib/python3.7/site-packages/pandas/core/frame.py:6692: FutureWarning: Sorting because non-concatenation axis is not aligned. A future version\n",
      "of pandas will change to not sort by default.\n",
      "\n",
      "To accept the future behavior, pass 'sort=False'.\n",
      "\n",
      "To retain the current behavior and silence the warning, pass 'sort=True'.\n",
      "\n",
      "  sort=sort)\n"
     ]
    },
    {
     "name": "stdout",
     "output_type": "stream",
     "text": [
      "Student: 0\n",
      "\tFailed, skipping...\n",
      "Student: 1\n",
      "Student: 2\n",
      "Student: 3\n",
      "\tFailed, skipping...\n",
      "Student: 4\n",
      "Student: 5\n",
      "Student: 6\n",
      "\tFailed, skipping...\n",
      "Student: 7\n",
      "Student: 8\n",
      "Student: 9\n",
      "\tFailed, skipping...\n",
      "Student: 10\n",
      "Student: 11\n",
      "\tFailed, skipping...\n",
      "Student: 12\n",
      "Student: 13\n",
      "\tFailed, skipping...\n",
      "Student: 14\n",
      "Student: 15\n",
      "\tFailed, skipping...\n",
      "Student: 16\n",
      "Student: 17\n",
      "Student: 18\n",
      "Student: 19\n",
      "Student: 20\n",
      "\tFailed, skipping...\n",
      "Student: 21\n",
      "\tFailed, skipping...\n",
      "Student: 22\n",
      "Student: 23\n",
      "Student: 24\n",
      "Student: 25\n",
      "Student: 26\n",
      "\tFailed, skipping...\n",
      "Student: 27\n",
      "Student: 28\n",
      "\tFailed, skipping...\n",
      "Student: 29\n",
      "\tFailed, skipping...\n",
      "Student: 30\n",
      "Student: 31\n",
      "Student: 32\n",
      "Student: 33\n",
      "Student: 34\n",
      "Student: 35\n",
      "Student: 36\n",
      "Student: 37\n",
      "\tFailed, skipping...\n",
      "Student: 38\n",
      "\tFailed, skipping...\n",
      "Student: 39\n",
      "Student: 40\n",
      "\tFailed, skipping...\n",
      "Student: 41\n",
      "Student: 42\n",
      "Student: 43\n",
      "Student: 44\n",
      "Student: 45\n",
      "Student: 46\n",
      "Student: 47\n",
      "\tFailed, skipping...\n",
      "Student: 48\n",
      "\tFailed, skipping...\n",
      "Student: 49\n",
      "Student: 50\n",
      "Student: 51\n",
      "Student: 52\n",
      "Student: 53\n",
      "Student: 54\n",
      "Student: 55\n",
      "\tFailed, skipping...\n",
      "Student: 56\n",
      "\tFailed, skipping...\n",
      "Student: 57\n",
      "Student: 58\n",
      "Student: 59\n",
      "      Train    Val    Test\n",
      "--  -------  -----  ------\n",
      " 0      269    138      34\n",
      " 1      452    224      66\n",
      " 2      284    152      65\n"
     ]
    }
   ],
   "source": [
    "import os \n",
    "import sys\n",
    "\n",
    "cwd = os.getcwd()\n",
    "module_path = os.path.abspath(os.path.join('..'))\n",
    "sys.path.insert(0, os.path.join(cwd, \"../\"))\n",
    "sys.path.insert(0, os.path.join(cwd, \"../student_life/\"))\n",
    "sys.path.insert(0, os.path.join(cwd, \"../student_life/src/\"))\n",
    "sys.path.insert(0, os.path.join(cwd, \"../student_life/src/bin/\"))\n",
    "\n",
    "import copy\n",
    "import pickle\n",
    "import importlib\n",
    "import src.utils.student_utils as student_utils\n",
    "\n",
    "import src.definitions as definitions\n",
    "from IPython.display import display\n",
    "\n",
    "# Will run generator\n",
    "from src.data_manager import generate_data\n",
    "\n",
    "%load_ext autoreload\n",
    "%autoreload 2\n",
    "\n",
    "# data = student_life_var_binned_data_manager.get_data_for_training_in_dict_format(35)\n",
    "\n",
    "# outfile = open('../data/training_data/student_35_3_hr_b_1_hr_a_mean_filled_data.pkl', 'wb')\n",
    "# pickle.dump(data, outfile)\n",
    "# outfile.close()"
   ]
  },
  {
   "cell_type": "code",
   "execution_count": 3,
   "metadata": {},
   "outputs": [
    {
     "name": "stdout",
     "output_type": "stream",
     "text": [
      "False\n"
     ]
    }
   ],
   "source": [
    "import os\n",
    "print(os.path.exists('../data/training_data/shuffled_splits/'))"
   ]
  },
  {
   "cell_type": "code",
   "execution_count": null,
   "metadata": {},
   "outputs": [],
   "source": []
  }
 ],
 "metadata": {
  "kernelspec": {
   "display_name": "Python 3",
   "language": "python",
   "name": "python3"
  },
  "language_info": {
   "codemirror_mode": {
    "name": "ipython",
    "version": 3
   },
   "file_extension": ".py",
   "mimetype": "text/x-python",
   "name": "python",
   "nbconvert_exporter": "python",
   "pygments_lexer": "ipython3",
   "version": "3.7.3"
  }
 },
 "nbformat": 4,
 "nbformat_minor": 2
}
