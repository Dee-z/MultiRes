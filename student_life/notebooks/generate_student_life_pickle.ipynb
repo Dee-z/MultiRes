{
 "cells": [
  {
   "cell_type": "code",
   "execution_count": 1,
   "metadata": {
    "collapsed": false
   },
   "outputs": [
    {
     "name": "stdout",
     "output_type": "stream",
     "text": [
      "Student: 1\n",
      "Student: 2\n",
      "Student: 4\n",
      "Student: 7\n",
      "Student: 10\n",
      "Student: 22\n",
      "Student: 24\n",
      "Student: 33\n",
      "Student: 42\n",
      "Student: 46\n",
      "Student: 49\n",
      "Student: 53\n",
      "Student: 57\n",
      "      Train    Val    Test\n",
      "--  -------  -----  ------\n",
      " 0      112     61      17\n",
      " 1      133     67      17\n",
      " 2       88     38      19\n"
     ]
    }
   ],
   "source": [
    "import os\n",
    "import sys\n",
    "\n",
    "cwd = os.getcwd()\n",
    "module_path = os.path.abspath(os.path.join('..'))\n",
    "sys.path.insert(0, os.path.join(cwd, \"../\"))\n",
    "sys.path.insert(0, os.path.join(cwd, \"../student_life/\"))\n",
    "sys.path.insert(0, os.path.join(cwd, \"../student_life/src/\"))\n",
    "sys.path.insert(0, os.path.join(cwd, \"../student_life/src/bin/\"))\n",
    "\n",
    "import copy\n",
    "import pickle\n",
    "import importlib\n",
    "import src.utils.student_utils as student_utils\n",
    "import src.definitions as definitions\n",
    "import src.data_manager.student_life_var_binned_data_manager as data_manager\n",
    "from IPython.display import display\n",
    "from src.bin import statistics\n",
    "\n",
    "importlib.reload(data_manager)\n",
    "importlib.reload(student_utils)\n",
    "importlib.reload(statistics)\n",
    "\n",
    "student_list =  [1, 2, 4 , 7,10, 22, 24, 33, 42, 46, 49, 53, 57]\n",
    "data = data_manager.get_data_for_training_in_dict_format(*student_list, normalize=True,\n",
    "                                                         fill_na=True, flatten_sequence=False,\n",
    "                                                         split_type='percentage')\n",
    "\n",
    "print(statistics.get_train_test_val_label_counts_from_raw_data(data))"
   ]
  },
  {
   "cell_type": "code",
   "execution_count": 16,
   "metadata": {
    "collapsed": false
   },
   "outputs": [
    {
     "name": "stdout",
     "output_type": "stream",
     "text": [
      "      Train    Val    Test\n",
      "--  -------  -----  ------\n",
      " 0      105     53      27\n",
      " 1      123     50      43\n",
      " 2       99     27      18\n"
     ]
    }
   ],
   "source": [
    "from src.data_manager import cross_val\n",
    "importlib.reload(cross_val)\n",
    "\n",
    "###### Shuffle ######\n",
    "train_ids, val_ids, test_ids = cross_val.random_stratified_splits(data, stratify_by='students')\n",
    "data['train_ids'] = train_ids\n",
    "data['val_ids'] = val_ids\n",
    "data['test_ids'] = test_ids\n",
    "\n",
    "print(statistics.get_train_test_val_label_counts_from_raw_data(data))\n",
    "\n"
   ]
  },
  {
   "cell_type": "code",
   "execution_count": 17,
   "metadata": {
    "collapsed": false
   },
   "outputs": [],
   "source": [
    "outfile = open('../data/training_data/shuffled_splits/training_date_normalized_shuffled_splits_select_features_no_prev_stress_2.pkl',\n",
    "               'wb')\n",
    "pickle.dump(data,outfile)\n",
    "outfile.close()"
   ]
  },
  {
   "cell_type": "code",
   "execution_count": null,
   "metadata": {
    "collapsed": true
   },
   "outputs": [],
   "source": []
  }
 ],
 "metadata": {
  "kernelspec": {
   "display_name": "Python 3",
   "language": "python",
   "name": "python3"
  },
  "language_info": {
   "codemirror_mode": {
    "name": "ipython",
    "version": 3
   },
   "file_extension": ".py",
   "mimetype": "text/x-python",
   "name": "python",
   "nbconvert_exporter": "python",
   "pygments_lexer": "ipython3",
   "version": "3.6.8"
  }
 },
 "nbformat": 4,
 "nbformat_minor": 2
}
