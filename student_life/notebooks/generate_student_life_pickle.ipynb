{
 "cells": [
  {
   "cell_type": "code",
   "execution_count": 11,
   "metadata": {},
   "outputs": [
    {
     "name": "stdout",
     "output_type": "stream",
     "text": [
      "/Users/nsimsiri/Documents/code/ml/MultiRes/student_life\n"
     ]
    },
    {
     "data": {
      "text/plain": [
       "<module 'src.utils.student_utils' from '/Users/nsimsiri/Documents/code/ml/MultiRes/student_life/src/utils/student_utils.py'>"
      ]
     },
     "execution_count": 11,
     "metadata": {},
     "output_type": "execute_result"
    }
   ],
   "source": [
    "import os \n",
    "import sys\n",
    "\n",
    "cwd = os.getcwd()\n",
    "module_path = os.path.abspath(os.path.join('..'))\n",
    "# sys.path.insert(0, os.path.join(cwd, \"../\"))\n",
    "# sys.path.insert(0, os.path.join(cwd, \"../student_life/\"))\n",
    "# sys.path.insert(0, os.path.join(cwd, \"../student_life/src/\"))\n",
    "print(module_path)\n",
    "sys.path.append(module_path)\n",
    "\n",
    "import copy\n",
    "import pickle as pk\n",
    "import importlib\n",
    "import src.utils.student_utils as student_utils\n",
    "\n",
    "import src.definitions as definitions\n",
    "from IPython.display import display\n",
    "from src.data_getter import student_life_var_binned_data_getter\n",
    "importlib.reload(student_life_var_binned_data_getter)\n",
    "importlib.reload(student_utils)\n"
   ]
  },
  {
   "cell_type": "code",
   "execution_count": 8,
   "metadata": {},
   "outputs": [],
   "source": [
    "pickle_path = '../data/training_data/student_life_pickle.pkl'"
   ]
  },
  {
   "cell_type": "code",
   "execution_count": 6,
   "metadata": {},
   "outputs": [],
   "source": [
    "data = student_life_var_binned_data_getter.get_data_for_pkl_file()\n",
    "\n",
    "outfile = open(pickle_path, 'wb')\n",
    "pickle.dump(data, outfile)\n",
    "outfile.close()"
   ]
  },
  {
   "cell_type": "code",
   "execution_count": 15,
   "metadata": {},
   "outputs": [
    {
     "name": "stdout",
     "output_type": "stream",
     "text": [
      "dict_keys(['35_3_29', '35_3_30', '35_3_31', '35_4_2', '35_4_3', '35_4_4', '35_4_5', '35_4_6', '35_4_9', '35_4_10', '35_4_11', '35_4_12', '35_4_13', '35_4_14', '35_4_15', '35_4_16', '35_4_18', '35_4_20', '35_4_21', '35_4_23', '35_4_29', '35_4_30', '35_5_2', '35_5_7', '35_5_8', '35_5_12', '35_5_19', '35_5_21', '35_5_22'])\n"
     ]
    }
   ],
   "source": [
    "print(data['data'].keys())"
   ]
  },
  {
   "cell_type": "code",
   "execution_count": 13,
   "metadata": {},
   "outputs": [
    {
     "name": "stdout",
     "output_type": "stream",
     "text": [
      "<class 'dict'>\n"
     ]
    }
   ],
   "source": [
    "with open(pickle_path, 'rb') as pickle_file:\n",
    "    data = pk.load(pickle_file)\n",
    "    print(type(data))"
   ]
  },
  {
   "cell_type": "code",
   "execution_count": 18,
   "metadata": {},
   "outputs": [
    {
     "name": "stdout",
     "output_type": "stream",
     "text": [
      "4\n",
      "dict_keys(['train_ids', 'val_ids', 'test_ids', 'data'])\n",
      "17\n",
      "5\n"
     ]
    }
   ],
   "source": [
    "print(len(data))\n",
    "print(data.keys())\n",
    "print(len(data['train_ids']))\n",
    "print(len(data['val_ids']))\n",
    "\n"
   ]
  },
  {
   "cell_type": "code",
   "execution_count": null,
   "metadata": {},
   "outputs": [],
   "source": []
  }
 ],
 "metadata": {
  "kernelspec": {
   "display_name": "Python 3.5",
   "language": "python",
   "name": "myenv"
  },
  "language_info": {
   "codemirror_mode": {
    "name": "ipython",
    "version": 3
   },
   "file_extension": ".py",
   "mimetype": "text/x-python",
   "name": "python",
   "nbconvert_exporter": "python",
   "pygments_lexer": "ipython3",
   "version": "3.6.0"
  }
 },
 "nbformat": 4,
 "nbformat_minor": 2
}
