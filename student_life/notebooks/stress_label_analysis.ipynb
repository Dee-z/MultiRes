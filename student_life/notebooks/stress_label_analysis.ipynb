{
 "cells": [
  {
   "cell_type": "code",
   "execution_count": 15,
   "metadata": {},
   "outputs": [],
   "source": [
    "import os\n",
    "import sys\n",
    "cwd = os.getcwd()\n",
    "module_path = os.path.abspath(os.path.join('..'))\n",
    "sys.path.insert(0, os.path.join(cwd, \"../\"))\n",
    "\n",
    "import pandas as pd\n",
    "from IPython.display import display\n",
    "\n",
    "from src.definitions import MINIMAL_PROCESSED_DATA_PATH, \\\n",
    "    FEATURE_CONFIG_FILE_PATH, STUDENT_FOLDER_NAME_PREFIX, BINNED_ON_VAR_FREQ_DATA_PATH\n",
    "from src.utils import student_utils\n",
    "from sklearn.cluster import KMeans\n",
    "\n",
    "available_students = student_utils.get_available_students(MINIMAL_PROCESSED_DATA_PATH)\n",
    "stress_details_file_name = \"stress_details.csv\"\n",
    "stress_details = pd.DataFrame()\n",
    "\n",
    "def array_count(array, element):\n",
    "    count = 0\n",
    "    \n",
    "    for e in array:\n",
    "        if e == element:\n",
    "            count+=1\n",
    "            \n",
    "    return count\n",
    "\n",
    "def stress_0(series):\n",
    "    return array_count(list(series.values), 0)\n",
    "\n",
    "def stress_1(series):\n",
    "    return array_count(list(series.values), 1)\n",
    "\n",
    "def stress_2(series):\n",
    "    return array_count(list(series.values), 2)\n",
    "\n",
    "def stress_3(series):\n",
    "    return array_count(list(series.values), 3)\n",
    "\n",
    "def stress_4(series):\n",
    "    return array_count(list(series.values), 4)\n",
    "\n",
    "aggregation_rule = {\n",
    "    'stress_level': [stress_0, stress_1, stress_2, stress_3, stress_4]\n",
    "    }"
   ]
  },
  {
   "cell_type": "code",
   "execution_count": 14,
   "metadata": {},
   "outputs": [
    {
     "name": "stderr",
     "output_type": "stream",
     "text": [
      "/home/abhinav/anaconda3/lib/python3.6/site-packages/ipykernel_launcher.py:14: FutureWarning: using a dict on a Series for aggregation\n",
      "is deprecated and will be removed in a future version\n",
      "  \n"
     ]
    },
    {
     "data": {
      "text/plain": [
       "stress_level_stress_0     117\n",
       "stress_level_stress_1     462\n",
       "stress_level_stress_2    1013\n",
       "stress_level_stress_3     320\n",
       "stress_level_stress_4     379\n",
       "cluster_                   63\n",
       "svg_stress_score_        7255\n",
       "dtype: int64"
      ]
     },
     "metadata": {},
     "output_type": "display_data"
    }
   ],
   "source": [
    "stress_details = pd.DataFrame()\n",
    "\n",
    "for student_id in available_students:       \n",
    "    stress_labels_data_path = os.path.join(MINIMAL_PROCESSED_DATA_PATH,\n",
    "                                     STUDENT_FOLDER_NAME_PREFIX + str(student_id),\n",
    "                                     stress_details_file_name)\n",
    "    stress_data = pd.read_csv(stress_labels_data_path, index_col=[0])\n",
    "    \n",
    "    \n",
    "    \n",
    "    stress_details = stress_details.append(stress_data, ignore_index=True)\n",
    "    \n",
    "\n",
    "stress_distribution = stress_details.groupby('student_id').stress_level.agg(aggregation_rule)\n",
    "kmeans = KMeans(n_clusters=3, random_state=0).fit(stress_distribution)\n",
    "stress_distribution['cluster'] = kmeans.predict(stress_distribution)\n",
    "stress_distribution['svg_stress_score'] = (stress_distribution[('stress_level', 'stress_0')] * 1 + \n",
    "                                          stress_distribution[('stress_level', 'stress_1')] * 2 + \n",
    "                                          stress_distribution[('stress_level', 'stress_2')] * 3 +\n",
    "                                          stress_distribution[('stress_level', 'stress_3')] * 4 + \n",
    "                                          stress_distribution[('stress_level', 'stress_4')] * 5  )\n",
    "\n",
    "\n",
    "stress_distribution.columns = ['_'.join(col).strip() if 'student_id' not in col else 'student_id'\n",
    "                               for col in stress_distribution.columns.values]\n",
    "\n",
    "# display(stress_distribution)\n",
    "display(stress_distribution.sum())\n",
    "\n",
    "stress_distribution.to_csv('../data/stress_distribution.csv')\n"
   ]
  },
  {
   "cell_type": "code",
   "execution_count": null,
   "metadata": {},
   "outputs": [],
   "source": []
  }
 ],
 "metadata": {
  "kernelspec": {
   "display_name": "Python 3",
   "language": "python",
   "name": "python3"
  },
  "language_info": {
   "codemirror_mode": {
    "name": "ipython",
    "version": 3
   },
   "file_extension": ".py",
   "mimetype": "text/x-python",
   "name": "python",
   "nbconvert_exporter": "python",
   "pygments_lexer": "ipython3",
   "version": "3.6.8"
  }
 },
 "nbformat": 4,
 "nbformat_minor": 2
}
