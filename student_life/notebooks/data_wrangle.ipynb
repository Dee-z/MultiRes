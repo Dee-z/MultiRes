{
 "cells": [
  {
   "cell_type": "code",
   "execution_count": 1,
   "metadata": {},
   "outputs": [],
   "source": [
    "# from ../../Physionet_rev\n",
    "\n",
    "import os\n",
    "import sys\n",
    "import numpy as np\n",
    "import pandas as pd\n",
    "import matplotlib.pyplot as plt\n",
    "import pickle\n",
    "\n",
    "module_path = os.path.abspath(os.path.join('..'))\n",
    "\n",
    "if module_path not in sys.path:\n",
    "    sys.path.append(module_path)\n",
    "\n",
    "from src import definitions\n",
    "import pprint\n",
    "pp = pprint.PrettyPrinter(indent=4)\n",
    "from IPython.display import display\n",
    "from src.utils import read_utils as reader\n",
    "from src.utils.read_utils import read_yaml\n",
    "from src.utils import student_utils\n",
    "from src.definitions import MINIMAL_PROCESSED_DATA_PATH, \\\n",
    "    FEATURE_CONFIG_FILE_PATH, STUDENT_FOLDER_NAME_PREFIX, BINNED_ON_VAR_FREQ_DATA_PATH\n",
    "from src.data_processing import helper\n",
    "\n"
   ]
  },
  {
   "cell_type": "code",
   "execution_count": 2,
   "metadata": {
    "scrolled": false
   },
   "outputs": [
    {
     "name": "stdout",
     "output_type": "stream",
     "text": [
      "[SID]: 46\n",
      "\t features\n",
      "\t covariates\n",
      "\t missing values\n",
      "\t deltas\n",
      "2736/27360\n",
      "5472/27360\n",
      "8208/27360\n",
      "10944/27360\n",
      "13680/27360\n",
      "16416/27360\n",
      "19152/27360\n",
      "21888/27360\n",
      "24624/27360\n",
      "27360/27360\n",
      "\t writing to /Users/nsimsiri/Documents/code/ml/MultiRes/student_life/src/../data/student_life_var_binned_data/student_46\n",
      "Processed for student_id: 46\n",
      "[SID]: 24\n",
      "\t features\n",
      "\t covariates\n",
      "\t missing values\n",
      "\t deltas\n",
      "2448/24480\n",
      "4896/24480\n",
      "7344/24480\n",
      "9792/24480\n",
      "12240/24480\n",
      "14688/24480\n",
      "17136/24480\n",
      "19584/24480\n",
      "22032/24480\n",
      "24480/24480\n",
      "\t writing to /Users/nsimsiri/Documents/code/ml/MultiRes/student_life/src/../data/student_life_var_binned_data/student_24\n",
      "Processed for student_id: 24\n",
      "[SID]: 49\n",
      "\t features\n",
      "\t covariates\n",
      "\t missing values\n",
      "\t deltas\n",
      "6192/61920\n",
      "12384/61920\n",
      "18576/61920\n",
      "24768/61920\n",
      "30960/61920\n",
      "37152/61920\n",
      "43344/61920\n",
      "49536/61920\n",
      "55728/61920\n",
      "61920/61920\n",
      "\t writing to /Users/nsimsiri/Documents/code/ml/MultiRes/student_life/src/../data/student_life_var_binned_data/student_49\n",
      "Processed for student_id: 49\n",
      "[SID]: 22\n",
      "\t features\n",
      "\t covariates\n",
      "\t missing values\n",
      "\t deltas\n",
      "3888/38880\n",
      "7776/38880\n",
      "11664/38880\n",
      "15552/38880\n",
      "19440/38880\n",
      "23328/38880\n",
      "27216/38880\n",
      "31104/38880\n",
      "34992/38880\n",
      "38880/38880\n",
      "\t writing to /Users/nsimsiri/Documents/code/ml/MultiRes/student_life/src/../data/student_life_var_binned_data/student_22\n",
      "Processed for student_id: 22\n",
      "[SID]: 7\n",
      "\t features\n",
      "\t covariates\n",
      "\t missing values\n",
      "\t deltas\n",
      "2160/21600\n",
      "4320/21600\n",
      "6480/21600\n",
      "8640/21600\n",
      "10800/21600\n",
      "12960/21600\n",
      "15120/21600\n",
      "17280/21600\n",
      "19440/21600\n",
      "21600/21600\n",
      "\t writing to /Users/nsimsiri/Documents/code/ml/MultiRes/student_life/src/../data/student_life_var_binned_data/student_7\n",
      "Processed for student_id: 7\n",
      "[SID]: 53\n",
      "\t features\n",
      "\t covariates\n",
      "\t missing values\n",
      "\t deltas\n",
      "3600/36000\n",
      "7200/36000\n",
      "10800/36000\n",
      "14400/36000\n",
      "18000/36000\n",
      "21600/36000\n",
      "25200/36000\n",
      "28800/36000\n",
      "32400/36000\n",
      "36000/36000\n",
      "\t writing to /Users/nsimsiri/Documents/code/ml/MultiRes/student_life/src/../data/student_life_var_binned_data/student_53\n",
      "Processed for student_id: 53\n"
     ]
    }
   ],
   "source": [
    "MAIN = True\n",
    "if (MAIN):\n",
    "    from src.data_processing.student_life_binned_aggregator import run\n",
    "    import src.data_processing.student_life_binned_aggregator\n",
    "    src.data_processing.student_life_binned_aggregator.run()"
   ]
  },
  {
   "cell_type": "code",
   "execution_count": 3,
   "metadata": {},
   "outputs": [
    {
     "name": "stderr",
     "output_type": "stream",
     "text": [
      "/Users/nsimsiri/anaconda2/envs/python3/lib/python3.6/site-packages/sklearn/metrics/classification.py:1143: UndefinedMetricWarning: Precision and F-score are ill-defined and being set to 0.0 in labels with no predicted samples.\n",
      "  'precision', 'predicted', average, warn_for)\n",
      "/Users/nsimsiri/anaconda2/envs/python3/lib/python3.6/site-packages/sklearn/metrics/classification.py:1145: UndefinedMetricWarning: Recall and F-score are ill-defined and being set to 0.0 in labels with no true samples.\n",
      "  'recall', 'true', average, warn_for)\n"
     ]
    }
   ],
   "source": [
    "from sklearn.metrics import precision_recall_fscore_support\n",
    "preds = [0, 3, 2, 3, 3]\n",
    "actual = [1, 2, 3, 3, 2]\n",
    "f1_arr = precision_recall_fscore_support(actual, preds, labels = [0,1,2,3,4])\n"
   ]
  },
  {
   "cell_type": "code",
   "execution_count": 4,
   "metadata": {},
   "outputs": [],
   "source": [
    "df_ = pd.DataFrame(list(f1_arr),columns = [0,1,2,3,4])"
   ]
  },
  {
   "cell_type": "code",
   "execution_count": 5,
   "metadata": {},
   "outputs": [
    {
     "name": "stdout",
     "output_type": "stream",
     "text": [
      "     0    1    2         3    4\n",
      "0  0.0  0.0  0.0  0.333333  0.0\n",
      "1  0.0  0.0  0.0  0.500000  0.0\n",
      "2  0.0  0.0  0.0  0.400000  0.0\n",
      "3  0.0  1.0  2.0  2.000000  0.0\n"
     ]
    }
   ],
   "source": [
    "print(df_)"
   ]
  },
  {
   "cell_type": "markdown",
   "metadata": {},
   "source": []
  }
 ],
 "metadata": {
  "kernelspec": {
   "display_name": "python3_6",
   "language": "python",
   "name": "python3_6"
  },
  "language_info": {
   "codemirror_mode": {
    "name": "ipython",
    "version": 3
   },
   "file_extension": ".py",
   "mimetype": "text/x-python",
   "name": "python",
   "nbconvert_exporter": "python",
   "pygments_lexer": "ipython3",
   "version": "3.6.0"
  }
 },
 "nbformat": 4,
 "nbformat_minor": 2
}
