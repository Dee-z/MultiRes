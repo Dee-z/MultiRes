{
 "cells": [
  {
   "cell_type": "code",
   "execution_count": 8,
   "metadata": {},
   "outputs": [],
   "source": [
    "# from ../../Physionet_rev\n",
    "\n",
    "import os\n",
    "import sys\n",
    "import numpy as np\n",
    "import matplotlib.pyplot as plt\n",
    "\n",
    "module_path = os.path.abspath(os.path.join('..'))\n",
    "\n",
    "if module_path not in sys.path:\n",
    "    sys.path.append(module_path)\n",
    "\n",
    "from src import definitions\n",
    "from IPython.display import display\n",
    "from src.utils import read_utils as reader\n",
    "from src.utils import student_utils\n",
    "from src.data_getter import student_life_var_binned_data_getter as sl_getter\n"
   ]
  },
  {
   "cell_type": "code",
   "execution_count": 4,
   "metadata": {},
   "outputs": [],
   "source": [
    "students = student_utils.get_available_students(definitions.BINNED_ON_VAR_FREQ_DATA_PATH)\n",
    "data = student_utils.get_var_binned_data_for_students(*students)\n",
    "students_data = data[0]\n",
    "\n"
   ]
  },
  {
   "cell_type": "code",
   "execution_count": 6,
   "metadata": {},
   "outputs": [
    {
     "name": "stdout",
     "output_type": "stream",
     "text": [
      "Index(['student_id', 'activity_inference_min', 'activity_inference_max',\n",
      "       'activity_inference_mode', 'audio_activity_inference_min',\n",
      "       'audio_activity_inference_max', 'audio_activity_inference_mode',\n",
      "       'conv_duration_min_sum', 'phonecharge_duration_min_sum',\n",
      "       'phonelock_duration_min_sum', 'dark_duration_min_sum',\n",
      "       'hours_slept_sum', 'sleep_rating_sum', 'latitude_mode',\n",
      "       'longitude_mode', 'stress_level_mode'],\n",
      "      dtype='object')\n"
     ]
    }
   ],
   "source": [
    "b = data[1]\n",
    "c = data[2]\n",
    "print(b.keys())"
   ]
  },
  {
   "cell_type": "code",
   "execution_count": 12,
   "metadata": {},
   "outputs": [],
   "source": [
    "ml_data = sl_getter.process_student_data(data, student_id=1)"
   ]
  },
  {
   "cell_type": "code",
   "execution_count": null,
   "metadata": {},
   "outputs": [],
   "source": [
    "printml_data"
   ]
  }
 ],
 "metadata": {
  "kernelspec": {
   "display_name": "Python 3.5",
   "language": "python",
   "name": "myenv"
  },
  "language_info": {
   "codemirror_mode": {
    "name": "ipython",
    "version": 3
   },
   "file_extension": ".py",
   "mimetype": "text/x-python",
   "name": "python",
   "nbconvert_exporter": "python",
   "pygments_lexer": "ipython3",
   "version": "3.5.6"
  }
 },
 "nbformat": 4,
 "nbformat_minor": 2
}
