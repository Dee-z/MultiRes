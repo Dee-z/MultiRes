{
 "cells": [
  {
   "cell_type": "code",
   "execution_count": 1,
   "metadata": {},
   "outputs": [
    {
     "name": "stdout",
     "output_type": "stream",
     "text": [
      "Student ID couldn't be converted to Integer!\n"
     ]
    }
   ],
   "source": [
    "import os\n",
    "import sys\n",
    "cwd = os.getcwd()\n",
    "module_path = os.path.abspath(os.path.join('..'))\n",
    "sys.path.insert(0, os.path.join(cwd, \"../\"))\n",
    "\n",
    "import pickle\n",
    "import torch\n",
    "import importlib\n",
    "import numpy as np\n",
    "import pandas as pd\n",
    "from collections import defaultdict\n",
    "import copy\n",
    "\n",
    "import src.bin.tensorify as tensorify\n",
    "import src.utils.data_conversion_utils as conversions\n",
    "import src.data_manager.student_life_var_binned_data_manager as data_manager\n",
    "import src.bin.trainer as trainer\n",
    "\n",
    "from sklearn.manifold import TSNE\n",
    "from sklearn import metrics\n",
    "import matplotlib\n",
    "import matplotlib.pyplot as plt\n",
    "\n",
    "from torch import nn\n",
    "from copy import copy\n",
    "from copy import deepcopy\n",
    "from src import definitions\n",
    "from src.bin import validations\n",
    "from src.bin import statistics\n",
    "from src.bin import plotting\n",
    "from src.utils.read_utils import read_pickle\n",
    "from src.utils import student_utils\n",
    "from src.data_manager import sub_sampler\n",
    "from src.data_manager import cross_val\n",
    "from src.data_manager import helper as data_manager_helper\n",
    "from tabulate import tabulate\n",
    "from src.models import autoencoder\n",
    "from src.models import multitask_learning\n",
    "from src.models import user_dense_heads\n",
    "\n",
    "from src.models.multitask_learning import multitask_autoencoder\n",
    "import warnings\n",
    "warnings.filterwarnings('ignore')\n",
    "\n",
    "\n",
    "%matplotlib inline"
   ]
  },
  {
   "cell_type": "code",
   "execution_count": 2,
   "metadata": {},
   "outputs": [
    {
     "name": "stdout",
     "output_type": "stream",
     "text": [
      "/Users/nsimsiri/Documents/code/ml/MultiRes/student_life\n",
      "/Users/nsimsiri/Documents/code/ml/MultiRes/student_life/data/best_ae_multi_task_model.tar\n"
     ]
    }
   ],
   "source": [
    "print(module_path)\n",
    "data_path = \"{}/data\".format(module_path)\n",
    "ae_model_path = \"{}/best_ae_multi_task_model.tar\".format(data_path)\n",
    "print(ae_model_path)"
   ]
  },
  {
   "cell_type": "code",
   "execution_count": null,
   "metadata": {},
   "outputs": [],
   "source": [
    "student_list = ['student_7', 'student_46', 'student_33', 'student_22', 'student_1', \n",
    "                'student_24', 'student_53', 'student_4', 'student_57', 'student_42', \n",
    "                'student_2', 'student_49', 'student_10']\n",
    "\n",
    "num_features = 9\n",
    "autencoder_bottle_neck_feature_size = 128\n",
    "autoencoder_num_layers = 1\n",
    "shared_hidden_layer_size = 256\n",
    "user_dense_layer_hidden_size = 64\n",
    "num_classes = 3\n",
    "num_covariates = 4\n",
    "shared_layer_dropout_prob = 0.0\n",
    "user_head_dropout_prob = 0.0"
   ]
  },
  {
   "cell_type": "code",
   "execution_count": null,
   "metadata": {},
   "outputs": [],
   "source": [
    "model = multitask_autoencoder.MultiTaskAutoEncoderLearner(\n",
    "                               student_list,\n",
    "                               num_features,\n",
    "                               autencoder_bottle_neck_feature_size,\n",
    "                               autoencoder_num_layers,\n",
    "                               shared_hidden_layer_size,\n",
    "                               user_dense_layer_hidden_size,\n",
    "                               num_classes,\n",
    "                               num_covariates,\n",
    "                               shared_layer_dropout_prob,\n",
    "                               user_head_dropout_prob)\n",
    "\n"
   ]
  },
  {
   "cell_type": "code",
   "execution_count": null,
   "metadata": {},
   "outputs": [],
   "source": [
    "state_dict = torch.load(ae_model_path, map_location='cpu')\n",
    "print(len(state_dict))"
   ]
  },
  {
   "cell_type": "code",
   "execution_count": null,
   "metadata": {},
   "outputs": [],
   "source": [
    "model.load_state_dict(state_dict)\n"
   ]
  },
  {
   "cell_type": "markdown",
   "metadata": {},
   "source": [
    "### Interpreting Heads"
   ]
  },
  {
   "cell_type": "code",
   "execution_count": null,
   "metadata": {},
   "outputs": [],
   "source": [
    "dense_layer_dict = model.user_heads.student_dense_layer\n",
    "print(dense_layer_dict['student_1'])\n",
    "s2w = defaultdict(dict)\n",
    "print(len(dense_layer_dict))\n",
    "for student,seq in dense_layer_dict.items():\n",
    "    for k,v in seq.state_dict().items():\n",
    "        if 'weight' in k:\n",
    "            s2w[student][k] = v\n",
    "\n",
    "print(s2w.keys())\n",
    "# print(s2w['student_1'])"
   ]
  },
  {
   "cell_type": "code",
   "execution_count": null,
   "metadata": {},
   "outputs": [],
   "source": [
    "tsne = TSNE(n_components=2, perplexity=10, n_iter=300)\n",
    "\n",
    "w0_raw = []\n",
    "w3_raw = []\n",
    "\n",
    "s1 = []\n",
    "s2 = []\n",
    "s3 = []\n",
    "\n",
    "w_cat = []\n",
    "\n",
    "for student, weight_dict in s2w.items():\n",
    "    w_keys = list(weight_dict.keys())\n",
    "    _w0t = weight_dict[w_keys[0]]\n",
    "    _w0 = _w0t.reshape((1, -1)).numpy()\n",
    "    w0_raw.append(_w0)\n",
    "    \n",
    "    _w3t = weight_dict[w_keys[1]]\n",
    "    _w3  = _w3t.reshape((1, -1)).numpy()\n",
    "    w3_raw.append(_w3)\n",
    "    \n",
    "    w_label = weight_dict[w_keys[1]].numpy()\n",
    "    s1.append(w_label[0].reshape(1, -1))\n",
    "    s2.append(w_label[1].reshape(1, -1))\n",
    "    s3.append(w_label[2].reshape(1, -1))\n",
    "\n",
    "    _w_cat = np.concatenate([_w0, _w3], axis=1)\n",
    "    w_cat.append(_w_cat)\n",
    "      \n",
    "w0 = np.concatenate(w0_raw, axis=0)\n",
    "w3 = np.concatenate(w3_raw, axis=0)\n",
    "\n",
    "s1_cat = np.concatenate(s1, axis=0)\n",
    "s2_cat = np.concatenate(s2, axis=0)\n",
    "s3_cat = np.concatenate(s3, axis=0)\n",
    "\n",
    "w_cat_cat = np.concatenate(w_cat, axis=0)\n",
    "\n",
    "# print(w0.shape)\n",
    "# print(w3.shape)\n",
    "# print(s1_cat.shape, s2_cat.shape, s3_cat.shape)\n",
    "tsne_0 = tsne.fit_transform(w0)\n",
    "tsne_3 = tsne.fit_transform(w3)\n",
    "\n",
    "tsne_s1 = tsne.fit_transform(s1_cat)\n",
    "tsne_s2 = tsne.fit_transform(s2_cat)\n",
    "tsne_s3 = tsne.fit_transform(s3_cat)\n",
    "\n",
    "tsne_cat = tsne.fit_transform(w_cat_cat)\n",
    "\n",
    "\n",
    "print(tsne_s1.shape)\n",
    "print(tsne_0.shape)\n",
    "print(tsne_3.shape)\n",
    "print(tsne_cat.shape)"
   ]
  },
  {
   "cell_type": "code",
   "execution_count": null,
   "metadata": {},
   "outputs": [],
   "source": [
    "def plot_tsne_stress(s_arr):\n",
    "    fig,ax =  plt.subplots(figsize=(4,4))\n",
    "    groups = ['low', 'medium', 'high']\n",
    "    for i, tsne_xy  in enumerate(s_arr):\n",
    "        X = tsne_xy[:,0]\n",
    "        y = tsne_xy[:,1]\n",
    "        cmap = matplotlib.cm.get_cmap('prism')\n",
    "        ax.scatter(X,y, color=['yellow','orange','red'][i], alpha = 0.7, label=groups[i])\n",
    "    ax.set_yticklabels([])\n",
    "    ax.set_xticklabels([])\n",
    "    plt.title(\"t-SNE stress classifier's weights\")\n",
    "    plt.legend()\n",
    "    plt.show()\n",
    "    \n",
    "plot_tsne_stress([tsne_s1, tsne_s2, tsne_s3])"
   ]
  },
  {
   "cell_type": "code",
   "execution_count": null,
   "metadata": {},
   "outputs": [],
   "source": [
    "def plot_tsne_basic(tsne_xy, title):\n",
    "    X = tsne_xy[:,0]\n",
    "    y = tsne_xy[:,1]\n",
    "    fig,ax =  plt.subplots(figsize=(4,4))\n",
    "    cmap = matplotlib.cm.get_cmap('prism')\n",
    "    ax.scatter(X,y, color=cmap(4), alpha = 0.7, label='layer_1')\n",
    "    ax.set_yticklabels([])\n",
    "    ax.set_xticklabels([])\n",
    "    plt.title(title)\n",
    "    plt.show()\n",
    "plot_tsne_basic(tsne_0, 't-SNE personal head, linear layer (128, 64)')\n",
    "plot_tsne_basic(tsne_3, 't-SNE personal head, classification layer (64, 3)')\n",
    "plot_tsne_basic(tsne_cat, 't-SNE personal head, all layers')\n",
    "# cmap = matplotlib.cm.get_cmap('prism')\n",
    "# print(cmap(5))"
   ]
  },
  {
   "cell_type": "code",
   "execution_count": null,
   "metadata": {},
   "outputs": [],
   "source": []
  },
  {
   "cell_type": "code",
   "execution_count": null,
   "metadata": {},
   "outputs": [],
   "source": [
    "def PlotScatter(tsne_results, name, TrainDS, KE, MultiLabel = False, Legend=True):\n",
    "    Groups = []\n",
    "    for (i, kin) in enumerate(TrainDS.Kinases):\n",
    "        if MultiLabel:\n",
    "            # Just use the first group label as they are few and it won't make any difference in the visualization\n",
    "            kinase = kin[0]\n",
    "        else:\n",
    "            kinase = kin\n",
    "        Groups.append(np.argmax(KE.UniProtID_to_GroupVec[kinase.UniprotID]))\n",
    "    Groups = np.array(Groups)\n",
    "    Group_names = np.array(['low', 'medium', 'high'])\n",
    "    fig,ax =  plt.subplots(figsize=(8,8))\n",
    "    cmap = matplotlib.cm.get_cmap('prism')\n",
    "    scatters = []\n",
    "    for i in range(10):\n",
    "        scatters.append(ax.scatter(tsne_results[Groups==i,0], tsne_results[Groups==i,1], color=cmap(i/9), alpha = 0.7, label= Group_names[i]))\n",
    "    if Legend:\n",
    "        plt.legend(bbox_to_anchor=(1, 1), loc=2,\n",
    "               ncol=1, borderaxespad=0.)\n",
    "        \n",
    "    ax.set_yticklabels([])\n",
    "    ax.set_xticklabels([])\n",
    "    plt.show()\n",
    "    fig.savefig(name, bbox_inches='tight')"
   ]
  },
  {
   "cell_type": "code",
   "execution_count": null,
   "metadata": {},
   "outputs": [],
   "source": [
    "a = np.zeros((3,3))\n",
    "print(a)\n",
    "b = np.random.random((2,3))\n",
    "print(b.resize((3,3)))\n",
    "print(b)"
   ]
  },
  {
   "cell_type": "code",
   "execution_count": null,
   "metadata": {},
   "outputs": [],
   "source": []
  }
 ],
 "metadata": {
  "kernelspec": {
   "display_name": "python3_6",
   "language": "python",
   "name": "python3_6"
  },
  "language_info": {
   "codemirror_mode": {
    "name": "ipython",
    "version": 3
   },
   "file_extension": ".py",
   "mimetype": "text/x-python",
   "name": "python",
   "nbconvert_exporter": "python",
   "pygments_lexer": "ipython3",
   "version": "3.6.0"
  }
 },
 "nbformat": 4,
 "nbformat_minor": 2
}
