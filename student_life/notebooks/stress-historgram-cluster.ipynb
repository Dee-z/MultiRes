{
 "cells": [
  {
   "cell_type": "code",
   "execution_count": 20,
   "metadata": {},
   "outputs": [],
   "source": [
    "# from ../../Physionet_rev\n",
    "\n",
    "import os\n",
    "import sys\n",
    "import numpy as np\n",
    "import pandas as pd\n",
    "import matplotlib.pyplot as plt\n",
    "\n",
    "module_path = os.path.abspath(os.path.join('..'))\n",
    "\n",
    "if module_path not in sys.path:\n",
    "    sys.path.append(module_path)\n",
    "\n",
    "from src import definitions\n",
    "import pprint\n",
    "pp = pprint.PrettyPrinter(indent=4)\n",
    "from IPython.display import display\n",
    "from src.utils import read_utils as reader\n",
    "from src.utils.read_utils import read_yaml\n",
    "from src.utils import student_utils\n",
    "from src.data_getter import student_life_var_binned_data_getter as sl_getter\n",
    "from src.definitions import MINIMAL_PROCESSED_DATA_PATH, \\\n",
    "    FEATURE_CONFIG_FILE_PATH, STUDENT_FOLDER_NAME_PREFIX, BINNED_ON_VAR_FREQ_DATA_PATH\n",
    "from src.data_processing import helper\n",
    "\n",
    "import sklearn\n",
    "from sklearn import cluster as CL\n",
    "from sklearn.decomposition import PCA\n"
   ]
  },
  {
   "cell_type": "code",
   "execution_count": 2,
   "metadata": {},
   "outputs": [
    {
     "name": "stdout",
     "output_type": "stream",
     "text": [
      "/Users/nsimsiri/Documents/code/ml/MultiRes/student_life/data -- True\n",
      "/Users/nsimsiri/Documents/code/ml/MultiRes/student_life/data/stress_distribution.csv -- True\n"
     ]
    }
   ],
   "source": [
    "data_path = module_path + \"/data\"\n",
    "print(data_path + \" -- \" + str(os.path.exists(data_path)))\n",
    "stress_csv_data_path = data_path + \"/stress_distribution.csv\"\n",
    "print(stress_csv_data_path + \" -- \" + str(os.path.exists(stress_csv_data_path)))"
   ]
  },
  {
   "cell_type": "code",
   "execution_count": 3,
   "metadata": {},
   "outputs": [
    {
     "name": "stdout",
     "output_type": "stream",
     "text": [
      "['student_id', 'stress_level_stress_0', 'stress_level_stress_1', 'stress_level_stress_2', 'stress_level_stress_3', 'stress_level_stress_4', 'cluster_', 'svg_stress_score_']\n"
     ]
    }
   ],
   "source": [
    "data = None\n",
    "with open(stress_csv_data_path, 'rb') as data_file:\n",
    "    data = pd.read_csv(data_file)\n",
    "print(list(data))"
   ]
  },
  {
   "cell_type": "code",
   "execution_count": 4,
   "metadata": {},
   "outputs": [
    {
     "name": "stdout",
     "output_type": "stream",
     "text": [
      "stress_level_stress_0      6\n",
      "stress_level_stress_1     27\n",
      "stress_level_stress_2     48\n",
      "stress_level_stress_3      9\n",
      "stress_level_stress_4     18\n",
      "svg_stress_score_        330\n",
      "Name: 0, dtype: int64\n",
      "46\n"
     ]
    }
   ],
   "source": [
    "X = data[['stress_level_stress_0', 'stress_level_stress_1',\n",
    "             'stress_level_stress_2', 'stress_level_stress_3',\n",
    "             'stress_level_stress_4', 'svg_stress_score_']]\n",
    "print(X.iloc[0])\n",
    "print(len(X))"
   ]
  },
  {
   "cell_type": "code",
   "execution_count": 17,
   "metadata": {},
   "outputs": [],
   "source": [
    "K = 5\n",
    "def cluster(estimator, data):\n",
    "    reduced_data = PCA(n_components=2).fit_transform(data)\n",
    "    print(estimator)\n",
    "    print()\n",
    "\n",
    "    estimator.fit(X)\n",
    "    centroids = estimator.cluster_centers_\n",
    "    labels = estimator.labels_\n",
    "    \n",
    "    return centroids, labels"
   ]
  },
  {
   "cell_type": "code",
   "execution_count": null,
   "metadata": {},
   "outputs": [],
   "source": []
  },
  {
   "cell_type": "code",
   "execution_count": 19,
   "metadata": {},
   "outputs": [
    {
     "name": "stdout",
     "output_type": "stream",
     "text": [
      "KMeans(algorithm='auto', copy_x=True, init='k-means++', max_iter=300,\n",
      "    n_clusters=5, n_init=5, n_jobs=None, precompute_distances='auto',\n",
      "    random_state=None, tol=0.0001, verbose=0)\n",
      "\n",
      "[[ 7.75000000e+00  2.80000000e+01  6.72500000e+01  3.12500000e+01\n",
      "   3.55000000e+01  5.68000000e+02 -2.22044605e-16]\n",
      " [ 4.60000000e+00  1.04000000e+01  2.36000000e+01  7.20000000e+00\n",
      "   7.20000000e+00  1.61000000e+02  1.00000000e+00]\n",
      " [ 6.00000000e+01  2.67000000e+02  3.99000000e+02  2.10000000e+01\n",
      "   6.00000000e+01  2.17500000e+03  2.00000000e+00]\n",
      " [ 4.50000000e+00  4.85000000e+01  1.35000000e+02  4.80000000e+01\n",
      "   5.85000000e+01  9.91000000e+02  3.00000000e+00]\n",
      " [ 8.50000000e+00  2.80000000e+01  5.57500000e+01  1.40000000e+01\n",
      "   1.60000000e+01  3.67750000e+02  4.00000000e+00]]\n",
      "[4 4 0 1 4 3 1 3 4 0 1 3 0 1 3 1 0 4 0 1 4 4 1 0 0 1 4 0 1 1 4 3 3 1 4 1 0\n",
      " 1 0 4 4 1 1 0 0 2]\n",
      "stress_level_stress_0      6\n",
      "stress_level_stress_1     27\n",
      "stress_level_stress_2     48\n",
      "stress_level_stress_3      9\n",
      "stress_level_stress_4     18\n",
      "svg_stress_score_        330\n",
      "hist_cluster               4\n",
      "Name: 0, dtype: int64\n"
     ]
    },
    {
     "name": "stderr",
     "output_type": "stream",
     "text": [
      "/Users/nsimsiri/anaconda2/envs/python3/lib/python3.6/site-packages/ipykernel_launcher.py:5: SettingWithCopyWarning: \n",
      "A value is trying to be set on a copy of a slice from a DataFrame.\n",
      "Try using .loc[row_indexer,col_indexer] = value instead\n",
      "\n",
      "See the caveats in the documentation: http://pandas.pydata.org/pandas-docs/stable/indexing.html#indexing-view-versus-copy\n",
      "  \"\"\"\n"
     ]
    }
   ],
   "source": [
    "K = 5\n",
    "cen, clus = cluster(CL.KMeans(init=\"k-means++\", n_clusters=K, n_init=K), data)\n",
    "print(cen)\n",
    "print(clus)\n",
    "X['hist_cluster'] = list(clus)\n",
    "print(X.iloc[0])y"
   ]
  },
  {
   "cell_type": "code",
   "execution_count": 34,
   "metadata": {},
   "outputs": [
    {
     "name": "stdout",
     "output_type": "stream",
     "text": [
      "{4: [0, 1, 4, 8, 17, 20, 21, 26, 30, 34, 39, 40], 0: [2, 9, 12, 16, 18, 23, 24, 27, 36, 38, 43, 44], 1: [3, 6, 10, 13, 15, 19, 22, 25, 28, 29, 33, 35, 37, 41, 42], 3: [5, 7, 11, 14, 31, 32], 2: [45]}\n"
     ]
    },
    {
     "data": {
      "text/plain": [
       "OrderedDict([(0, [2, 9, 12, 16, 18, 23, 24, 27, 36, 38, 43, 44]),\n",
       "             (1, [3, 6, 10, 13, 15, 19, 22, 25, 28, 29, 33, 35, 37, 41, 42]),\n",
       "             (2, [45]),\n",
       "             (3, [5, 7, 11, 14, 31, 32]),\n",
       "             (4, [0, 1, 4, 8, 17, 20, 21, 26, 30, 34, 39, 40])])"
      ]
     },
     "execution_count": 34,
     "metadata": {},
     "output_type": "execute_result"
    }
   ],
   "source": [
    "d = {}\n",
    "for i, x in enumerate(clus):\n",
    "    if x in d: d[x]+=[i]\n",
    "    else: d[x] = [i]\n",
    "print(d)\n",
    "import collections\n",
    "collections.OrderedDict(sorted(d.items()))"
   ]
  },
  {
   "cell_type": "code",
   "execution_count": 37,
   "metadata": {},
   "outputs": [
    {
     "name": "stdout",
     "output_type": "stream",
     "text": [
      "[2, 2, 2, 2, 2, 0, 2, 0, 2, 2, 2, 0, 2, 2, 0, 2, 0, 0, 2, 2, 2, 2, 2, 0, 2, 2, 2, 0, 2, 2, 2, 0, 0, 2, 2, 2, 2, 2, 0, 2, 0, 2, 2, 0, 0, 1]\n",
      "{2: [0, 1, 2, 3, 4, 6, 8, 9, 10, 12, 13, 15, 18, 19, 20, 21, 22, 24, 25, 26, 28, 29, 30, 33, 34, 35, 36, 37, 39, 41, 42], 0: [5, 7, 11, 14, 16, 17, 23, 27, 31, 32, 38, 40, 43, 44], 1: [45]}\n",
      "OrderedDict([   (0, [5, 7, 11, 14, 16, 17, 23, 27, 31, 32, 38, 40, 43, 44]),\n",
      "                (1, [45]),\n",
      "                (   2,\n",
      "                    [   0,\n",
      "                        1,\n",
      "                        2,\n",
      "                        3,\n",
      "                        4,\n",
      "                        6,\n",
      "                        8,\n",
      "                        9,\n",
      "                        10,\n",
      "                        12,\n",
      "                        13,\n",
      "                        15,\n",
      "                        18,\n",
      "                        19,\n",
      "                        20,\n",
      "                        21,\n",
      "                        22,\n",
      "                        24,\n",
      "                        25,\n",
      "                        26,\n",
      "                        28,\n",
      "                        29,\n",
      "                        30,\n",
      "                        33,\n",
      "                        34,\n",
      "                        35,\n",
      "                        36,\n",
      "                        37,\n",
      "                        39,\n",
      "                        41,\n",
      "                        42])])\n"
     ]
    }
   ],
   "source": [
    "ori = list(data['cluster_'])\n",
    "# print(ori)\n",
    "print(ori)\n",
    "d = {}\n",
    "for i, x in enumerate(ori):\n",
    "    if x in d: d[x]+=[i]\n",
    "    else: d[x] = [i]\n",
    "print(d)\n",
    "import collections\n",
    "pp.pprint(collections.OrderedDict(sorted(d.items())))"
   ]
  },
  {
   "cell_type": "code",
   "execution_count": null,
   "metadata": {},
   "outputs": [],
   "source": [
    "# OrderedDict([(0, 14), (1, 1), (2, 31)])\n",
    "# OrderedDict([(0, 12), (1, 15), (2, 1), (3, 6), (4, 12)])"
   ]
  }
 ],
 "metadata": {
  "kernelspec": {
   "display_name": "python3_6",
   "language": "python",
   "name": "python3_6"
  },
  "language_info": {
   "codemirror_mode": {
    "name": "ipython",
    "version": 3
   },
   "file_extension": ".py",
   "mimetype": "text/x-python",
   "name": "python",
   "nbconvert_exporter": "python",
   "pygments_lexer": "ipython3",
   "version": "3.6.0"
  }
 },
 "nbformat": 4,
 "nbformat_minor": 2
}
