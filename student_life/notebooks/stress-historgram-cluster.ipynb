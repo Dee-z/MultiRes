{
 "cells": [
  {
   "cell_type": "code",
   "execution_count": 34,
   "metadata": {},
   "outputs": [],
   "source": [
    "# from ../../Physionet_rev\n",
    "\n",
    "import os\n",
    "import sys\n",
    "import numpy as np\n",
    "import pandas as pd\n",
    "import matplotlib.pyplot as plt\n",
    "\n",
    "module_path = os.path.abspath(os.path.join('..'))\n",
    "\n",
    "if module_path not in sys.path:\n",
    "    sys.path.append(module_path)\n",
    "\n",
    "from src import definitions\n",
    "import pprint\n",
    "pp = pprint.PrettyPrinter(indent=4)\n",
    "from IPython.display import display\n",
    "from src.utils import read_utils as reader\n",
    "from src.utils.read_utils import read_yaml\n",
    "from src.utils import student_utils\n",
    "from src.data_processing import helper\n"
   ]
  },
  {
   "cell_type": "code",
   "execution_count": 3,
   "metadata": {},
   "outputs": [
    {
     "name": "stdout",
     "output_type": "stream",
     "text": [
      "/Users/nsimsiri/Documents/code/ml/MultiRes/student_life/data -- True\n",
      "/Users/nsimsiri/Documents/code/ml/MultiRes/student_life/data/stress_distribution.csv -- True\n"
     ]
    }
   ],
   "source": [
    "data_path = module_path + \"/data\"\n",
    "print(data_path + \" -- \" + str(os.path.exists(data_path)))\n",
    "stress_csv_data_path = data_path + \"/stress_distribution.csv\"\n",
    "print(stress_csv_data_path + \" -- \" + str(os.path.exists(stress_csv_data_path)))"
   ]
  },
  {
   "cell_type": "code",
   "execution_count": 4,
   "metadata": {},
   "outputs": [
    {
     "name": "stdout",
     "output_type": "stream",
     "text": [
      "['student_id', 'stress_level_stress_0', 'stress_level_stress_1', 'stress_level_stress_2', 'stress_level_stress_3', 'stress_level_stress_4', 'cluster_', 'svg_stress_score_']\n"
     ]
    }
   ],
   "source": [
    "data = None\n",
    "with open(stress_csv_data_path, 'rb') as data_file:\n",
    "    data = pd.read_csv(data_file)\n",
    "    print(list(data))"
   ]
  },
  {
   "cell_type": "code",
   "execution_count": 5,
   "metadata": {},
   "outputs": [
    {
     "name": "stdout",
     "output_type": "stream",
     "text": [
      "stress_level_stress_0      6\n",
      "stress_level_stress_1     27\n",
      "stress_level_stress_2     48\n",
      "stress_level_stress_3      9\n",
      "stress_level_stress_4     18\n",
      "svg_stress_score_        330\n",
      "Name: 0, dtype: int64\n",
      "46\n"
     ]
    }
   ],
   "source": [
    "X = data[['stress_level_stress_0', 'stress_level_stress_1',\n",
    "             'stress_level_stress_2', 'stress_level_stress_3',\n",
    "             'stress_level_stress_4', 'svg_stress_score_']]\n",
    "print(X.iloc[0])\n",
    "print(len(X))"
   ]
  },
  {
   "cell_type": "code",
   "execution_count": 33,
   "metadata": {},
   "outputs": [
    {
     "name": "stdout",
     "output_type": "stream",
     "text": [
      "[3.05555556 3.25714286 3.59574468 2.07692308 2.47457627 3.75789474\n",
      " 3.25       2.83928571 3.2        4.3902439  3.25       3.66071429\n",
      " 4.06382979 3.3        3.66666667 3.26666667 2.83606557 2.97959184\n",
      " 3.58333333 3.16       3.5        2.62857143 3.11764706 2.65753425\n",
      " 3.38095238 2.90909091 2.72727273 3.41935484 3.33333333 4.33333333\n",
      " 2.78947368 3.34146341 2.94565217 2.12121212 3.42105263 3.33333333\n",
      " 2.56060606 3.55555556 3.51020408 3.06382979 3.39534884 3.16\n",
      " 2.6        3.32835821 3.70909091 2.69516729]\n",
      "stress_level_stress_0      6\n",
      "stress_level_stress_1     27\n",
      "stress_level_stress_2     48\n",
      "stress_level_stress_3      9\n",
      "stress_level_stress_4     18\n",
      "svg_stress_score_        330\n",
      "hist_cluster               0\n",
      "Name: 0, dtype: int64\n"
     ]
    }
   ],
   "source": [
    "K = 5\n",
    "def cluster(estimator, data):\n",
    "    reduced_data = PCA(n_components=2).fit_transform(data)\n",
    "    print(estimator)\n",
    "    print()\n",
    "\n",
    "    estimator.fit(X)\n",
    "    centroids = estimator.cluster_centers_\n",
    "    labels = estimator.labels_\n",
    "    \n",
    "    return centroids, label\n",
    "\n",
    "def stress_weight_mean(stress_dist, N=5):\n",
    "    out = np.sum([stress_dist['stress_level_stress_{}'.format(i)]*(i+1) for i in range(N)], axis=0)\n",
    "    total = np.sum([stress_dist['stress_level_stress_{}'.format(i)] for i in range(N)], axis=0)\n",
    "    return out/total\n",
    "\n",
    "print(stress_weight_mean(X))\n",
    "print(X.loc[0])"
   ]
  },
  {
   "cell_type": "code",
   "execution_count": 23,
   "metadata": {},
   "outputs": [
    {
     "name": "stdout",
     "output_type": "stream",
     "text": [
      "KMeans(algorithm='auto', copy_x=True, init='k-means++', max_iter=300,\n",
      "    n_clusters=5, n_init=5, n_jobs=None, precompute_distances='auto',\n",
      "    random_state=None, tol=0.0001, verbose=0)\n",
      "\n",
      "[0 0 2 4 0 3 4 3 0 2 4 3 2 4 3 4 2 0 2 4 0 0 4 2 2 4 0 2 4 4 0 3 3 4 0 4 2\n",
      " 4 2 0 0 4 4 2 2 1]\n",
      "stress_level_stress_0      0\n",
      "stress_level_stress_1      9\n",
      "stress_level_stress_2     87\n",
      "stress_level_stress_3      6\n",
      "stress_level_stress_4     27\n",
      "svg_stress_score_        438\n",
      "hist_cluster               0\n",
      "Name: 40, dtype: int64\n",
      "[ 6  3  0  6 18  6  0  9  3  0  0  0  0  0  3  0 12  0  3  0  0  9  3  3\n",
      "  3  0 15  0  0  0 15  3  6 36  6  0 48  0  0 27  0  0 24  9 15 60]\n"
     ]
    },
    {
     "name": "stderr",
     "output_type": "stream",
     "text": [
      "/Users/nsimsiri/anaconda2/envs/python3/lib/python3.6/site-packages/ipykernel_launcher.py:6: SettingWithCopyWarning: \n",
      "A value is trying to be set on a copy of a slice from a DataFrame.\n",
      "Try using .loc[row_indexer,col_indexer] = value instead\n",
      "\n",
      "See the caveats in the documentation: http://pandas.pydata.org/pandas-docs/stable/indexing.html#indexing-view-versus-copy\n",
      "  \n"
     ]
    }
   ],
   "source": [
    "K = 5\n",
    "sid = 40\n",
    "cen, clus = cluster(CL.KMeans(init=\"k-means++\", n_clusters=K, n_init=K), data)\n",
    "# print(cen)\n",
    "print(clus)\n",
    "X['hist_cluster'] = list(clus)\n",
    "\n",
    "print(X.iloc[sid])\n",
    "print(X['stress_level_stress_0'].values)"
   ]
  },
  {
   "cell_type": "code",
   "execution_count": null,
   "metadata": {},
   "outputs": [],
   "source": [
    "d = {}\n",
    "for i, x in enumerate(clus):\n",
    "    if x in d: d[x]+=[i]\n",
    "    else: d[x] = [i]\n",
    "print(d)\n",
    "import collections\n",
    "collections.OrderedDict(sorted(d.items()))"
   ]
  },
  {
   "cell_type": "code",
   "execution_count": null,
   "metadata": {},
   "outputs": [],
   "source": [
    "ori = list(data['cluster_'])\n",
    "# print(ori)\n",
    "print(ori)\n",
    "d = {}\n",
    "for i, x in enumerate(ori):\n",
    "    if x in d: d[x]+=[i]\n",
    "    else: d[x] = [i]\n",
    "print(d)\n",
    "import collections\n",
    "pp.pprint(collections.OrderedDict(sorted(d.items())))"
   ]
  },
  {
   "cell_type": "code",
   "execution_count": null,
   "metadata": {},
   "outputs": [],
   "source": [
    "# OrderedDict([(0, 14), (1, 1), (2, 31)])\n",
    "# OrderedDict([(0, 12), (1, 15), (2, 1), (3, 6), (4, 12)])"
   ]
  }
 ],
 "metadata": {
  "kernelspec": {
   "display_name": "python3_6",
   "language": "python",
   "name": "python3_6"
  },
  "language_info": {
   "codemirror_mode": {
    "name": "ipython",
    "version": 3
   },
   "file_extension": ".py",
   "mimetype": "text/x-python",
   "name": "python",
   "nbconvert_exporter": "python",
   "pygments_lexer": "ipython3",
   "version": "3.6.0"
  }
 },
 "nbformat": 4,
 "nbformat_minor": 2
}
