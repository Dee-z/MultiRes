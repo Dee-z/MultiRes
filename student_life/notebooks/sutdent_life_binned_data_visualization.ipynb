{
 "cells": [
  {
   "cell_type": "code",
   "execution_count": 1,
   "metadata": {},
   "outputs": [],
   "source": [
    "import os\n",
    "import sys\n",
    "import numpy as np\n",
    "import matplotlib.pyplot as plt\n",
    "\n",
    "module_path = os.path.abspath(os.path.join('..'))\n",
    "\n",
    "if module_path not in sys.path:\n",
    "    sys.path.append(module_path)\n",
    "\n",
    "from src import definitions\n",
    "from IPython.display import display\n",
    "from src.utils import read_utils as reader\n",
    "from src.utils import student_utils"
   ]
  },
  {
   "cell_type": "code",
   "execution_count": 2,
   "metadata": {},
   "outputs": [],
   "source": [
    "students = student_utils.get_available_students(definitions.BINNED_ON_VAR_FREQ_DATA_PATH)\n",
    "data = student_utils.get_var_binned_data_for_students(*students)\n",
    "students_data = data[0]\n"
   ]
  },
  {
   "cell_type": "code",
   "execution_count": 4,
   "metadata": {},
   "outputs": [
    {
     "name": "stdout",
     "output_type": "stream",
     "text": [
      "<class 'pandas.core.frame.DataFrame'>\n",
      "Index(['student_id', 'activity_inference_min', 'activity_inference_max',\n",
      "       'activity_inference_mode', 'audio_activity_inference_min',\n",
      "       'audio_activity_inference_max', 'audio_activity_inference_mode',\n",
      "       'conv_duration_min_sum', 'phonecharge_duration_min_sum',\n",
      "       'phonelock_duration_min_sum', 'dark_duration_min_sum',\n",
      "       'hours_slept_sum', 'sleep_rating_sum', 'latitude_mode',\n",
      "       'longitude_mode', 'stress_level_mode'],\n",
      "      dtype='object')\n"
     ]
    }
   ],
   "source": [
    "print(type(students_data))\n",
    "print(students_data.keys())"
   ]
  },
  {
   "cell_type": "code",
   "execution_count": null,
   "metadata": {},
   "outputs": [],
   "source": [
    "ax = students_data['stress_level_mode'].plot(figsize=(10, 10), \n",
    "                                        kind=\"hist\", \n",
    "                                        bins=10, \n",
    "                                        alpha=1, \n",
    "                                        stacked=False, \n",
    "                                       xticks=[0 ,1, 2, 3, 4])\n",
    "plt.title(\"Stress Distribution\")\n",
    "plt.xlabel('Stress')\n",
    "plt.savefig(\"data_visualization/stress_labels_distribution.png\", format='png')\n",
    "\n"
   ]
  },
  {
   "cell_type": "code",
   "execution_count": null,
   "metadata": {},
   "outputs": [],
   "source": [
    "students_data['activity_inference_mode'].plot(figsize=(10, 10), \n",
    "                                        kind=\"hist\", \n",
    "                                        bins=10, \n",
    "                                        alpha=1, \n",
    "                                        stacked=False, \n",
    "                                        xticks=[0 , 1, 2 ,3])\n",
    "plt.title(\"Activity Distribution\")\n",
    "plt.xlabel(\"Activity Inference\")\n",
    "plt.savefig(\"data_visualization/activity_inference_distribution.png\", format='png')\n",
    "\n"
   ]
  },
  {
   "cell_type": "code",
   "execution_count": null,
   "metadata": {},
   "outputs": [],
   "source": [
    "students_data['audio_activity_inference_mode'].plot(figsize=(10, 10), \n",
    "                                        kind=\"hist\", \n",
    "                                        bins=10, \n",
    "                                        alpha=1, \n",
    "                                        stacked=False, \n",
    "                                        xticks=[0 ,1 ,2])\n",
    "plt.title(\"Audio Distribution\")\n",
    "plt.xlabel(\"Audio Inference\")\n",
    "plt.savefig(\"data_visualization/audio_inference_distribution.png\", format='png')"
   ]
  },
  {
   "cell_type": "code",
   "execution_count": null,
   "metadata": {},
   "outputs": [],
   "source": [
    "student_count = len(students_data['student_id'].unique())\n",
    "\n",
    "def sum_avg(array_like):\n",
    "    return np.sum(array_like) / student_count\n",
    "    \n",
    "conv_data = students_data['conv_duration_min_sum']\n",
    "conv_data = conv_data.resample(rule=\"1D\").agg(sum_avg)\n",
    "conv_data.plot(figsize=(10, 10), kind=\"line\", alpha=1, stacked=False, use_index=True)\n",
    "plt.title(\"Avg Conversation Accross Time\")\n",
    "plt.xlabel(\"Date\")\n",
    "plt.ylabel(\"Conversation Duration Minutes\")\n",
    "plt.savefig(\"data_visualization/conversation_duration.png\", format='png')"
   ]
  },
  {
   "cell_type": "code",
   "execution_count": null,
   "metadata": {},
   "outputs": [],
   "source": [
    "conv_data = students_data['hours_slept_sum']\n",
    "conv_data = conv_data.resample(rule=\"1D\").agg(sum_avg)\n",
    "conv_data.plot(figsize=(10, 10), kind=\"line\", alpha=1, stacked=False, use_index=True)\n",
    "plt.title(\"Avg Sleep Duration Accross Time\")\n",
    "plt.xlabel(\"Date\")\n",
    "plt.ylabel(\"Sleep In Hours\")\n",
    "plt.savefig(\"data_visualization/sleep_duration.png\", format='png')"
   ]
  }
 ],
 "metadata": {
  "kernelspec": {
   "display_name": "Python 3.5",
   "language": "python",
   "name": "myenv"
  },
  "language_info": {
   "codemirror_mode": {
    "name": "ipython",
    "version": 3
   },
   "file_extension": ".py",
   "mimetype": "text/x-python",
   "name": "python",
   "nbconvert_exporter": "python",
   "pygments_lexer": "ipython3",
   "version": "3.5.6"
  }
 },
 "nbformat": 4,
 "nbformat_minor": 2
}
