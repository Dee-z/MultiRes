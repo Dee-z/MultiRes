{
 "cells": [
  {
   "cell_type": "code",
   "execution_count": 19,
   "metadata": {},
   "outputs": [],
   "source": [
    "import os\n",
    "import sys\n",
    "\n",
    "cwd = os.getcwd()\n",
    "module_path = os.path.abspath(os.path.join('..'))\n",
    "sys.path.insert(0, os.path.join(cwd, \"../\"))\n",
    "\n",
    "import pickle\n",
    "from src.utils.read_utils import read_pickle\n",
    "import src.utils.data_conversion_utils as conversions\n",
    "import src.data_manager.student_life_var_binned_data_manager as data_manager\n",
    "import importlib\n",
    "import pandas as pd\n",
    "import numpy as np\n",
    "from tabulate import tabulate\n",
    "\n",
    "importlib.reload(conversions)\n",
    "importlib.reload(data_manager)\n",
    "\n",
    "# pickle_file_path = '../data/training_data/student_life_pickle.pkl'            \n",
    "# data = pickle.load(open(pickle_file_path,'rb'))\n",
    "data = data_manager.get_data_for_training_in_dict_format(2, 53, 46, 7, 49, 24, 22, 35)\n",
    "# data = conversions.convert_logical_not_missing_flags(data)\n",
    "missing_df = pd.DataFrame()\n",
    "\n",
    "for key in data['data'].keys():\n",
    "    unit_sequence = data['data'][key]\n",
    "    missing_values = unit_sequence[1]\n",
    "    missing_df = missing_df.append(pd.DataFrame(missing_values), ignore_index=True)\n",
    "    \n",
    "missing_df = missing_df.astype(bool)\n",
    "missing_df.columns = data_manager.FEATURE_LIST "
   ]
  },
  {
   "cell_type": "code",
   "execution_count": 20,
   "metadata": {},
   "outputs": [
    {
     "data": {
      "text/plain": [
       "day_of_week                      0.000000\n",
       "epoch_of_day                     0.000000\n",
       "time_since_last_label            0.016072\n",
       "time_to_next_label               0.000000\n",
       "activity_inference_mode          0.521163\n",
       "audio_activity_inference_mode    0.380037\n",
       "conv_duration_min_sum            0.983647\n",
       "dark_duration_min_sum            0.997763\n",
       "phonecharge_duration_min_sum     0.999222\n",
       "phonelock_duration_min_sum       0.999222\n",
       "latitude_mode                    0.957177\n",
       "longitude_mode                   0.957177\n",
       "hours_slept_sum                  0.999308\n",
       "sleep_rating_sum                 0.999308\n",
       "dtype: float64"
      ]
     },
     "metadata": {},
     "output_type": "display_data"
    }
   ],
   "source": [
    "display(missing_df.sum() / len(missing_df))"
   ]
  }
 ],
 "metadata": {
  "kernelspec": {
   "display_name": "Python 3",
   "language": "python",
   "name": "python3"
  },
  "language_info": {
   "codemirror_mode": {
    "name": "ipython",
    "version": 3
   },
   "file_extension": ".py",
   "mimetype": "text/x-python",
   "name": "python",
   "nbconvert_exporter": "python",
   "pygments_lexer": "ipython3",
   "version": "3.6.8"
  }
 },
 "nbformat": 4,
 "nbformat_minor": 2
}
