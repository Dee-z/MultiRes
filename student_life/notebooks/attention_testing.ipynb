{
 "cells": [
  {
   "cell_type": "code",
   "execution_count": 43,
   "metadata": {},
   "outputs": [
    {
     "data": {
      "text/plain": [
       "<module 'src.models.additive_attention' from '/media/abhinav/Projects/MultiRes/student_life/notebooks/../src/models/additive_attention.py'>"
      ]
     },
     "execution_count": 43,
     "metadata": {},
     "output_type": "execute_result"
    }
   ],
   "source": [
    "import os\n",
    "import sys\n",
    "cwd = os.getcwd()\n",
    "module_path = os.path.abspath(os.path.join('..'))\n",
    "sys.path.insert(0, os.path.join(cwd, \"../\"))\n",
    "\n",
    "from src.models import additive_attention as attention_module\n",
    "import torch\n",
    "import importlib\n",
    "\n",
    "importlib.reload(attention_module)\n",
    "\n"
   ]
  },
  {
   "cell_type": "code",
   "execution_count": 44,
   "metadata": {},
   "outputs": [
    {
     "name": "stdout",
     "output_type": "stream",
     "text": [
      "input_seq shape torch.Size([1, 24, 9])\n",
      "encoder_output_size 256, context_vector_size 128\n",
      "encoder_outputs 256 , context_vector 128\n",
      "weight_vector torch.Size([1, 24])\n",
      "expected_encoder_output torch.Size([1, 1, 256])\n",
      "input_vector torch.Size([1, 1, 9])\n",
      "rnn_input torch.Size([1, 1, 265])\n",
      "Only rnn output torch.Size([1, 1, 128])\n",
      "rnn_output torch.Size([1, 1, 128]) input_vector torch.Size([1, 1, 9]) expected_encoder_output torch.Size([1, 1, 256])\n",
      "decoder_output torch.Size([1, 1, 9])\n"
     ]
    }
   ],
   "source": [
    "num_features = 9\n",
    "seq_len = 24\n",
    "encoder_hidden_size = 128\n",
    "num_layers = 1\n",
    "is_cuda = False\n",
    "dropout_p = 0\n",
    "\n",
    "# Dummy input seq for testing.\n",
    "input_seq = torch.ones((seq_len , num_features))\n",
    "input_seq = input_seq.unsqueeze(0)\n",
    "print(\"input_seq shape\", input_seq.shape)\n",
    "\n",
    "\n",
    "####### Model Initialization #######\n",
    "encoder = attention_module.AttentionEncoder(num_features,\n",
    "                                   encoder_hidden_size, \n",
    "                                   num_layers ,\n",
    "                                   is_cuda,\n",
    "                                   dropout_p)\n",
    "\n",
    "encoder_output_size, context_vector_size = encoder.get_encoder_dimensions()\n",
    "print(\"encoder_output_size {}, context_vector_size {}\".format(encoder_output_size, context_vector_size))\n",
    "\n",
    "attention = attention_module.AdditiveAttention(encoder_output_size=encoder_output_size, \n",
    "                                               context_vector_size=context_vector_size)\n",
    "\n",
    "expected_context_vector_from_attention = attention_module.ExpectedContextVectorAfterAttention(attention)\n",
    "\n",
    "decoder = attention_module.AttentionDecoder(encoder_output_size=encoder_output_size, decoder_hidden_size=context_vector_size,\n",
    "                           attention=attention,\n",
    "                           input_size=num_features,\n",
    "                           output_size=num_features,\n",
    "                           dropout_p=0)\n",
    "\n",
    "####### Forward Pass #######\n",
    "\n",
    "encoder_outputs, context_vector = encoder(input_seq)\n",
    "print(\"encoder_outputs {} , context_vector {}\".format(encoder_output_size, context_vector_size))\n",
    "\n",
    "weight_vector = attention(encoder_outputs, context_vector)\n",
    "print(\"weight_vector\", weight_vector.shape)\n",
    "\n",
    "expected_encoder_output = expected_context_vector_from_attention(encoder_outputs, context_vector)\n",
    "print(\"expected_encoder_output\", expected_encoder_output.shape)\n",
    "\n",
    "input_vector = input_seq[:, -1, :].unsqueeze(0)\n",
    "print(\"input_vector\", input_vector.shape)\n",
    "\n",
    "decoder_output, _ = decoder(input_vector=input_vector,\n",
    "        encoder_outputs=encoder_outputs,\n",
    "        previous_decoder_hidden_state=context_vector)\n",
    "\n",
    "print(\"decoder_output\", decoder_output.shape)\n"
   ]
  }
 ],
 "metadata": {
  "kernelspec": {
   "display_name": "Python 3",
   "language": "python",
   "name": "python3"
  },
  "language_info": {
   "codemirror_mode": {
    "name": "ipython",
    "version": 3
   },
   "file_extension": ".py",
   "mimetype": "text/x-python",
   "name": "python",
   "nbconvert_exporter": "python",
   "pygments_lexer": "ipython3",
   "version": "3.6.8"
  }
 },
 "nbformat": 4,
 "nbformat_minor": 2
}
